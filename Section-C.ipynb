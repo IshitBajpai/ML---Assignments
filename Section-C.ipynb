{
 "cells": [
  {
   "cell_type": "code",
   "execution_count": 1,
   "id": "d06e12d2",
   "metadata": {},
   "outputs": [],
   "source": [
    "import pandas as pd\n",
    "import matplotlib.pyplot as plt\n",
    "import numpy as np\n",
    "import seaborn as sns\n",
    "import warnings\n",
    "warnings.filterwarnings(\"ignore\")"
   ]
  },
  {
   "cell_type": "code",
   "execution_count": 2,
   "id": "6ac98524",
   "metadata": {
    "scrolled": true
   },
   "outputs": [
    {
     "data": {
      "text/html": [
       "<div>\n",
       "<style scoped>\n",
       "    .dataframe tbody tr th:only-of-type {\n",
       "        vertical-align: middle;\n",
       "    }\n",
       "\n",
       "    .dataframe tbody tr th {\n",
       "        vertical-align: top;\n",
       "    }\n",
       "\n",
       "    .dataframe thead th {\n",
       "        text-align: right;\n",
       "    }\n",
       "</style>\n",
       "<table border=\"1\" class=\"dataframe\">\n",
       "  <thead>\n",
       "    <tr style=\"text-align: right;\">\n",
       "      <th></th>\n",
       "      <th>address</th>\n",
       "      <th>year</th>\n",
       "      <th>day</th>\n",
       "      <th>length</th>\n",
       "      <th>weight</th>\n",
       "      <th>count</th>\n",
       "      <th>looped</th>\n",
       "      <th>neighbors</th>\n",
       "      <th>income</th>\n",
       "      <th>label</th>\n",
       "    </tr>\n",
       "  </thead>\n",
       "  <tbody>\n",
       "    <tr>\n",
       "      <th>0</th>\n",
       "      <td>111K8kZAEnJg245r2cM6y9zgJGHZtJPy6</td>\n",
       "      <td>2017</td>\n",
       "      <td>11</td>\n",
       "      <td>18</td>\n",
       "      <td>0.008333</td>\n",
       "      <td>1</td>\n",
       "      <td>0</td>\n",
       "      <td>2</td>\n",
       "      <td>100050000.0</td>\n",
       "      <td>princetonCerber</td>\n",
       "    </tr>\n",
       "    <tr>\n",
       "      <th>1</th>\n",
       "      <td>1123pJv8jzeFQaCV4w644pzQJzVWay2zcA</td>\n",
       "      <td>2016</td>\n",
       "      <td>132</td>\n",
       "      <td>44</td>\n",
       "      <td>0.000244</td>\n",
       "      <td>1</td>\n",
       "      <td>0</td>\n",
       "      <td>1</td>\n",
       "      <td>100000000.0</td>\n",
       "      <td>princetonLocky</td>\n",
       "    </tr>\n",
       "    <tr>\n",
       "      <th>2</th>\n",
       "      <td>112536im7hy6wtKbpH1qYDWtTyMRAcA2p7</td>\n",
       "      <td>2016</td>\n",
       "      <td>246</td>\n",
       "      <td>0</td>\n",
       "      <td>1.000000</td>\n",
       "      <td>1</td>\n",
       "      <td>0</td>\n",
       "      <td>2</td>\n",
       "      <td>200000000.0</td>\n",
       "      <td>princetonCerber</td>\n",
       "    </tr>\n",
       "    <tr>\n",
       "      <th>3</th>\n",
       "      <td>1126eDRw2wqSkWosjTCre8cjjQW8sSeWH7</td>\n",
       "      <td>2016</td>\n",
       "      <td>322</td>\n",
       "      <td>72</td>\n",
       "      <td>0.003906</td>\n",
       "      <td>1</td>\n",
       "      <td>0</td>\n",
       "      <td>2</td>\n",
       "      <td>71200000.0</td>\n",
       "      <td>princetonCerber</td>\n",
       "    </tr>\n",
       "    <tr>\n",
       "      <th>4</th>\n",
       "      <td>1129TSjKtx65E35GiUo4AYVeyo48twbrGX</td>\n",
       "      <td>2016</td>\n",
       "      <td>238</td>\n",
       "      <td>144</td>\n",
       "      <td>0.072848</td>\n",
       "      <td>456</td>\n",
       "      <td>0</td>\n",
       "      <td>1</td>\n",
       "      <td>200000000.0</td>\n",
       "      <td>princetonLocky</td>\n",
       "    </tr>\n",
       "  </tbody>\n",
       "</table>\n",
       "</div>"
      ],
      "text/plain": [
       "                              address  year  day  length    weight  count  \\\n",
       "0   111K8kZAEnJg245r2cM6y9zgJGHZtJPy6  2017   11      18  0.008333      1   \n",
       "1  1123pJv8jzeFQaCV4w644pzQJzVWay2zcA  2016  132      44  0.000244      1   \n",
       "2  112536im7hy6wtKbpH1qYDWtTyMRAcA2p7  2016  246       0  1.000000      1   \n",
       "3  1126eDRw2wqSkWosjTCre8cjjQW8sSeWH7  2016  322      72  0.003906      1   \n",
       "4  1129TSjKtx65E35GiUo4AYVeyo48twbrGX  2016  238     144  0.072848    456   \n",
       "\n",
       "   looped  neighbors       income            label  \n",
       "0       0          2  100050000.0  princetonCerber  \n",
       "1       0          1  100000000.0   princetonLocky  \n",
       "2       0          2  200000000.0  princetonCerber  \n",
       "3       0          2   71200000.0  princetonCerber  \n",
       "4       0          1  200000000.0   princetonLocky  "
      ]
     },
     "execution_count": 2,
     "metadata": {},
     "output_type": "execute_result"
    }
   ],
   "source": [
    "df = pd.read_csv(\"BitcoinHeistData.csv\")\n",
    "df.head()"
   ]
  },
  {
   "cell_type": "code",
   "execution_count": 3,
   "id": "834baab8",
   "metadata": {},
   "outputs": [],
   "source": [
    "# address = pd.get_dummies(df.address,drop_first=True)\n",
    "# df.drop([\"address\"],axis=1,inplace = True)\n",
    "# df = pd.concat([df,address],axis = 1)\n",
    "# df.head(3)"
   ]
  },
  {
   "cell_type": "code",
   "execution_count": 4,
   "id": "ff4bcc9b",
   "metadata": {},
   "outputs": [
    {
     "data": {
      "text/html": [
       "<div>\n",
       "<style scoped>\n",
       "    .dataframe tbody tr th:only-of-type {\n",
       "        vertical-align: middle;\n",
       "    }\n",
       "\n",
       "    .dataframe tbody tr th {\n",
       "        vertical-align: top;\n",
       "    }\n",
       "\n",
       "    .dataframe thead th {\n",
       "        text-align: right;\n",
       "    }\n",
       "</style>\n",
       "<table border=\"1\" class=\"dataframe\">\n",
       "  <thead>\n",
       "    <tr style=\"text-align: right;\">\n",
       "      <th></th>\n",
       "      <th>address</th>\n",
       "      <th>year</th>\n",
       "      <th>day</th>\n",
       "      <th>length</th>\n",
       "      <th>weight</th>\n",
       "      <th>count</th>\n",
       "      <th>looped</th>\n",
       "      <th>neighbors</th>\n",
       "      <th>income</th>\n",
       "      <th>label</th>\n",
       "    </tr>\n",
       "  </thead>\n",
       "  <tbody>\n",
       "    <tr>\n",
       "      <th>0</th>\n",
       "      <td>23</td>\n",
       "      <td>2017</td>\n",
       "      <td>11</td>\n",
       "      <td>18</td>\n",
       "      <td>0.008333</td>\n",
       "      <td>1</td>\n",
       "      <td>0</td>\n",
       "      <td>2</td>\n",
       "      <td>100050000.0</td>\n",
       "      <td>26</td>\n",
       "    </tr>\n",
       "    <tr>\n",
       "      <th>1</th>\n",
       "      <td>128</td>\n",
       "      <td>2016</td>\n",
       "      <td>132</td>\n",
       "      <td>44</td>\n",
       "      <td>0.000244</td>\n",
       "      <td>1</td>\n",
       "      <td>0</td>\n",
       "      <td>1</td>\n",
       "      <td>100000000.0</td>\n",
       "      <td>27</td>\n",
       "    </tr>\n",
       "    <tr>\n",
       "      <th>2</th>\n",
       "      <td>169</td>\n",
       "      <td>2016</td>\n",
       "      <td>246</td>\n",
       "      <td>0</td>\n",
       "      <td>1.000000</td>\n",
       "      <td>1</td>\n",
       "      <td>0</td>\n",
       "      <td>2</td>\n",
       "      <td>200000000.0</td>\n",
       "      <td>26</td>\n",
       "    </tr>\n",
       "    <tr>\n",
       "      <th>3</th>\n",
       "      <td>217</td>\n",
       "      <td>2016</td>\n",
       "      <td>322</td>\n",
       "      <td>72</td>\n",
       "      <td>0.003906</td>\n",
       "      <td>1</td>\n",
       "      <td>0</td>\n",
       "      <td>2</td>\n",
       "      <td>71200000.0</td>\n",
       "      <td>26</td>\n",
       "    </tr>\n",
       "    <tr>\n",
       "      <th>4</th>\n",
       "      <td>293</td>\n",
       "      <td>2016</td>\n",
       "      <td>238</td>\n",
       "      <td>144</td>\n",
       "      <td>0.072848</td>\n",
       "      <td>456</td>\n",
       "      <td>0</td>\n",
       "      <td>1</td>\n",
       "      <td>200000000.0</td>\n",
       "      <td>27</td>\n",
       "    </tr>\n",
       "  </tbody>\n",
       "</table>\n",
       "</div>"
      ],
      "text/plain": [
       "   address  year  day  length    weight  count  looped  neighbors  \\\n",
       "0       23  2017   11      18  0.008333      1       0          2   \n",
       "1      128  2016  132      44  0.000244      1       0          1   \n",
       "2      169  2016  246       0  1.000000      1       0          2   \n",
       "3      217  2016  322      72  0.003906      1       0          2   \n",
       "4      293  2016  238     144  0.072848    456       0          1   \n",
       "\n",
       "        income  label  \n",
       "0  100050000.0     26  \n",
       "1  100000000.0     27  \n",
       "2  200000000.0     26  \n",
       "3   71200000.0     26  \n",
       "4  200000000.0     27  "
      ]
     },
     "execution_count": 4,
     "metadata": {},
     "output_type": "execute_result"
    }
   ],
   "source": [
    "from sklearn.preprocessing import LabelEncoder\n",
    "le =  LabelEncoder()\n",
    "df['label'] = le.fit_transform(df['label'])\n",
    "# df.drop([\"address\"],axis=1,inplace = True)\n",
    "\n",
    "le1 = LabelEncoder()\n",
    "df['address'] = le.fit_transform(df['address'])\n",
    "df.head()"
   ]
  },
  {
   "cell_type": "code",
   "execution_count": 5,
   "id": "175652d7",
   "metadata": {},
   "outputs": [
    {
     "data": {
      "text/html": [
       "<div>\n",
       "<style scoped>\n",
       "    .dataframe tbody tr th:only-of-type {\n",
       "        vertical-align: middle;\n",
       "    }\n",
       "\n",
       "    .dataframe tbody tr th {\n",
       "        vertical-align: top;\n",
       "    }\n",
       "\n",
       "    .dataframe thead th {\n",
       "        text-align: right;\n",
       "    }\n",
       "</style>\n",
       "<table border=\"1\" class=\"dataframe\">\n",
       "  <thead>\n",
       "    <tr style=\"text-align: right;\">\n",
       "      <th></th>\n",
       "      <th>address</th>\n",
       "      <th>year</th>\n",
       "      <th>day</th>\n",
       "      <th>length</th>\n",
       "      <th>weight</th>\n",
       "      <th>count</th>\n",
       "      <th>looped</th>\n",
       "      <th>neighbors</th>\n",
       "      <th>income</th>\n",
       "      <th>label</th>\n",
       "    </tr>\n",
       "  </thead>\n",
       "  <tbody>\n",
       "    <tr>\n",
       "      <th>count</th>\n",
       "      <td>2.916697e+06</td>\n",
       "      <td>2.916697e+06</td>\n",
       "      <td>2.916697e+06</td>\n",
       "      <td>2.916697e+06</td>\n",
       "      <td>2.916697e+06</td>\n",
       "      <td>2.916697e+06</td>\n",
       "      <td>2.916697e+06</td>\n",
       "      <td>2.916697e+06</td>\n",
       "      <td>2.916697e+06</td>\n",
       "      <td>2.916697e+06</td>\n",
       "    </tr>\n",
       "    <tr>\n",
       "      <th>mean</th>\n",
       "      <td>1.309088e+06</td>\n",
       "      <td>2.014475e+03</td>\n",
       "      <td>1.814572e+02</td>\n",
       "      <td>4.500859e+01</td>\n",
       "      <td>5.455192e-01</td>\n",
       "      <td>7.216446e+02</td>\n",
       "      <td>2.385067e+02</td>\n",
       "      <td>2.206516e+00</td>\n",
       "      <td>4.464889e+09</td>\n",
       "      <td>2.786413e+01</td>\n",
       "    </tr>\n",
       "    <tr>\n",
       "      <th>std</th>\n",
       "      <td>7.568217e+05</td>\n",
       "      <td>2.257398e+00</td>\n",
       "      <td>1.040118e+02</td>\n",
       "      <td>5.898236e+01</td>\n",
       "      <td>3.674255e+00</td>\n",
       "      <td>1.689676e+03</td>\n",
       "      <td>9.663217e+02</td>\n",
       "      <td>1.791877e+01</td>\n",
       "      <td>1.626860e+11</td>\n",
       "      <td>1.619233e+00</td>\n",
       "    </tr>\n",
       "    <tr>\n",
       "      <th>min</th>\n",
       "      <td>0.000000e+00</td>\n",
       "      <td>2.011000e+03</td>\n",
       "      <td>1.000000e+00</td>\n",
       "      <td>0.000000e+00</td>\n",
       "      <td>3.606469e-94</td>\n",
       "      <td>1.000000e+00</td>\n",
       "      <td>0.000000e+00</td>\n",
       "      <td>1.000000e+00</td>\n",
       "      <td>3.000000e+07</td>\n",
       "      <td>0.000000e+00</td>\n",
       "    </tr>\n",
       "    <tr>\n",
       "      <th>25%</th>\n",
       "      <td>6.540070e+05</td>\n",
       "      <td>2.013000e+03</td>\n",
       "      <td>9.200000e+01</td>\n",
       "      <td>2.000000e+00</td>\n",
       "      <td>2.148438e-02</td>\n",
       "      <td>1.000000e+00</td>\n",
       "      <td>0.000000e+00</td>\n",
       "      <td>1.000000e+00</td>\n",
       "      <td>7.428559e+07</td>\n",
       "      <td>2.800000e+01</td>\n",
       "    </tr>\n",
       "    <tr>\n",
       "      <th>50%</th>\n",
       "      <td>1.308551e+06</td>\n",
       "      <td>2.014000e+03</td>\n",
       "      <td>1.810000e+02</td>\n",
       "      <td>8.000000e+00</td>\n",
       "      <td>2.500000e-01</td>\n",
       "      <td>1.000000e+00</td>\n",
       "      <td>0.000000e+00</td>\n",
       "      <td>2.000000e+00</td>\n",
       "      <td>1.999985e+08</td>\n",
       "      <td>2.800000e+01</td>\n",
       "    </tr>\n",
       "    <tr>\n",
       "      <th>75%</th>\n",
       "      <td>1.963599e+06</td>\n",
       "      <td>2.016000e+03</td>\n",
       "      <td>2.710000e+02</td>\n",
       "      <td>1.080000e+02</td>\n",
       "      <td>8.819482e-01</td>\n",
       "      <td>5.600000e+01</td>\n",
       "      <td>0.000000e+00</td>\n",
       "      <td>2.000000e+00</td>\n",
       "      <td>9.940000e+08</td>\n",
       "      <td>2.800000e+01</td>\n",
       "    </tr>\n",
       "    <tr>\n",
       "      <th>max</th>\n",
       "      <td>2.631094e+06</td>\n",
       "      <td>2.018000e+03</td>\n",
       "      <td>3.650000e+02</td>\n",
       "      <td>1.440000e+02</td>\n",
       "      <td>1.943749e+03</td>\n",
       "      <td>1.449700e+04</td>\n",
       "      <td>1.449600e+04</td>\n",
       "      <td>1.292000e+04</td>\n",
       "      <td>4.996440e+13</td>\n",
       "      <td>2.800000e+01</td>\n",
       "    </tr>\n",
       "  </tbody>\n",
       "</table>\n",
       "</div>"
      ],
      "text/plain": [
       "            address          year           day        length        weight  \\\n",
       "count  2.916697e+06  2.916697e+06  2.916697e+06  2.916697e+06  2.916697e+06   \n",
       "mean   1.309088e+06  2.014475e+03  1.814572e+02  4.500859e+01  5.455192e-01   \n",
       "std    7.568217e+05  2.257398e+00  1.040118e+02  5.898236e+01  3.674255e+00   \n",
       "min    0.000000e+00  2.011000e+03  1.000000e+00  0.000000e+00  3.606469e-94   \n",
       "25%    6.540070e+05  2.013000e+03  9.200000e+01  2.000000e+00  2.148438e-02   \n",
       "50%    1.308551e+06  2.014000e+03  1.810000e+02  8.000000e+00  2.500000e-01   \n",
       "75%    1.963599e+06  2.016000e+03  2.710000e+02  1.080000e+02  8.819482e-01   \n",
       "max    2.631094e+06  2.018000e+03  3.650000e+02  1.440000e+02  1.943749e+03   \n",
       "\n",
       "              count        looped     neighbors        income         label  \n",
       "count  2.916697e+06  2.916697e+06  2.916697e+06  2.916697e+06  2.916697e+06  \n",
       "mean   7.216446e+02  2.385067e+02  2.206516e+00  4.464889e+09  2.786413e+01  \n",
       "std    1.689676e+03  9.663217e+02  1.791877e+01  1.626860e+11  1.619233e+00  \n",
       "min    1.000000e+00  0.000000e+00  1.000000e+00  3.000000e+07  0.000000e+00  \n",
       "25%    1.000000e+00  0.000000e+00  1.000000e+00  7.428559e+07  2.800000e+01  \n",
       "50%    1.000000e+00  0.000000e+00  2.000000e+00  1.999985e+08  2.800000e+01  \n",
       "75%    5.600000e+01  0.000000e+00  2.000000e+00  9.940000e+08  2.800000e+01  \n",
       "max    1.449700e+04  1.449600e+04  1.292000e+04  4.996440e+13  2.800000e+01  "
      ]
     },
     "execution_count": 5,
     "metadata": {},
     "output_type": "execute_result"
    }
   ],
   "source": [
    "df.describe()"
   ]
  },
  {
   "cell_type": "code",
   "execution_count": 6,
   "id": "1e16eeaa",
   "metadata": {},
   "outputs": [
    {
     "data": {
      "text/plain": [
       "address      0\n",
       "year         0\n",
       "day          0\n",
       "length       0\n",
       "weight       0\n",
       "count        0\n",
       "looped       0\n",
       "neighbors    0\n",
       "income       0\n",
       "label        0\n",
       "dtype: int64"
      ]
     },
     "execution_count": 6,
     "metadata": {},
     "output_type": "execute_result"
    }
   ],
   "source": [
    "df.isnull().sum()"
   ]
  },
  {
   "cell_type": "code",
   "execution_count": 7,
   "id": "b2509c32",
   "metadata": {},
   "outputs": [
    {
     "data": {
      "text/plain": [
       "29"
      ]
     },
     "execution_count": 7,
     "metadata": {},
     "output_type": "execute_result"
    }
   ],
   "source": [
    "len(df.label.value_counts())"
   ]
  },
  {
   "cell_type": "code",
   "execution_count": 8,
   "id": "037f664c",
   "metadata": {},
   "outputs": [],
   "source": [
    "# import random\n",
    "# def split(df,train_size = 0.75,val_size = 0.15,test_size = 0.15):\n",
    "#     train_data_size = int(len(df)* train_size)\n",
    "#     val_data_size   = int(len(df) * val_size)\n",
    "#     test_data_size  = int(len(df) * test_size)\n",
    "#     df_copy  = df.copy() \n",
    "#     print(\"Decided.........\")\n",
    "#     # Creating training data\n",
    "#     train = pd.DataFrame(columns=df.columns)        \n",
    "#     for j in range(train_data_size):\n",
    "#             rowidx  =  random.randint(0, len(df_copy)-1)  #selecting random row and adding it to the train\n",
    "#             train = pd.concat([train,df_copy.iloc[rowidx:rowidx+1,:]])\n",
    "#             df_copy.drop(index = rowidx, inplace=True) # droping the row and resetting the index \n",
    "#             df_copy.reset_index(drop=True,inplace = True)\n",
    "#     print(\"Done.........\")\n",
    "#     # Creating validation data\n",
    "#     val = pd.DataFrame(columns=df.columns)        \n",
    "#     for j in range(val_data_size):\n",
    "#             rowidx  =  random.randint(0, len(df_copy)-1)  #selecting random row and adding it to the train\n",
    "#             val = pd.concat([val,df_copy.iloc[rowidx:rowidx+1,:]])\n",
    "#             df_copy.drop(index = rowidx, inplace=True)  # droping the row and resetting the index \n",
    "#             df_copy.reset_index(drop=True,inplace = True)\n",
    "#     print(\"Done.........\")     \n",
    "#     # Creating testing data\n",
    "#     test = pd.DataFrame(columns=df.columns)        \n",
    "#     for j in range(test_data_size):\n",
    "#             rowidx  =  random.randint(0, len(df_copy)-1)    #selecting random row and adding it to the train\n",
    "#             test = pd.concat([test,df_copy.iloc[rowidx:rowidx+1,:]])\n",
    "#             df_copy.drop(index = rowidx, inplace=True) # droping the row and resetting the index \n",
    "#             df_copy.reset_index(drop=True,inplace = True)\n",
    "\n",
    "#     print(\"Done.........\") \n",
    "#     return train,val,test\n",
    "\n",
    "\n",
    "\n",
    "# # def k_fold(df,k):  # returns df  of k - folds\n",
    "# #     fold_size = int ( len(df) / k ) # flooring down\n",
    "# #     df_copy  = df.copy() \n",
    "    \n",
    "# #     folds = []  #  will store dataframes\n",
    "# #     for i in range(k):\n",
    "# #         new_df = pd.DataFrame(columns=df.columns)\n",
    "        \n",
    "        \n",
    "# #         for j in range(fold_size):\n",
    "# #             #selecting random row and adding it to the new_df\n",
    "# #             rowidx  =  random.randint(0, len(df_copy)-1)\n",
    "# #             new_df = pd.concat([new_df,df_copy.iloc[rowidx:rowidx+1,:]])\n",
    "# #             # droping the row and resetting the index \n",
    "# #             df_copy.drop(index = rowidx, inplace=True)\n",
    "# #             df_copy.reset_index(drop=True,inplace = True)\n",
    "            \n",
    "                        \n",
    "# #         folds.append(new_df)   \n",
    "    \n",
    "# #     return folds "
   ]
  },
  {
   "cell_type": "code",
   "execution_count": 9,
   "id": "d6848e35",
   "metadata": {},
   "outputs": [],
   "source": [
    "# train,val,test = split(df)"
   ]
  },
  {
   "cell_type": "code",
   "execution_count": 10,
   "id": "f2fe8b29",
   "metadata": {},
   "outputs": [],
   "source": [
    "# len(train)\n",
    "# len(test)\n",
    "# len(val)"
   ]
  },
  {
   "cell_type": "code",
   "execution_count": 11,
   "id": "6a7d9c29",
   "metadata": {},
   "outputs": [],
   "source": [
    "# len(df)"
   ]
  },
  {
   "cell_type": "code",
   "execution_count": 12,
   "id": "c9f302ba",
   "metadata": {},
   "outputs": [
    {
     "data": {
      "text/plain": [
       "array([2.30000000e+01, 2.01700000e+03, 1.10000000e+01, 1.80000000e+01,\n",
       "       8.33333333e-03, 1.00000000e+00, 0.00000000e+00, 2.00000000e+00,\n",
       "       1.00050000e+08, 2.60000000e+01])"
      ]
     },
     "execution_count": 12,
     "metadata": {},
     "output_type": "execute_result"
    }
   ],
   "source": [
    "data = df.to_numpy()\n",
    "data[0]"
   ]
  },
  {
   "cell_type": "markdown",
   "id": "f1f82579",
   "metadata": {},
   "source": [
    "# custom split"
   ]
  },
  {
   "cell_type": "code",
   "execution_count": 13,
   "id": "a6567500",
   "metadata": {},
   "outputs": [],
   "source": [
    "train_size = 0.70\n",
    "val_size = 0.15\n",
    "test_size = 0.15\n",
    "\n",
    "train_data_size = int(len(data)* train_size)\n",
    "val_data_size   = int(len(data) * val_size)\n",
    "test_data_size  = int(len(data) * test_size)\n",
    "\n",
    "np.random.shuffle(data)\n",
    "train = data[:train_data_size]\n",
    "val = data[train_data_size : train_data_size+val_data_size]\n",
    "test = data[train_data_size+val_data_size:train_data_size+val_data_size+test_data_size]"
   ]
  },
  {
   "cell_type": "code",
   "execution_count": 14,
   "id": "e145bdd8",
   "metadata": {},
   "outputs": [
    {
     "name": "stdout",
     "output_type": "stream",
     "text": [
      "2041687 2041687\n",
      "437504 437504\n",
      "437504 437504\n"
     ]
    }
   ],
   "source": [
    "print(train_data_size,len(train))\n",
    "print(val_data_size,len(val))\n",
    "print(test_data_size,len(test))"
   ]
  },
  {
   "cell_type": "code",
   "execution_count": 15,
   "id": "4ef3f64b",
   "metadata": {},
   "outputs": [],
   "source": [
    "X_train = train[:,:-1]\n",
    "X_val = val[:,:-1]\n",
    "X_test = test[:,:-1]\n",
    "\n",
    "y_train = train[:,-1]\n",
    "y_val = val[:,-1]\n",
    "y_test = test[:,-1]"
   ]
  },
  {
   "cell_type": "code",
   "execution_count": 25,
   "id": "cee3d60a",
   "metadata": {},
   "outputs": [
    {
     "data": {
      "text/plain": [
       "array([[2.2881620e+06, 2.0140000e+03, 1.4900000e+02, 0.0000000e+00,\n",
       "        5.0000000e-01, 1.0000000e+00, 0.0000000e+00, 1.0000000e+00,\n",
       "        3.7079405e+07]])"
      ]
     },
     "execution_count": 25,
     "metadata": {},
     "output_type": "execute_result"
    }
   ],
   "source": [
    "y=X_test[0].reshape(1,-1)\n",
    "y"
   ]
  },
  {
   "cell_type": "code",
   "execution_count": 40,
   "id": "0a8d7d33",
   "metadata": {},
   "outputs": [],
   "source": [
    "from sklearn.tree import DecisionTreeClassifier\n",
    "from sklearn.metrics import accuracy_score\n",
    "\n",
    "test_accuracy_gini = []\n",
    "val_accuracy_gini = []\n",
    "\n",
    "\n",
    "\n",
    "\n",
    "depth = [4, 8, 10, 15, 20]\n",
    "\n",
    "for i in range(len(depth)):\n",
    "    model = DecisionTreeClassifier(criterion= 'gini' ,max_depth = depth[i] , random_state = 42)\n",
    "    model.fit(X_train, y_train)\n",
    "    \n",
    "    y_pred = model.predict(X_test)\n",
    "    y_val_pred = model.predict(X_val)\n",
    "    \n",
    "    \n",
    "    test_accuracy_gini.append(accuracy_score(y_test,y_pred))\n",
    "    val_accuracy_gini.append(accuracy_score(y_val,y_val_pred))\n",
    "    \n",
    "#     accuracy_gini.append(model.score(X_test,y_test))"
   ]
  },
  {
   "cell_type": "code",
   "execution_count": 41,
   "id": "7c73a335",
   "metadata": {},
   "outputs": [
    {
     "name": "stdout",
     "output_type": "stream",
     "text": [
      "[0.9858949861029842, 0.98650069485079, 0.9870424041837331, 0.988237821825629, 0.9879703956992393]\n",
      "0.9871292605324751\n"
     ]
    }
   ],
   "source": [
    "print(test_accuracy_gini)\n",
    "test_accuracy_gini = np.array(test_accuracy_gini)\n",
    "print(test_accuracy_gini.mean())"
   ]
  },
  {
   "cell_type": "code",
   "execution_count": 42,
   "id": "02dd0699",
   "metadata": {},
   "outputs": [
    {
     "name": "stdout",
     "output_type": "stream",
     "text": [
      "[0.9857235590988882, 0.9865281231714453, 0.9869372622878877, 0.9882926784669397, 0.9877669689877121]\n",
      "0.9870497184025746\n"
     ]
    }
   ],
   "source": [
    "print(val_accuracy_gini)\n",
    "val_accuracy_gini = np.array(val_accuracy_gini)\n",
    "print(val_accuracy_gini.mean())"
   ]
  },
  {
   "cell_type": "code",
   "execution_count": 43,
   "id": "23e9e564",
   "metadata": {},
   "outputs": [],
   "source": [
    "test_accuracy_entropy = []\n",
    "val__accuracy_entropy = []\n",
    "\n",
    "for i in range(len(depth)):\n",
    "    model = DecisionTreeClassifier(criterion= 'entropy' ,max_depth = depth[i] , random_state = 42)\n",
    "    model.fit(X_train, y_train)\n",
    "    y_pred = model.predict(X_test)\n",
    "    y_val_pred = model.predict(X_val)\n",
    "    \n",
    "    test_accuracy_entropy.append(accuracy_score(y_test,y_pred))\n",
    "    val__accuracy_entropy.append(accuracy_score(y_val,y_val_pred))\n",
    "    "
   ]
  },
  {
   "cell_type": "code",
   "execution_count": 44,
   "id": "d45327a4",
   "metadata": {},
   "outputs": [
    {
     "name": "stdout",
     "output_type": "stream",
     "text": [
      "[0.9858309866881217, 0.9861738406963136, 0.9873418300175542, 0.9889875292568754, 0.9881761081041545]\n",
      "0.9873020589526039\n"
     ]
    }
   ],
   "source": [
    "print(test_accuracy_entropy) \n",
    "test_accuracy_entropy = np.array(test_accuracy_entropy)\n",
    "print(test_accuracy_entropy.mean())"
   ]
  },
  {
   "cell_type": "code",
   "execution_count": 45,
   "id": "20a6bfb0",
   "metadata": {},
   "outputs": [
    {
     "name": "stdout",
     "output_type": "stream",
     "text": [
      "[0.985648131217086, 0.9860686988004681, 0.9874401148332358, 0.9889212441486249, 0.9879018248976009]\n",
      "0.9871960027794031\n"
     ]
    }
   ],
   "source": [
    "print(val__accuracy_entropy) \n",
    "val__accuracy_entropy = np.array(val__accuracy_entropy)\n",
    "print(val__accuracy_entropy.mean())"
   ]
  },
  {
   "cell_type": "markdown",
   "id": "fb4ad0de",
   "metadata": {},
   "source": [
    "# Ensembling"
   ]
  },
  {
   "cell_type": "code",
   "execution_count": 32,
   "id": "e7495f1e",
   "metadata": {},
   "outputs": [],
   "source": [
    "import random\n",
    "def randomData(train): # gives50% of training data(random)\n",
    "    np.random.shuffle(train)\n",
    "    random_X = train[:len(train/2),:-1]\n",
    "    random_y = train[:len(train/2),-1]                   \n",
    "    return random_X,random_y\n",
    "\n",
    "\n",
    "def sampling(X_train,y_train,train,depth = 3):\n",
    "    # creates 100 different models \n",
    "    models = [ ]\n",
    "    for i in range(100):\n",
    "        print(\"training \",i+1,\" model\")\n",
    "        X_t,y_t = randomData(train)\n",
    "        model = DecisionTreeClassifier(criterion= 'entropy' ,max_depth = depth , random_state = 42)\n",
    "        model.fit(X_t,y_t)\n",
    "        models.append(model)\n",
    "    return models\n",
    "        \n",
    "def report_accuracy(models,X_test,y_test): # it predicts majority elemts and gives accuracy as result\n",
    "    test_size = len(y_test)\n",
    "    correct_prediction = 0\n",
    "    \n",
    "    for i in range(test_size):\n",
    "        # take one sample and predict its output\n",
    "        predictions = []\n",
    "        for model in models:\n",
    "            y_pred = model.predict(X_test[i].reshape(1,-1))\n",
    "            predictions.append(int(y_pred))\n",
    "#         print(\"Tested on \",i,\" sample\")\n",
    "        \n",
    "        # we have output for a single X from 100 models ; take majority vote\n",
    "        # Assumption:only one most freq\n",
    "        predictions =  np.array(predictions)\n",
    "        majority_vote = np.bincount(predictions).argmax()\n",
    "        if(majority_vote == y_test[i]):\n",
    "            correct_prediction+=1\n",
    "        \n",
    "    accuracy = (correct_prediction/test_size)\n",
    "    return accuracy\n",
    "                   "
   ]
  },
  {
   "cell_type": "code",
   "execution_count": null,
   "id": "596588dc",
   "metadata": {},
   "outputs": [],
   "source": []
  },
  {
   "cell_type": "code",
   "execution_count": 28,
   "id": "a6f4e8d3",
   "metadata": {},
   "outputs": [
    {
     "name": "stdout",
     "output_type": "stream",
     "text": [
      "training  1  model\n",
      "training  2  model\n",
      "training  3  model\n",
      "training  4  model\n",
      "training  5  model\n",
      "training  6  model\n",
      "training  7  model\n",
      "training  8  model\n",
      "training  9  model\n",
      "training  10  model\n",
      "training  11  model\n",
      "training  12  model\n",
      "training  13  model\n",
      "training  14  model\n",
      "training  15  model\n",
      "training  16  model\n",
      "training  17  model\n",
      "training  18  model\n",
      "training  19  model\n",
      "training  20  model\n",
      "training  21  model\n",
      "training  22  model\n",
      "training  23  model\n",
      "training  24  model\n",
      "training  25  model\n",
      "training  26  model\n",
      "training  27  model\n",
      "training  28  model\n",
      "training  29  model\n",
      "training  30  model\n",
      "training  31  model\n",
      "training  32  model\n",
      "training  33  model\n",
      "training  34  model\n",
      "training  35  model\n",
      "training  36  model\n",
      "training  37  model\n",
      "training  38  model\n",
      "training  39  model\n",
      "training  40  model\n",
      "training  41  model\n",
      "training  42  model\n",
      "training  43  model\n",
      "training  44  model\n",
      "training  45  model\n",
      "training  46  model\n",
      "training  47  model\n",
      "training  48  model\n",
      "training  49  model\n",
      "training  50  model\n",
      "training  51  model\n",
      "training  52  model\n",
      "training  53  model\n",
      "training  54  model\n",
      "training  55  model\n",
      "training  56  model\n",
      "training  57  model\n",
      "training  58  model\n",
      "training  59  model\n",
      "training  60  model\n",
      "training  61  model\n",
      "training  62  model\n",
      "training  63  model\n",
      "training  64  model\n",
      "training  65  model\n",
      "training  66  model\n",
      "training  67  model\n",
      "training  68  model\n",
      "training  69  model\n",
      "training  70  model\n",
      "training  71  model\n",
      "training  72  model\n",
      "training  73  model\n",
      "training  74  model\n",
      "training  75  model\n",
      "training  76  model\n",
      "training  77  model\n",
      "training  78  model\n",
      "training  79  model\n",
      "training  80  model\n",
      "training  81  model\n",
      "training  82  model\n",
      "training  83  model\n",
      "training  84  model\n",
      "training  85  model\n",
      "training  86  model\n",
      "training  87  model\n",
      "training  88  model\n",
      "training  89  model\n",
      "training  90  model\n",
      "training  91  model\n",
      "training  92  model\n",
      "training  93  model\n",
      "training  94  model\n",
      "training  95  model\n",
      "training  96  model\n",
      "training  97  model\n",
      "training  98  model\n",
      "training  99  model\n",
      "training  100  model\n"
     ]
    }
   ],
   "source": [
    "# Performance\n",
    "models = sampling(X_train,y_train,train)"
   ]
  },
  {
   "cell_type": "code",
   "execution_count": 33,
   "id": "ec368c0a",
   "metadata": {},
   "outputs": [
    {
     "name": "stdout",
     "output_type": "stream",
     "text": [
      "Accuracy for Testing: 0.9858309866881217\n"
     ]
    }
   ],
   "source": [
    "print(\"Accuracy for Testing:\",report_accuracy(models,X_test,y_test))"
   ]
  },
  {
   "cell_type": "code",
   "execution_count": 34,
   "id": "35aec04e",
   "metadata": {},
   "outputs": [
    {
     "name": "stdout",
     "output_type": "stream",
     "text": [
      "Accuracy for Validation: 0.985648131217086\n"
     ]
    }
   ],
   "source": [
    "print(\"Accuracy for Validation:\",report_accuracy(models,X_val,y_val))"
   ]
  },
  {
   "cell_type": "code",
   "execution_count": null,
   "id": "78c6dbf8",
   "metadata": {},
   "outputs": [],
   "source": [
    "X_test"
   ]
  },
  {
   "cell_type": "code",
   "execution_count": null,
   "id": "3ee80f17",
   "metadata": {},
   "outputs": [],
   "source": [
    "a = np.array([1,2,3])\n",
    "a.reshape(1,-1)"
   ]
  },
  {
   "cell_type": "code",
   "execution_count": null,
   "id": "551d9a99",
   "metadata": {},
   "outputs": [],
   "source": [
    "# #Running ada boost on our dataset\n",
    "# model=AdaBoostClassifier(base_estimator=DecisionTreeClassifier(criterion='entropy'))\n",
    "# model.fit(train_x,train_y)\n",
    "# ypred=model.predict(test_x)\n",
    "# accuracy=calculate_score(ypred,test_y)\n",
    "# print(\"Using AdaBoost:\",\"\\nModel Accuracy:\",accuracy,'\\n')\n",
    "\n",
    "# estimators=[4,8,10,15,20]\n",
    "# #Run the ada boost classifer for different estimators and print results\n",
    "# for i in estimators:\n",
    "#   model=AdaBoostClassifier(base_estimator=DecisionTreeClassifier(criterion='entropy'),n_estimators=i)\n",
    "#   random_train_x, random_train_y=randomData()\n",
    "#   model.fit(random_train_x, random_train_y)\n",
    "#   acc={\n",
    "#       'training_accuracy':calculate_score( model.predict(train_x),train_y),\n",
    "#        'testing_accuracy':calculate_score( model.predict(test_x),test_y),\n",
    "#        'validation_accuracy':calculate_score( model.predict(valid_x),valid_y)\n",
    "#   }\n",
    "#   print(f'Results for estimator={i}')\n",
    "#   for key,value in acc.items():\n",
    "#       print(key,':',value)\n",
    "#   print('\\n')\n",
    "# Footer\n",
    "# © 2022 GitHub, Inc."
   ]
  },
  {
   "cell_type": "code",
   "execution_count": 46,
   "id": "824a3646",
   "metadata": {},
   "outputs": [
    {
     "name": "stdout",
     "output_type": "stream",
     "text": [
      "[0.9885212478057344, 0.9865761227325922, 0.9864024100351082, 0.9874172578993563, 0.987684684025746]\n"
     ]
    }
   ],
   "source": [
    "from sklearn.ensemble import AdaBoostClassifier\n",
    "estimators = [4, 8, 10, 15, 20]\n",
    "acc = [] \n",
    "for i in estimators:\n",
    "    model = AdaBoostClassifier(base_estimator=DecisionTreeClassifier(criterion='entropy',max_depth=15),n_estimators=i)\n",
    "    model.fit(X_train,y_train)\n",
    "    acc.append(model.score(X_test,y_test))\n",
    "    \n",
    "print(acc)"
   ]
  },
  {
   "cell_type": "code",
   "execution_count": 47,
   "id": "99155bdd",
   "metadata": {},
   "outputs": [],
   "source": [
    "acc = [] \n",
    "for i in estimators:\n",
    "    model = AdaBoostClassifier(base_estimator=DecisionTreeClassifier(criterion='entropy',max_depth=15),n_estimators=i)\n",
    "    model.fit(X_train,y_train)\n",
    "    acc.append(model.score(X_val,y_val))"
   ]
  },
  {
   "cell_type": "code",
   "execution_count": 48,
   "id": "51d0c635",
   "metadata": {},
   "outputs": [
    {
     "data": {
      "text/plain": [
       "[0.9870675468110006,\n",
       " 0.9861235554417788,\n",
       " 0.9871818314803978,\n",
       " 0.9870698325043885,\n",
       " 0.9878515396430662]"
      ]
     },
     "execution_count": 48,
     "metadata": {},
     "output_type": "execute_result"
    }
   ],
   "source": [
    "acc"
   ]
  },
  {
   "cell_type": "code",
   "execution_count": 50,
   "id": "c31b8316",
   "metadata": {},
   "outputs": [
    {
     "data": {
      "text/plain": [
       "0.9870588611761264"
      ]
     },
     "execution_count": 50,
     "metadata": {},
     "output_type": "execute_result"
    }
   ],
   "source": [
    "np.array(acc).mean()"
   ]
  },
  {
   "cell_type": "code",
   "execution_count": null,
   "id": "42cd19af",
   "metadata": {},
   "outputs": [],
   "source": []
  }
 ],
 "metadata": {
  "kernelspec": {
   "display_name": "Python 3 (ipykernel)",
   "language": "python",
   "name": "python3"
  },
  "language_info": {
   "codemirror_mode": {
    "name": "ipython",
    "version": 3
   },
   "file_extension": ".py",
   "mimetype": "text/x-python",
   "name": "python",
   "nbconvert_exporter": "python",
   "pygments_lexer": "ipython3",
   "version": "3.9.12"
  }
 },
 "nbformat": 4,
 "nbformat_minor": 5
}
