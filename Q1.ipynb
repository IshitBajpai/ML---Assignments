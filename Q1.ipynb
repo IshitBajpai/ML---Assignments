{
  "nbformat": 4,
  "nbformat_minor": 0,
  "metadata": {
    "colab": {
      "provenance": [],
      "collapsed_sections": [
        "XaXmVfUktZPC",
        "cppzDeCGfRJm",
        "owdlsThLovhb"
      ]
    },
    "kernelspec": {
      "name": "python3",
      "display_name": "Python 3"
    },
    "language_info": {
      "name": "python"
    },
    "widgets": {
      "application/vnd.jupyter.widget-state+json": {
        "3c4f446a54a34a96b1a9742c0e30a248": {
          "model_module": "@jupyter-widgets/controls",
          "model_name": "VBoxModel",
          "model_module_version": "1.5.0",
          "state": {
            "_dom_classes": [],
            "_model_module": "@jupyter-widgets/controls",
            "_model_module_version": "1.5.0",
            "_model_name": "VBoxModel",
            "_view_count": null,
            "_view_module": "@jupyter-widgets/controls",
            "_view_module_version": "1.5.0",
            "_view_name": "VBoxView",
            "box_style": "",
            "children": [
              "IPY_MODEL_4d2af3e65bff43218c18ed0bd0f28597",
              "IPY_MODEL_23f45b7a0f9d45059e8a9b1813e789b3"
            ],
            "layout": "IPY_MODEL_346da85fb335484f8bbbdd66b88676a8"
          }
        },
        "4d2af3e65bff43218c18ed0bd0f28597": {
          "model_module": "@jupyter-widgets/controls",
          "model_name": "LabelModel",
          "model_module_version": "1.5.0",
          "state": {
            "_dom_classes": [],
            "_model_module": "@jupyter-widgets/controls",
            "_model_module_version": "1.5.0",
            "_model_name": "LabelModel",
            "_view_count": null,
            "_view_module": "@jupyter-widgets/controls",
            "_view_module_version": "1.5.0",
            "_view_name": "LabelView",
            "description": "",
            "description_tooltip": null,
            "layout": "IPY_MODEL_3cd3d0446a414953ae6afbf97d94282e",
            "placeholder": "​",
            "style": "IPY_MODEL_77970be3cb5642bb99f94f679f20dc24",
            "value": "0.001 MB of 0.009 MB uploaded (0.000 MB deduped)\r"
          }
        },
        "23f45b7a0f9d45059e8a9b1813e789b3": {
          "model_module": "@jupyter-widgets/controls",
          "model_name": "FloatProgressModel",
          "model_module_version": "1.5.0",
          "state": {
            "_dom_classes": [],
            "_model_module": "@jupyter-widgets/controls",
            "_model_module_version": "1.5.0",
            "_model_name": "FloatProgressModel",
            "_view_count": null,
            "_view_module": "@jupyter-widgets/controls",
            "_view_module_version": "1.5.0",
            "_view_name": "ProgressView",
            "bar_style": "",
            "description": "",
            "description_tooltip": null,
            "layout": "IPY_MODEL_d50867f0a7df462a9a1235ef1539945d",
            "max": 1,
            "min": 0,
            "orientation": "horizontal",
            "style": "IPY_MODEL_a0a38b7239424ec0bff5c5f25d6ae2a0",
            "value": 0.06250663270720577
          }
        },
        "346da85fb335484f8bbbdd66b88676a8": {
          "model_module": "@jupyter-widgets/base",
          "model_name": "LayoutModel",
          "model_module_version": "1.2.0",
          "state": {
            "_model_module": "@jupyter-widgets/base",
            "_model_module_version": "1.2.0",
            "_model_name": "LayoutModel",
            "_view_count": null,
            "_view_module": "@jupyter-widgets/base",
            "_view_module_version": "1.2.0",
            "_view_name": "LayoutView",
            "align_content": null,
            "align_items": null,
            "align_self": null,
            "border": null,
            "bottom": null,
            "display": null,
            "flex": null,
            "flex_flow": null,
            "grid_area": null,
            "grid_auto_columns": null,
            "grid_auto_flow": null,
            "grid_auto_rows": null,
            "grid_column": null,
            "grid_gap": null,
            "grid_row": null,
            "grid_template_areas": null,
            "grid_template_columns": null,
            "grid_template_rows": null,
            "height": null,
            "justify_content": null,
            "justify_items": null,
            "left": null,
            "margin": null,
            "max_height": null,
            "max_width": null,
            "min_height": null,
            "min_width": null,
            "object_fit": null,
            "object_position": null,
            "order": null,
            "overflow": null,
            "overflow_x": null,
            "overflow_y": null,
            "padding": null,
            "right": null,
            "top": null,
            "visibility": null,
            "width": null
          }
        },
        "3cd3d0446a414953ae6afbf97d94282e": {
          "model_module": "@jupyter-widgets/base",
          "model_name": "LayoutModel",
          "model_module_version": "1.2.0",
          "state": {
            "_model_module": "@jupyter-widgets/base",
            "_model_module_version": "1.2.0",
            "_model_name": "LayoutModel",
            "_view_count": null,
            "_view_module": "@jupyter-widgets/base",
            "_view_module_version": "1.2.0",
            "_view_name": "LayoutView",
            "align_content": null,
            "align_items": null,
            "align_self": null,
            "border": null,
            "bottom": null,
            "display": null,
            "flex": null,
            "flex_flow": null,
            "grid_area": null,
            "grid_auto_columns": null,
            "grid_auto_flow": null,
            "grid_auto_rows": null,
            "grid_column": null,
            "grid_gap": null,
            "grid_row": null,
            "grid_template_areas": null,
            "grid_template_columns": null,
            "grid_template_rows": null,
            "height": null,
            "justify_content": null,
            "justify_items": null,
            "left": null,
            "margin": null,
            "max_height": null,
            "max_width": null,
            "min_height": null,
            "min_width": null,
            "object_fit": null,
            "object_position": null,
            "order": null,
            "overflow": null,
            "overflow_x": null,
            "overflow_y": null,
            "padding": null,
            "right": null,
            "top": null,
            "visibility": null,
            "width": null
          }
        },
        "77970be3cb5642bb99f94f679f20dc24": {
          "model_module": "@jupyter-widgets/controls",
          "model_name": "DescriptionStyleModel",
          "model_module_version": "1.5.0",
          "state": {
            "_model_module": "@jupyter-widgets/controls",
            "_model_module_version": "1.5.0",
            "_model_name": "DescriptionStyleModel",
            "_view_count": null,
            "_view_module": "@jupyter-widgets/base",
            "_view_module_version": "1.2.0",
            "_view_name": "StyleView",
            "description_width": ""
          }
        },
        "d50867f0a7df462a9a1235ef1539945d": {
          "model_module": "@jupyter-widgets/base",
          "model_name": "LayoutModel",
          "model_module_version": "1.2.0",
          "state": {
            "_model_module": "@jupyter-widgets/base",
            "_model_module_version": "1.2.0",
            "_model_name": "LayoutModel",
            "_view_count": null,
            "_view_module": "@jupyter-widgets/base",
            "_view_module_version": "1.2.0",
            "_view_name": "LayoutView",
            "align_content": null,
            "align_items": null,
            "align_self": null,
            "border": null,
            "bottom": null,
            "display": null,
            "flex": null,
            "flex_flow": null,
            "grid_area": null,
            "grid_auto_columns": null,
            "grid_auto_flow": null,
            "grid_auto_rows": null,
            "grid_column": null,
            "grid_gap": null,
            "grid_row": null,
            "grid_template_areas": null,
            "grid_template_columns": null,
            "grid_template_rows": null,
            "height": null,
            "justify_content": null,
            "justify_items": null,
            "left": null,
            "margin": null,
            "max_height": null,
            "max_width": null,
            "min_height": null,
            "min_width": null,
            "object_fit": null,
            "object_position": null,
            "order": null,
            "overflow": null,
            "overflow_x": null,
            "overflow_y": null,
            "padding": null,
            "right": null,
            "top": null,
            "visibility": null,
            "width": null
          }
        },
        "a0a38b7239424ec0bff5c5f25d6ae2a0": {
          "model_module": "@jupyter-widgets/controls",
          "model_name": "ProgressStyleModel",
          "model_module_version": "1.5.0",
          "state": {
            "_model_module": "@jupyter-widgets/controls",
            "_model_module_version": "1.5.0",
            "_model_name": "ProgressStyleModel",
            "_view_count": null,
            "_view_module": "@jupyter-widgets/base",
            "_view_module_version": "1.2.0",
            "_view_name": "StyleView",
            "bar_color": null,
            "description_width": ""
          }
        }
      }
    }
  },
  "cells": [
    {
      "cell_type": "code",
      "execution_count": 1,
      "metadata": {
        "colab": {
          "base_uri": "https://localhost:8080/"
        },
        "id": "lEQjjllOHtKO",
        "outputId": "dd28e6c3-51b9-4978-fead-5d586c33d3cd"
      },
      "outputs": [
        {
          "output_type": "stream",
          "name": "stdout",
          "text": [
            "Looking in indexes: https://pypi.org/simple, https://us-python.pkg.dev/colab-wheels/public/simple/\n",
            "Requirement already satisfied: torch in /usr/local/lib/python3.8/dist-packages (1.13.1+cu116)\n",
            "Requirement already satisfied: typing-extensions in /usr/local/lib/python3.8/dist-packages (from torch) (4.5.0)\n",
            "Looking in indexes: https://pypi.org/simple, https://us-python.pkg.dev/colab-wheels/public/simple/\n",
            "Requirement already satisfied: scipy in /usr/local/lib/python3.8/dist-packages (1.7.3)\n",
            "Requirement already satisfied: numpy<1.23.0,>=1.16.5 in /usr/local/lib/python3.8/dist-packages (from scipy) (1.21.6)\n",
            "Looking in indexes: https://pypi.org/simple, https://us-python.pkg.dev/colab-wheels/public/simple/\n",
            "Requirement already satisfied: torchmetrics in /usr/local/lib/python3.8/dist-packages (0.11.1)\n",
            "Requirement already satisfied: numpy>=1.17.2 in /usr/local/lib/python3.8/dist-packages (from torchmetrics) (1.21.6)\n",
            "Requirement already satisfied: torch>=1.8.1 in /usr/local/lib/python3.8/dist-packages (from torchmetrics) (1.13.1+cu116)\n",
            "Requirement already satisfied: packaging in /usr/local/lib/python3.8/dist-packages (from torchmetrics) (23.0)\n",
            "Requirement already satisfied: typing-extensions in /usr/local/lib/python3.8/dist-packages (from torchmetrics) (4.5.0)\n",
            "Looking in indexes: https://pypi.org/simple, https://us-python.pkg.dev/colab-wheels/public/simple/\n",
            "Requirement already satisfied: wandb in /usr/local/lib/python3.8/dist-packages (0.13.10)\n",
            "Requirement already satisfied: PyYAML in /usr/local/lib/python3.8/dist-packages (from wandb) (6.0)\n",
            "Requirement already satisfied: appdirs>=1.4.3 in /usr/local/lib/python3.8/dist-packages (from wandb) (1.4.4)\n",
            "Requirement already satisfied: typing-extensions in /usr/local/lib/python3.8/dist-packages (from wandb) (4.5.0)\n",
            "Requirement already satisfied: Click!=8.0.0,>=7.0 in /usr/local/lib/python3.8/dist-packages (from wandb) (7.1.2)\n",
            "Requirement already satisfied: sentry-sdk>=1.0.0 in /usr/local/lib/python3.8/dist-packages (from wandb) (1.15.0)\n",
            "Requirement already satisfied: psutil>=5.0.0 in /usr/local/lib/python3.8/dist-packages (from wandb) (5.4.8)\n",
            "Requirement already satisfied: setproctitle in /usr/local/lib/python3.8/dist-packages (from wandb) (1.3.2)\n",
            "Requirement already satisfied: protobuf!=4.21.0,<5,>=3.12.0 in /usr/local/lib/python3.8/dist-packages (from wandb) (3.19.6)\n",
            "Requirement already satisfied: docker-pycreds>=0.4.0 in /usr/local/lib/python3.8/dist-packages (from wandb) (0.4.0)\n",
            "Requirement already satisfied: pathtools in /usr/local/lib/python3.8/dist-packages (from wandb) (0.1.2)\n",
            "Requirement already satisfied: setuptools in /usr/local/lib/python3.8/dist-packages (from wandb) (57.4.0)\n",
            "Requirement already satisfied: requests<3,>=2.0.0 in /usr/local/lib/python3.8/dist-packages (from wandb) (2.25.1)\n",
            "Requirement already satisfied: GitPython>=1.0.0 in /usr/local/lib/python3.8/dist-packages (from wandb) (3.1.31)\n",
            "Requirement already satisfied: six>=1.4.0 in /usr/local/lib/python3.8/dist-packages (from docker-pycreds>=0.4.0->wandb) (1.15.0)\n",
            "Requirement already satisfied: gitdb<5,>=4.0.1 in /usr/local/lib/python3.8/dist-packages (from GitPython>=1.0.0->wandb) (4.0.10)\n",
            "Requirement already satisfied: certifi>=2017.4.17 in /usr/local/lib/python3.8/dist-packages (from requests<3,>=2.0.0->wandb) (2022.12.7)\n",
            "Requirement already satisfied: chardet<5,>=3.0.2 in /usr/local/lib/python3.8/dist-packages (from requests<3,>=2.0.0->wandb) (4.0.0)\n",
            "Requirement already satisfied: idna<3,>=2.5 in /usr/local/lib/python3.8/dist-packages (from requests<3,>=2.0.0->wandb) (2.10)\n",
            "Requirement already satisfied: urllib3<1.27,>=1.21.1 in /usr/local/lib/python3.8/dist-packages (from requests<3,>=2.0.0->wandb) (1.26.14)\n",
            "Requirement already satisfied: smmap<6,>=3.0.1 in /usr/local/lib/python3.8/dist-packages (from gitdb<5,>=4.0.1->GitPython>=1.0.0->wandb) (5.0.0)\n"
          ]
        }
      ],
      "source": [
        "!pip install torch\n",
        "!pip install scipy \n",
        "!pip install torchmetrics\n",
        "!pip install wandb"
      ]
    },
    {
      "cell_type": "code",
      "source": [
        "import os\n",
        "from PIL import Image\n",
        "import random\n",
        "import torch\n",
        "import torch.nn as nn\n",
        "import torchvision\n",
        "import torchvision.transforms as transforms\n",
        "import torch.optim as optim\n",
        "import matplotlib.pyplot as plt\n",
        "import torch.nn.functional as F\n",
        "import numpy as np\n",
        "from torch.utils.data.sampler import SubsetRandomSampler\n",
        "import pickle\n",
        "from sklearn import manifold\n",
        "import pandas as pd\n",
        "import seaborn as sns\n",
        "from sklearn.metrics import classification_report\n",
        "import scipy.io\n",
        "from google.colab import drive\n",
        "drive.mount(\"/content/gdrive\",force_remount=True)"
      ],
      "metadata": {
        "id": "cuFx9Nc2IuZK",
        "colab": {
          "base_uri": "https://localhost:8080/"
        },
        "outputId": "c5690bae-0eb3-481f-855f-cdaa63cd6980"
      },
      "execution_count": 2,
      "outputs": [
        {
          "output_type": "stream",
          "name": "stdout",
          "text": [
            "Mounted at /content/gdrive\n"
          ]
        }
      ]
    },
    {
      "cell_type": "code",
      "source": [
        "import os\n",
        "from time import time\n",
        "from tqdm import tqdm\n",
        "import numpy\n",
        "\n",
        "import torch\n",
        "from torch.nn import Linear, CrossEntropyLoss\n",
        "from torch.optim import Adam\n",
        "from torch.utils.data import DataLoader\n",
        "\n",
        "import torchvision\n",
        "from torchvision.datasets import ImageFolder\n",
        "from torchvision.models import resnet18\n",
        "from torchvision.transforms import transforms"
      ],
      "metadata": {
        "id": "C2q0gSgY7CGJ"
      },
      "execution_count": 3,
      "outputs": []
    },
    {
      "cell_type": "code",
      "source": [
        "import wandb\n",
        "wandb.login(key=\"1262a78bcdb91721d1f31364cec1d26409dd981e\")"
      ],
      "metadata": {
        "colab": {
          "base_uri": "https://localhost:8080/"
        },
        "id": "9tuanrrLMipf",
        "outputId": "5dc480b3-df2d-481f-dc78-5d3cca1d1dc2"
      },
      "execution_count": 4,
      "outputs": [
        {
          "output_type": "stream",
          "name": "stderr",
          "text": [
            "ERROR:wandb.jupyter:Failed to detect the name of this notebook, you can set it manually with the WANDB_NOTEBOOK_NAME environment variable to enable code saving.\n",
            "\u001b[34m\u001b[1mwandb\u001b[0m: Currently logged in as: \u001b[33mishit20380\u001b[0m (\u001b[33mdrake\u001b[0m). Use \u001b[1m`wandb login --relogin`\u001b[0m to force relogin\n",
            "\u001b[34m\u001b[1mwandb\u001b[0m: \u001b[33mWARNING\u001b[0m If you're specifying your api key in code, ensure this code is not shared publicly.\n",
            "\u001b[34m\u001b[1mwandb\u001b[0m: \u001b[33mWARNING\u001b[0m Consider setting the WANDB_API_KEY environment variable, or running `wandb login` from the command line.\n",
            "\u001b[34m\u001b[1mwandb\u001b[0m: Appending key for api.wandb.ai to your netrc file: /root/.netrc\n"
          ]
        },
        {
          "output_type": "execute_result",
          "data": {
            "text/plain": [
              "True"
            ]
          },
          "metadata": {},
          "execution_count": 4
        }
      ]
    },
    {
      "cell_type": "code",
      "source": [
        "import wandb\n",
        "import random\n",
        "# settings=wandb.Settings(start_method=\"fork\")\n",
        "# start a new wandb run to track this script\n",
        "wandb.init(\n",
        "    # set the wandb project where this run will be logged\n",
        "    project=\"my-awesome-project\",\n",
        "    \n",
        "    # track hyperparameters and run metadata\n",
        "    config={\n",
        "    \"learning_rate\": 0.02,\n",
        "    \"architecture\": \"CNN\",\n",
        "    \"dataset\": \"CIFAR-100\",\n",
        "    \"epochs\": 10,\n",
        "    }\n",
        "    \n",
        ")\n",
        "\n",
        "# simulate training\n",
        "epochs = 10\n",
        "offset = random.random() / 5\n",
        "for epoch in range(2, epochs):\n",
        "    acc = 1 - 2 ** -epoch - random.random() / epoch - offset\n",
        "    loss = 2 ** -epoch + random.random() / epoch + offset\n",
        "    \n",
        "    # log metrics to wandb\n",
        "    wandb.log({\"acc\": acc, \"loss\": loss})\n",
        "    \n",
        "# [optional] finish the wandb run, necessary in notebooks\n",
        "wandb.finish()"
      ],
      "metadata": {
        "colab": {
          "base_uri": "https://localhost:8080/",
          "height": 634,
          "referenced_widgets": [
            "3c4f446a54a34a96b1a9742c0e30a248",
            "4d2af3e65bff43218c18ed0bd0f28597",
            "23f45b7a0f9d45059e8a9b1813e789b3",
            "346da85fb335484f8bbbdd66b88676a8",
            "3cd3d0446a414953ae6afbf97d94282e",
            "77970be3cb5642bb99f94f679f20dc24",
            "d50867f0a7df462a9a1235ef1539945d",
            "a0a38b7239424ec0bff5c5f25d6ae2a0"
          ]
        },
        "id": "8B0-aBXcOCYw",
        "outputId": "262bb64f-c7e1-4993-d64e-cca7dfb13ec1"
      },
      "execution_count": null,
      "outputs": [
        {
          "output_type": "display_data",
          "data": {
            "text/plain": [
              "<IPython.core.display.HTML object>"
            ],
            "text/html": [
              "Finishing last run (ID:p0mj0qqx) before initializing another..."
            ]
          },
          "metadata": {}
        },
        {
          "output_type": "display_data",
          "data": {
            "text/plain": [
              "<IPython.core.display.HTML object>"
            ],
            "text/html": [
              "Waiting for W&B process to finish... <strong style=\"color:green\">(success).</strong>"
            ]
          },
          "metadata": {}
        },
        {
          "output_type": "display_data",
          "data": {
            "text/plain": [
              "VBox(children=(Label(value='0.001 MB of 0.001 MB uploaded (0.000 MB deduped)\\r'), FloatProgress(value=1.0, max…"
            ],
            "application/vnd.jupyter.widget-view+json": {
              "version_major": 2,
              "version_minor": 0,
              "model_id": "3c4f446a54a34a96b1a9742c0e30a248"
            }
          },
          "metadata": {}
        },
        {
          "output_type": "display_data",
          "data": {
            "text/plain": [
              "<IPython.core.display.HTML object>"
            ],
            "text/html": [
              "<style>\n",
              "    table.wandb td:nth-child(1) { padding: 0 10px; text-align: left ; width: auto;} td:nth-child(2) {text-align: left ; width: 100%}\n",
              "    .wandb-row { display: flex; flex-direction: row; flex-wrap: wrap; justify-content: flex-start; width: 100% }\n",
              "    .wandb-col { display: flex; flex-direction: column; flex-basis: 100%; flex: 1; padding: 10px; }\n",
              "    </style>\n",
              "<div class=\"wandb-row\"><div class=\"wandb-col\"><h3>Run history:</h3><br/><table class=\"wandb\"><tr><td>train accuracy</td><td>▁</td></tr><tr><td>train loss</td><td>▁</td></tr></table><br/></div><div class=\"wandb-col\"><h3>Run summary:</h3><br/><table class=\"wandb\"><tr><td>train accuracy</td><td>0.5393</td></tr><tr><td>train loss</td><td>2.24191</td></tr></table><br/></div></div>"
            ]
          },
          "metadata": {}
        },
        {
          "output_type": "display_data",
          "data": {
            "text/plain": [
              "<IPython.core.display.HTML object>"
            ],
            "text/html": [
              " View run <strong style=\"color:#cdcd00\">rich-wave-3</strong> at: <a href='https://wandb.ai/drake/Q1/runs/p0mj0qqx' target=\"_blank\">https://wandb.ai/drake/Q1/runs/p0mj0qqx</a><br/>Synced 5 W&B file(s), 0 media file(s), 0 artifact file(s) and 0 other file(s)"
            ]
          },
          "metadata": {}
        },
        {
          "output_type": "display_data",
          "data": {
            "text/plain": [
              "<IPython.core.display.HTML object>"
            ],
            "text/html": [
              "Find logs at: <code>./wandb/run-20230218_054522-p0mj0qqx/logs</code>"
            ]
          },
          "metadata": {}
        },
        {
          "output_type": "display_data",
          "data": {
            "text/plain": [
              "<IPython.core.display.HTML object>"
            ],
            "text/html": [
              "Successfully finished last run (ID:p0mj0qqx). Initializing new run:<br/>"
            ]
          },
          "metadata": {}
        },
        {
          "output_type": "display_data",
          "data": {
            "text/plain": [
              "<IPython.core.display.HTML object>"
            ],
            "text/html": [
              "Tracking run with wandb version 0.13.10"
            ]
          },
          "metadata": {}
        },
        {
          "output_type": "display_data",
          "data": {
            "text/plain": [
              "<IPython.core.display.HTML object>"
            ],
            "text/html": [
              "Run data is saved locally in <code>/content/wandb/run-20230218_061152-svi4pwnl</code>"
            ]
          },
          "metadata": {}
        },
        {
          "output_type": "display_data",
          "data": {
            "text/plain": [
              "<IPython.core.display.HTML object>"
            ],
            "text/html": [
              "Syncing run <strong><a href='https://wandb.ai/drake/my-awesome-project/runs/svi4pwnl' target=\"_blank\">smart-dew-7</a></strong> to <a href='https://wandb.ai/drake/my-awesome-project' target=\"_blank\">Weights & Biases</a> (<a href='https://wandb.me/run' target=\"_blank\">docs</a>)<br/>"
            ]
          },
          "metadata": {}
        },
        {
          "output_type": "display_data",
          "data": {
            "text/plain": [
              "<IPython.core.display.HTML object>"
            ],
            "text/html": [
              " View project at <a href='https://wandb.ai/drake/my-awesome-project' target=\"_blank\">https://wandb.ai/drake/my-awesome-project</a>"
            ]
          },
          "metadata": {}
        },
        {
          "output_type": "display_data",
          "data": {
            "text/plain": [
              "<IPython.core.display.HTML object>"
            ],
            "text/html": [
              " View run at <a href='https://wandb.ai/drake/my-awesome-project/runs/svi4pwnl' target=\"_blank\">https://wandb.ai/drake/my-awesome-project/runs/svi4pwnl</a>"
            ]
          },
          "metadata": {}
        },
        {
          "output_type": "display_data",
          "data": {
            "text/plain": [
              "<IPython.core.display.HTML object>"
            ],
            "text/html": [
              "Waiting for W&B process to finish... <strong style=\"color:green\">(success).</strong>"
            ]
          },
          "metadata": {}
        },
        {
          "output_type": "display_data",
          "data": {
            "text/plain": [
              "<IPython.core.display.HTML object>"
            ],
            "text/html": [
              "<style>\n",
              "    table.wandb td:nth-child(1) { padding: 0 10px; text-align: left ; width: auto;} td:nth-child(2) {text-align: left ; width: 100%}\n",
              "    .wandb-row { display: flex; flex-direction: row; flex-wrap: wrap; justify-content: flex-start; width: 100% }\n",
              "    .wandb-col { display: flex; flex-direction: column; flex-basis: 100%; flex: 1; padding: 10px; }\n",
              "    </style>\n",
              "<div class=\"wandb-row\"><div class=\"wandb-col\"><h3>Run history:</h3><br/><table class=\"wandb\"><tr><td>acc</td><td>▁▆▅▇▇▇██</td></tr><tr><td>loss</td><td>▆█▅▂▂▃▁▁</td></tr></table><br/></div><div class=\"wandb-col\"><h3>Run summary:</h3><br/><table class=\"wandb\"><tr><td>acc</td><td>0.93089</td></tr><tr><td>loss</td><td>0.0835</td></tr></table><br/></div></div>"
            ]
          },
          "metadata": {}
        },
        {
          "output_type": "display_data",
          "data": {
            "text/plain": [
              "<IPython.core.display.HTML object>"
            ],
            "text/html": [
              " View run <strong style=\"color:#cdcd00\">smart-dew-7</strong> at: <a href='https://wandb.ai/drake/my-awesome-project/runs/svi4pwnl' target=\"_blank\">https://wandb.ai/drake/my-awesome-project/runs/svi4pwnl</a><br/>Synced 4 W&B file(s), 0 media file(s), 0 artifact file(s) and 0 other file(s)"
            ]
          },
          "metadata": {}
        },
        {
          "output_type": "display_data",
          "data": {
            "text/plain": [
              "<IPython.core.display.HTML object>"
            ],
            "text/html": [
              "Find logs at: <code>./wandb/run-20230218_061152-svi4pwnl/logs</code>"
            ]
          },
          "metadata": {}
        }
      ]
    },
    {
      "cell_type": "markdown",
      "source": [
        "## PART 1"
      ],
      "metadata": {
        "id": "XaXmVfUktZPC"
      }
    },
    {
      "cell_type": "code",
      "source": [
        "import glob\n",
        "import cv2\n",
        "import numpy as np\n",
        "import torch\n",
        "from torch.utils.data import Dataset, DataLoader\n",
        "\n",
        "data = scipy.io.loadmat(\"/content/gdrive/MyDrive/cv1.mat\")\n",
        "data['y'][ data['y'] == 10 ] = 0\n",
        "# data_size = len(data['y'])\n",
        "data_size = 2000\n",
        "\n",
        "transform = transforms.Compose(\n",
        "    \n",
        "    [   \n",
        "        transforms.ToTensor(),\n",
        "        transforms.Resize((32,32)),\n",
        "    #  transforms.Normalize((0.5, 0.5, 0.5), (0.5, 0.5, 0.5))\n",
        "    \n",
        "     ])\n",
        "\n",
        "import os\n",
        "import pandas as pd\n",
        "from torchvision.io import read_image\n",
        "\n",
        "class CustomImageDataset(Dataset):\n",
        "    def __init__(self, data ,transform=None, target_transform=None):\n",
        "        self.img_labels = data['y']\n",
        "        self.img_dir = data['X']\n",
        "        self.transform = transform\n",
        "        self.data = data\n",
        "\n",
        "        self.target_transform = target_transform\n",
        "\n",
        "    def __len__(self):\n",
        "        return len(self.img_labels)\n",
        "\n",
        "    def __getitem__(self, idx):\n",
        "        # img_path = os.path.join(self.img_dir, self.img_labels.iloc[idx, 0])\n",
        "        image = self.data['X'][:,:,:,idx]\n",
        "        label = self.data['y'][idx]\n",
        "        if self.transform:\n",
        "            image = self.transform(image)\n",
        "        if self.target_transform:\n",
        "            label = self.target_transform(label)\n",
        "        # print(idx)\n",
        "        return image.float(), label\n",
        "\n",
        "\n",
        "# shuffle\n",
        "indices = list(range(data_size))\n",
        "np.random.shuffle(indices)\n",
        "\n",
        "test_size =  int(  0.10*data_size )\n",
        "val_size =   int(  0.20*data_size )\n",
        "train_size = int(  0.70*data_size )\n",
        "\n",
        "\n",
        "# test_index =  indices[:test_size]\n",
        "# train_index = indices[test_size:test_size+train_size]\n",
        "# val_index = indices[-val_size:]\n",
        "\n",
        "# xt = data['X'][:train_size]\n",
        "# yt = data['y'][:train_size]\n",
        "# data_train = {'X':xt,'y':yt}\n",
        "\n",
        "# xt = data['X'][train_size:train_size+test_size]\n",
        "# yt = data['y'][train_size:train_size+test_size]\n",
        "# data_test = {'X':xt,'y':yt}\n",
        "\n",
        "# xt = data['X'][-val_size:]\n",
        "# yt = data['y'][-val_size:]\n",
        "# data_val = {'X':xt,'y':yt}\n",
        "\n",
        "xt = data['X'][:train_size]\n",
        "yt = data['y'][:train_size]\n",
        "data_train = {'X':xt,'y':yt}\n",
        "\n",
        "xt = data['X'][:test_size]\n",
        "yt = data['y'][:test_size]\n",
        "data_test = {'X':xt,'y':yt}\n",
        "\n",
        "xt = data['X'][-val_size:]\n",
        "yt = data['y'][-val_size:]\n",
        "data_val = {'X':xt,'y':yt}"
      ],
      "metadata": {
        "id": "sQBdsLqz8XXI"
      },
      "execution_count": 14,
      "outputs": []
    },
    {
      "cell_type": "code",
      "source": [
        "# x = np.arange(1,10)\n",
        "# p = np.array([1,2,3])\n",
        "# x[p]"
      ],
      "metadata": {
        "id": "zBcfBlK4Zrg2"
      },
      "execution_count": 15,
      "outputs": []
    },
    {
      "cell_type": "code",
      "source": [
        "# for i in range(test_size,-val_size+data_size):\n",
        "#   if(data['X'][:,:,:,i].shape!=((32, 32, 3))):\n",
        "#     print(\"yo!!\")\n",
        "#     break\n"
      ],
      "metadata": {
        "id": "Ay0wgLRa994A"
      },
      "execution_count": 16,
      "outputs": []
    },
    {
      "cell_type": "code",
      "source": [
        "train = CustomImageDataset(data_train,transform)\n",
        "test =  CustomImageDataset(data_test,transform)\n",
        "val =  CustomImageDataset(data_val,transform)\n",
        "\n",
        "trainloader = torch.utils.data.DataLoader(train, batch_size=256,num_workers=2)\n",
        "testloader = torch.utils.data.DataLoader(test, batch_size=256,num_workers=2)\n",
        "valloader = torch.utils.data.DataLoader(val, batch_size=256,num_workers=2)"
      ],
      "metadata": {
        "id": "-Ykj4spXbJ3q"
      },
      "execution_count": 17,
      "outputs": []
    },
    {
      "cell_type": "code",
      "source": [
        "dataiter = iter(trainloader)\n",
        "images, labels = dataiter.__next__()"
      ],
      "metadata": {
        "id": "J6u4yF2fIigy"
      },
      "execution_count": 18,
      "outputs": []
    },
    {
      "cell_type": "code",
      "source": [
        "print(images.shape)"
      ],
      "metadata": {
        "colab": {
          "base_uri": "https://localhost:8080/"
        },
        "id": "_HPJi__WMCSt",
        "outputId": "27f7fed2-f3da-4fc5-e7c8-51784c6f9e0c"
      },
      "execution_count": 19,
      "outputs": [
        {
          "output_type": "stream",
          "name": "stdout",
          "text": [
            "torch.Size([256, 3, 32, 32])\n"
          ]
        }
      ]
    },
    {
      "cell_type": "code",
      "source": [
        "idx = 2\n",
        "plt.imshow(images[idx].permute(1,2,0))\n",
        "print(labels[idx])"
      ],
      "metadata": {
        "colab": {
          "base_uri": "https://localhost:8080/",
          "height": 283
        },
        "id": "uGQUL0MyLteX",
        "outputId": "bd97d8f7-5ef1-4e64-99bb-1e0f74d2227e"
      },
      "execution_count": 168,
      "outputs": [
        {
          "output_type": "stream",
          "name": "stdout",
          "text": [
            "tensor([2], dtype=torch.uint8)\n"
          ]
        },
        {
          "output_type": "display_data",
          "data": {
            "text/plain": [
              "<Figure size 432x288 with 1 Axes>"
            ],
            "image/png": "[encoded data removed]"
          },
          "metadata": {
            "needs_background": "light"
          }
        }
      ]
    },
    {
      "cell_type": "code",
      "source": [
        "data = scipy.io.loadmat(\"/content/gdrive/MyDrive/cv1.mat\")\n",
        "y_train = data['y'][:train_size]\n",
        "y_val = data['y'][-val_size:]"
      ],
      "metadata": {
        "id": "UJ3FRbHrd7na"
      },
      "execution_count": 169,
      "outputs": []
    },
    {
      "cell_type": "code",
      "source": [
        "# visualizing\n",
        "unique, counts = np.unique(y_train, return_counts=True)\n",
        "plt.bar(unique, counts, color ='maroon',\n",
        "        width = 0.4)\n",
        "plt.title(\"Train\")\n",
        "\n",
        "plt.xlabel(\"Class\")\n",
        "plt.ylabel(\"frequency\")\n",
        "plt.legend()"
      ],
      "metadata": {
        "colab": {
          "base_uri": "https://localhost:8080/",
          "height": 330
        },
        "id": "rRie4T5ac8WI",
        "outputId": "c6d8e11a-c9fb-4ff5-a351-807a94e304fb"
      },
      "execution_count": null,
      "outputs": [
        {
          "output_type": "stream",
          "name": "stderr",
          "text": [
            "WARNING:matplotlib.legend:No handles with labels found to put in legend.\n"
          ]
        },
        {
          "output_type": "execute_result",
          "data": {
            "text/plain": [
              "<matplotlib.legend.Legend at 0x7f699a08ab20>"
            ]
          },
          "metadata": {},
          "execution_count": 11
        },
        {
          "output_type": "display_data",
          "data": {
            "text/plain": [
              "<Figure size 432x288 with 1 Axes>"
            ],
            "image/png": "[encoded data removed]"
          },
          "metadata": {
            "needs_background": "light"
          }
        }
      ]
    },
    {
      "cell_type": "code",
      "source": [
        "unique, counts = np.unique(y_val, return_counts=True)\n",
        "plt.bar(unique, counts, color ='green',\n",
        "        width = 0.4)\n",
        "plt.title(\"Train\")\n",
        "\n",
        "plt.xlabel(\"Class\")\n",
        "plt.ylabel(\"frequency\")\n",
        "plt.legend()"
      ],
      "metadata": {
        "colab": {
          "base_uri": "https://localhost:8080/",
          "height": 330
        },
        "id": "_dxFU7eXfFVF",
        "outputId": "9e6711c8-ada7-4179-c999-9fe39ca2aacb"
      },
      "execution_count": null,
      "outputs": [
        {
          "output_type": "stream",
          "name": "stderr",
          "text": [
            "WARNING:matplotlib.legend:No handles with labels found to put in legend.\n"
          ]
        },
        {
          "output_type": "execute_result",
          "data": {
            "text/plain": [
              "<matplotlib.legend.Legend at 0x7f6999ba9e50>"
            ]
          },
          "metadata": {},
          "execution_count": 12
        },
        {
          "output_type": "display_data",
          "data": {
            "text/plain": [
              "<Figure size 432x288 with 1 Axes>"
            ],
            "image/png": "[encoded data removed]"
          },
          "metadata": {
            "needs_background": "light"
          }
        }
      ]
    },
    {
      "cell_type": "markdown",
      "source": [
        "## Part 2"
      ],
      "metadata": {
        "id": "cppzDeCGfRJm"
      }
    },
    {
      "cell_type": "code",
      "source": [
        "# part (a)\n",
        "from torch.nn import Module\n",
        "from torch.nn import Conv2d\n",
        "from torch.nn import Linear\n",
        "from torch.nn import MaxPool2d\n",
        "from torch.nn import ReLU\n",
        "from torch.nn import LogSoftmax\n",
        "from torch import flatten\n",
        "\n",
        "device = torch.device(\"cuda\" if torch.cuda.is_available() else \"cpu\")\n",
        "\n",
        "class CNN(nn.Module):\n",
        "    def __init__(self):\n",
        "        super().__init__()\n",
        "        self.conv1 = nn.Conv2d(in_channels=3, out_channels=32, kernel_size=(3,3), padding=1)\n",
        "        self.relu1 = ReLU()\n",
        "        self.conv2 = nn.Conv2d(in_channels=32, out_channels=64, kernel_size=(3,3), padding=1)\n",
        "        self.relu2 = ReLU()\n",
        "        self.fc1 = nn.Linear(65536, 128)\n",
        "        self.relu3 = ReLU()\n",
        "        self.fc2 = nn.Linear(128, 10)\n",
        "        # self.logSoftmax = LogSoftmax(dim=1)\n",
        "      \n",
        "    def forward(self,x):\n",
        "        x = self.relu1((self.conv1(x)))\n",
        "        x = self.relu2((self.conv2(x)))\n",
        "        # x = relu2((self.conv2(x)))\n",
        "        x = torch.flatten(x, 1)\n",
        "        x = self.relu3(self.fc1(x))\n",
        "        x = self.fc2(x)\n",
        "        # output = self.logSoftmax(x)\n",
        "        return x\n",
        "\n",
        "from torch.autograd import Variable\n",
        "from torch.nn import Linear, ReLU, CrossEntropyLoss, Sequential, Conv2d, MaxPool2d, Module, Softmax, BatchNorm2d, Dropout\n",
        "from torch.optim import Adam, SGD\n",
        "\n",
        "model = CNN()\n",
        "# defining the optimizer\n",
        "optimizer = Adam(model.parameters(), lr=0.001)\n",
        "criterion =  nn.CrossEntropyLoss()\n",
        "# checking if GPU is available\n",
        "if torch.cuda.is_available():\n",
        "    model = model.cuda()\n",
        "    criterion = criterion.cuda()\n",
        "    \n",
        "print(model)"
      ],
      "metadata": {
        "colab": {
          "base_uri": "https://localhost:8080/"
        },
        "id": "ncdUsIqNM9B_",
        "outputId": "3f6a55b6-43dd-43c5-f8ad-c864156d0ffd"
      },
      "execution_count": 30,
      "outputs": [
        {
          "output_type": "stream",
          "name": "stdout",
          "text": [
            "CNN(\n",
            "  (conv1): Conv2d(3, 32, kernel_size=(3, 3), stride=(1, 1), padding=(1, 1))\n",
            "  (relu1): ReLU()\n",
            "  (conv2): Conv2d(32, 64, kernel_size=(3, 3), stride=(1, 1), padding=(1, 1))\n",
            "  (relu2): ReLU()\n",
            "  (fc1): Linear(in_features=65536, out_features=128, bias=True)\n",
            "  (relu3): ReLU()\n",
            "  (fc2): Linear(in_features=128, out_features=10, bias=True)\n",
            ")\n"
          ]
        }
      ]
    },
    {
      "cell_type": "code",
      "source": [
        "# part (a)\n",
        "from torch.nn import Module\n",
        "from torch.nn import Conv2d\n",
        "from torch.nn import Linear\n",
        "from torch.nn import MaxPool2d\n",
        "from torch.nn import ReLU\n",
        "from torch.nn import LogSoftmax\n",
        "from torch import flatten\n",
        "\n",
        "device = torch.device(\"cuda\" if torch.cuda.is_available() else \"cpu\")\n",
        "\n",
        "class RNN(nn.Module):\n",
        "    def __init__(self):\n",
        "        super().__init__()\n",
        "        self.conv1 = nn.Conv2d(in_channels=3, out_channels=32, kernel_size=(3,3), padding=1)\n",
        "        self.relu1 = ReLU()\n",
        "        self.conv2 = nn.Conv2d(in_channels=32, out_channels=64, kernel_size=(3,3), padding=1)\n",
        "        self.relu2 = ReLU()\n",
        "        self.fc = nn.Linear(65536, 10)\n",
        "        # self.drop = nn.Dropout2d(0.2)\n",
        "        # self.drops = drops\n",
        "        # self.relu3 = ReLU()\n",
        "        # self.fc2 = nn.Linear(128, 10)\n",
        "        # self.logSoftmax = LogSoftmax(dim=1)\n",
        "        torch.nn.init.kaiming_uniform_(self.conv1.weight)\n",
        "        torch.nn.init.kaiming_uniform_(self.conv2.weight)\n",
        "        torch.nn.init.kaiming_uniform_(self.fc.weight)\n",
        "\n",
        "    def forward(self,x):\n",
        "        x = self.conv1(x)\n",
        "        x=self.relu1(x)\n",
        "        x=self.conv2(x)\n",
        "        x=self.relu2(x)\n",
        "\n",
        "        # if self.drops==\"after_conv\":\n",
        "        #   x = self.drop(x)\n",
        "\n",
        "        x = torch.flatten(x, 1) \n",
        "        x = self.fc(x)\n",
        "\n",
        "        # if self.drops==\"after_fc\":\n",
        "        #   x = self.drop(x)\n",
        "        \n",
        "        return x\n",
        "\n",
        "from torch.autograd import Variable\n",
        "from torch.nn import Linear, ReLU, CrossEntropyLoss, Sequential, Conv2d, MaxPool2d, Module, Softmax, BatchNorm2d, Dropout\n",
        "from torch.optim import Adam, SGD\n",
        "\n",
        "model = RNN()\n",
        "# defining the optimizer\n",
        "optimizer = Adam(model.parameters(), lr=0.001)\n",
        "criterion =  nn.CrossEntropyLoss()\n",
        "# checking if GPU is available\n",
        "if torch.cuda.is_available():\n",
        "    model = model.cuda()\n",
        "    criterion = criterion.cuda()\n",
        "    \n",
        "print(model)"
      ],
      "metadata": {
        "colab": {
          "base_uri": "https://localhost:8080/"
        },
        "id": "vSQv1DuKiQRi",
        "outputId": "fe7e7483-88f6-4011-b14c-92dd89cf3f4e"
      },
      "execution_count": 52,
      "outputs": [
        {
          "output_type": "stream",
          "name": "stdout",
          "text": [
            "RNN(\n",
            "  (conv1): Conv2d(3, 32, kernel_size=(3, 3), stride=(1, 1), padding=(1, 1))\n",
            "  (relu1): ReLU()\n",
            "  (conv2): Conv2d(32, 64, kernel_size=(3, 3), stride=(1, 1), padding=(1, 1))\n",
            "  (relu2): ReLU()\n",
            "  (fc): Linear(in_features=65536, out_features=10, bias=True)\n",
            ")\n"
          ]
        }
      ]
    },
    {
      "cell_type": "code",
      "source": [
        "# optimiser = Adam(model.parameters(), lr=3e-4, weight_decay=0.0001)\n",
        "loss_fn = CrossEntropyLoss()\n",
        "optimiser = Adam(model.parameters(), lr=0.001)"
      ],
      "metadata": {
        "id": "emoUKwdusl3g"
      },
      "execution_count": 53,
      "outputs": []
    },
    {
      "cell_type": "code",
      "source": [
        "total_loss_train = []\n",
        "total_loss_validation = []\n",
        "\n",
        "## command to log gradients to wandb\n",
        "# wandb.watch(model)  ## pass name of model for which we want to log gradients, helps for analysis\n",
        "\n",
        "for epoch in range(10):  \n",
        "    print(epoch + 1)\n",
        "    \n",
        "    batch_loss_train=0\n",
        "    batch_loss_val=0\n",
        "\n",
        "    num_batches = 0\n",
        "\n",
        "    for i, data in enumerate(trainloader, 0):\n",
        "        inputs, labels = data\n",
        "        inputs, labels = inputs.to(device), labels.to(device)\n",
        "\n",
        "        optimiser.zero_grad()\n",
        "        outputs = model(inputs)\n",
        "        # print(labels)\n",
        "        labels = labels.reshape((len(labels),))\n",
        "        loss = loss_fn(outputs, labels)\n",
        "        loss.backward()\n",
        "        optimiser.step()\n",
        "\n",
        "        batch_loss_train+=loss.item()\n",
        "        running_loss = loss.item()\n",
        "        # print('[epoch, batch] =  [%d, %5d] loss: %.6f' %(epoch + 1, i, running_loss))\n",
        "        num_batches+=1\n",
        "\n",
        "    batch_loss_train/=num_batches\n",
        "    print(\"Trianing Loss \",batch_loss_train)\n",
        "\n",
        "    total_loss_train.append(batch_loss_train)\n",
        "    \n",
        "    # Valdiation Loop\n",
        "    with torch.no_grad():\n",
        "      correct = 0\n",
        "      total = 0\n",
        "      cnt=0\n",
        "      # ✨ W&B: parameters\n",
        "      log_counter = 0\n",
        "      i=-1\n",
        "      for data in valloader:\n",
        "          i+=1\n",
        "          inputs, labels = data\n",
        "          inputs, labels = inputs.to(device), labels.to(device)\n",
        "\n",
        "          # Get Prediction\n",
        "          outputs = model(inputs)\n",
        "\n",
        "          # Compute loss \n",
        "          total += labels.size(0)\n",
        "          cnt+=1\n",
        "          #labels = labels.float()\n",
        "          labels = labels.reshape((len(labels),))\n",
        "          #print(outputs.shape)\n",
        "          loss_val = criterion(outputs, labels)\n",
        "          batch_loss_val += loss_val.item()\n",
        "          \n",
        "          predicted = [np.argmax(x) for x in outputs]\n",
        "          predicted = torch.Tensor(predicted).to(device)\n",
        "          correct += (predicted == labels).sum().item()\n",
        "\n",
        "  \n",
        "      acc = 100 * correct / total\n",
        "      total_loss_validation += [batch_loss_val/cnt]\n",
        "      # ✨ W&B: Log accuracy across training epochs, to visualize in the UI\n",
        "      # wandb.log(\n",
        "      #     {\"accuracy\" : acc , \"Train_loss\":batch_loss_train, \"Val_loss\": batch_loss_val}\n",
        "      #     )\n",
        "\n",
        "\n",
        "      print(\"Validation loss is \",batch_loss_val/cnt)\n",
        "      print(\"Validation Acc is \", acc)\n",
        "\n",
        "print('Finished Training')"
      ],
      "metadata": {
        "colab": {
          "base_uri": "https://localhost:8080/"
        },
        "id": "U5666Rrhd7aA",
        "outputId": "b1aa23ed-597f-4d92-96e0-4d2b6b5c7786"
      },
      "execution_count": 54,
      "outputs": [
        {
          "output_type": "stream",
          "name": "stdout",
          "text": [
            "1\n",
            "Trianing Loss  6.931912978490193\n",
            "Validation loss is  3.543587803840637\n",
            "Validation Acc is  7.0\n",
            "2\n",
            "Trianing Loss  2.9327918688456216\n",
            "Validation loss is  2.3787015676498413\n",
            "Validation Acc is  16.25\n",
            "3\n",
            "Trianing Loss  2.2477089166641235\n",
            "Validation loss is  2.3038030862808228\n",
            "Validation Acc is  16.25\n",
            "4\n",
            "Trianing Loss  2.1519962151845298\n",
            "Validation loss is  2.3048486709594727\n",
            "Validation Acc is  15.25\n",
            "5\n",
            "Trianing Loss  2.0787654320398965\n",
            "Validation loss is  2.370950698852539\n",
            "Validation Acc is  14.25\n",
            "6\n",
            "Trianing Loss  1.986655056476593\n",
            "Validation loss is  2.3790425062179565\n",
            "Validation Acc is  13.75\n",
            "7\n",
            "Trianing Loss  1.8597976167996724\n",
            "Validation loss is  2.4488039016723633\n",
            "Validation Acc is  11.0\n",
            "8\n",
            "Trianing Loss  1.7103493213653564\n",
            "Validation loss is  2.530686378479004\n",
            "Validation Acc is  10.75\n",
            "9\n",
            "Trianing Loss  1.5473419229189556\n",
            "Validation loss is  2.6641112565994263\n",
            "Validation Acc is  10.0\n",
            "10\n",
            "Trianing Loss  1.3903131484985352\n",
            "Validation loss is  2.8277366161346436\n",
            "Validation Acc is  10.5\n",
            "Finished Training\n"
          ]
        }
      ]
    },
    {
      "cell_type": "code",
      "source": [
        "wandb.init(\n",
        "    # set the wandb project where this run will be logged\n",
        "    project=\"Q1\",\n",
        ")\n",
        "## command to log gradients to wandb\n",
        "wandb.watch(model)  ## pass name of model for which we want to log gradients, helps for analysis\n",
        "\n",
        "\n",
        "# LEN_TRAIN = train_size\n",
        "for epoch in range(5):\n",
        "    \n",
        "    train_accuracy = 0\n",
        "    test_accuracy = 0\n",
        "    \n",
        "    # Train\n",
        "    model.train()\n",
        "    f1_true = torch.tensor([])\n",
        "    f1_pred = torch.tensor([])\n",
        "\n",
        "    #\n",
        "    misclassified_img = torch.tensor([])\n",
        "    misclassified_label = torch.tensor([])\n",
        "    \n",
        "    with tqdm(trainloader, unit=\"batch\") as tepoch:\n",
        "        for image,label in tepoch:\n",
        "            optimiser.zero_grad()\n",
        "            \n",
        "            image = image.to(device)\n",
        "            train_prob = model(image)\n",
        "            train_prob = train_prob.cpu()\n",
        "            \n",
        "            label = torch.reshape(label, (-1,)).long()\n",
        "            loss = loss_fn(train_prob, label)\n",
        "            loss.backward()\n",
        "            optimiser.step()\n",
        "            \n",
        "            train_pred = torch.max(train_prob, 1).indices\n",
        "            train_accuracy += int(torch.sum(train_pred == label))\n",
        "\n",
        "            f1_true = torch.cat((f1_true, label))\n",
        "            f1_pred = torch.cat((f1_pred, train_pred))\n",
        "            \n",
        "            # count = 0\n",
        "            # for i in range(len(train_pred)):\n",
        "            #   if(count == 3):\n",
        "            #     break\n",
        "            #   if(train_pred[i]!=label[i]):\n",
        "            #       misclassified_img = torch.cat((misclassified_img,image))\n",
        "            #       misclassified_label = torch.cat((misclassified_label, train_pred))\n",
        "            #       count+=1\n",
        "        tr_loss = loss    \n",
        "        print(train_accuracy)\n",
        "        train_accuracy_epoch = (train_accuracy / train_size)\n",
        "\n",
        "        wandb.log(\n",
        "          {\"train accuracy\" : train_accuracy_epoch,\"train loss\":loss}\n",
        "          )\n",
        "    \n",
        "    # validation_loss, accuracy = validation(model, testloader, criterion)\n",
        "    # Evaluate\n",
        "    model.eval()\n",
        "    # with torch.no_grad():\n",
        "    #       validation_loss, accuracy = validation(model, trainloader, criterion)\n",
        "\n",
        "\n",
        "    with torch.no_grad():\n",
        "        for image,label in valloader:\n",
        "            image = image.to(device)\n",
        "            test_prob = model(image)\n",
        "            test_prob = test_prob.cpu()\n",
        "            label = torch.reshape(label, (-1,)).long()\n",
        "            test_pred = torch.max(test_prob,1).indices\n",
        "            test_accuracy += int(torch.sum(test_pred == label))\n",
        "            label = torch.reshape(label, (-1,)).long()\n",
        "            loss = loss_fn(test_prob, label)            \n",
        "            count = 0\n",
        "            for i in range(len(test_pred)):\n",
        "              if(count == 3):\n",
        "                break\n",
        "              if(test_pred[i]!=label[i]):\n",
        "                  misclassified_img = torch.cat((misclassified_img,image))\n",
        "                  misclassified_label = torch.cat((misclassified_label, train_pred))\n",
        "                  count+=1\n",
        "\n",
        "\n",
        "            \n",
        "        test_accuracy_epoch = test_accuracy / val_size\n",
        "\n",
        "        wandb.log(\n",
        "          {\"val accuracy\" : test_accuracy_epoch,\"val loss\":loss}\n",
        "          )\n",
        "    # test_accuracy_epoch = 0\n",
        "    \n",
        "    print(f\"Epoch: {epoch+1}  , Loss: {tr_loss} , Train_acc: {train_accuracy_epoch}, Test_acc: {test_accuracy_epoch} , Val Loss:{loss}\")\n",
        "\n",
        "\n",
        "# artifact = wandb.Artifact('model', type='model')\n",
        "# artifact.add_file('model.pth')\n",
        "# wandb.log_artifact(artifact)"
      ],
      "metadata": {
        "colab": {
          "base_uri": "https://localhost:8080/",
          "height": 680
        },
        "id": "PQFAwWvSsB0R",
        "outputId": "9d60e400-90e7-43a9-eff8-25d7508e44b3"
      },
      "execution_count": 36,
      "outputs": [
        {
          "output_type": "display_data",
          "data": {
            "text/plain": [
              "<IPython.core.display.HTML object>"
            ],
            "text/html": [
              "Finishing last run (ID:utb2wth0) before initializing another..."
            ]
          },
          "metadata": {}
        },
        {
          "output_type": "display_data",
          "data": {
            "text/plain": [
              "<IPython.core.display.HTML object>"
            ],
            "text/html": [
              "Waiting for W&B process to finish... <strong style=\"color:green\">(success).</strong>"
            ]
          },
          "metadata": {}
        },
        {
          "output_type": "display_data",
          "data": {
            "text/plain": [
              "<IPython.core.display.HTML object>"
            ],
            "text/html": [
              "<style>\n",
              "    table.wandb td:nth-child(1) { padding: 0 10px; text-align: left ; width: auto;} td:nth-child(2) {text-align: left ; width: 100%}\n",
              "    .wandb-row { display: flex; flex-direction: row; flex-wrap: wrap; justify-content: flex-start; width: 100% }\n",
              "    .wandb-col { display: flex; flex-direction: column; flex-basis: 100%; flex: 1; padding: 10px; }\n",
              "    </style>\n",
              "<div class=\"wandb-row\"><div class=\"wandb-col\"><h3>Run history:</h3><br/><table class=\"wandb\"><tr><td>train accuracy</td><td>▁▆██</td></tr><tr><td>train loss</td><td>█▂▁▁</td></tr><tr><td>val accuracy</td><td>█▃▂▁</td></tr><tr><td>val loss</td><td>▁▅▇█</td></tr></table><br/></div><div class=\"wandb-col\"><h3>Run summary:</h3><br/><table class=\"wandb\"><tr><td>train accuracy</td><td>0.82359</td></tr><tr><td>train loss</td><td>0.73803</td></tr><tr><td>val accuracy</td><td>0.12156</td></tr><tr><td>val loss</td><td>6.09444</td></tr></table><br/></div></div>"
            ]
          },
          "metadata": {}
        },
        {
          "output_type": "display_data",
          "data": {
            "text/plain": [
              "<IPython.core.display.HTML object>"
            ],
            "text/html": [
              " View run <strong style=\"color:#cdcd00\">ancient-hill-6</strong> at: <a href='https://wandb.ai/drake/Q1/runs/utb2wth0' target=\"_blank\">https://wandb.ai/drake/Q1/runs/utb2wth0</a><br/>Synced 5 W&B file(s), 0 media file(s), 0 artifact file(s) and 0 other file(s)"
            ]
          },
          "metadata": {}
        },
        {
          "output_type": "display_data",
          "data": {
            "text/plain": [
              "<IPython.core.display.HTML object>"
            ],
            "text/html": [
              "Find logs at: <code>./wandb/run-20230218_115039-utb2wth0/logs</code>"
            ]
          },
          "metadata": {}
        },
        {
          "output_type": "display_data",
          "data": {
            "text/plain": [
              "<IPython.core.display.HTML object>"
            ],
            "text/html": [
              "Successfully finished last run (ID:utb2wth0). Initializing new run:<br/>"
            ]
          },
          "metadata": {}
        },
        {
          "output_type": "display_data",
          "data": {
            "text/plain": [
              "<IPython.core.display.HTML object>"
            ],
            "text/html": [
              "Tracking run with wandb version 0.13.10"
            ]
          },
          "metadata": {}
        },
        {
          "output_type": "display_data",
          "data": {
            "text/plain": [
              "<IPython.core.display.HTML object>"
            ],
            "text/html": [
              "Run data is saved locally in <code>/content/wandb/run-20230218_123724-vzedoeea</code>"
            ]
          },
          "metadata": {}
        },
        {
          "output_type": "display_data",
          "data": {
            "text/plain": [
              "<IPython.core.display.HTML object>"
            ],
            "text/html": [
              "Syncing run <strong><a href='https://wandb.ai/drake/Q1/runs/vzedoeea' target=\"_blank\">smart-frog-7</a></strong> to <a href='https://wandb.ai/drake/Q1' target=\"_blank\">Weights & Biases</a> (<a href='https://wandb.me/run' target=\"_blank\">docs</a>)<br/>"
            ]
          },
          "metadata": {}
        },
        {
          "output_type": "display_data",
          "data": {
            "text/plain": [
              "<IPython.core.display.HTML object>"
            ],
            "text/html": [
              " View project at <a href='https://wandb.ai/drake/Q1' target=\"_blank\">https://wandb.ai/drake/Q1</a>"
            ]
          },
          "metadata": {}
        },
        {
          "output_type": "display_data",
          "data": {
            "text/plain": [
              "<IPython.core.display.HTML object>"
            ],
            "text/html": [
              " View run at <a href='https://wandb.ai/drake/Q1/runs/vzedoeea' target=\"_blank\">https://wandb.ai/drake/Q1/runs/vzedoeea</a>"
            ]
          },
          "metadata": {}
        },
        {
          "output_type": "stream",
          "name": "stderr",
          "text": [
            "100%|██████████| 6/6 [00:08<00:00,  1.48s/batch]"
          ]
        },
        {
          "output_type": "stream",
          "name": "stdout",
          "text": [
            "374\n"
          ]
        },
        {
          "output_type": "stream",
          "name": "stderr",
          "text": [
            "\n"
          ]
        },
        {
          "output_type": "stream",
          "name": "stdout",
          "text": [
            "Epoch: 1  , Loss: 1.984862208366394 , Train_acc: 0.2671428571428571, Test_acc: 0.155 , Val Loss:2.383941173553467\n"
          ]
        },
        {
          "output_type": "stream",
          "name": "stderr",
          "text": [
            "100%|██████████| 6/6 [00:09<00:00,  1.56s/batch]"
          ]
        },
        {
          "output_type": "stream",
          "name": "stdout",
          "text": [
            "400\n"
          ]
        },
        {
          "output_type": "stream",
          "name": "stderr",
          "text": [
            "\n"
          ]
        },
        {
          "output_type": "stream",
          "name": "stdout",
          "text": [
            "Epoch: 2  , Loss: 1.9134963750839233 , Train_acc: 0.2857142857142857, Test_acc: 0.155 , Val Loss:2.413924217224121\n"
          ]
        },
        {
          "output_type": "stream",
          "name": "stderr",
          "text": [
            "100%|██████████| 6/6 [00:07<00:00,  1.22s/batch]"
          ]
        },
        {
          "output_type": "stream",
          "name": "stdout",
          "text": [
            "443\n"
          ]
        },
        {
          "output_type": "stream",
          "name": "stderr",
          "text": [
            "\n"
          ]
        },
        {
          "output_type": "stream",
          "name": "stdout",
          "text": [
            "Epoch: 3  , Loss: 1.8289217948913574 , Train_acc: 0.31642857142857145, Test_acc: 0.1375 , Val Loss:2.4576807022094727\n"
          ]
        },
        {
          "output_type": "stream",
          "name": "stderr",
          "text": [
            "100%|██████████| 6/6 [00:08<00:00,  1.44s/batch]"
          ]
        },
        {
          "output_type": "stream",
          "name": "stdout",
          "text": [
            "484\n"
          ]
        },
        {
          "output_type": "stream",
          "name": "stderr",
          "text": [
            "\n"
          ]
        },
        {
          "output_type": "stream",
          "name": "stdout",
          "text": [
            "Epoch: 4  , Loss: 1.7294977903366089 , Train_acc: 0.3457142857142857, Test_acc: 0.1375 , Val Loss:2.528925895690918\n"
          ]
        },
        {
          "output_type": "stream",
          "name": "stderr",
          "text": [
            "100%|██████████| 6/6 [00:09<00:00,  1.54s/batch]"
          ]
        },
        {
          "output_type": "stream",
          "name": "stdout",
          "text": [
            "520\n"
          ]
        },
        {
          "output_type": "stream",
          "name": "stderr",
          "text": [
            "\n"
          ]
        },
        {
          "output_type": "stream",
          "name": "stdout",
          "text": [
            "Epoch: 5  , Loss: 1.6279717683792114 , Train_acc: 0.37142857142857144, Test_acc: 0.135 , Val Loss:2.620059013366699\n"
          ]
        }
      ]
    },
    {
      "cell_type": "code",
      "source": [
        "len(misclassified_img)\n",
        "\n",
        "idx = -7\n",
        "misclassified_img[idx]\n",
        "\n",
        "plt.imshow(misclassified_img[idx].permute(1,2,0))\n",
        "print(labels[idx])"
      ],
      "metadata": {
        "colab": {
          "base_uri": "https://localhost:8080/",
          "height": 283
        },
        "id": "ZdWaqzc-nVu7",
        "outputId": "c6582b70-3c20-423b-8f44-9da46ce62408"
      },
      "execution_count": null,
      "outputs": [
        {
          "output_type": "stream",
          "name": "stdout",
          "text": [
            "tensor([6], dtype=torch.uint8)\n"
          ]
        },
        {
          "output_type": "display_data",
          "data": {
            "text/plain": [
              "<Figure size 432x288 with 1 Axes>"
            ],
            "image/png": "[encoded data removed]"
          },
          "metadata": {
            "needs_background": "light"
          }
        }
      ]
    },
    {
      "cell_type": "code",
      "source": [
        "idx = -16\n",
        "misclassified_img[idx]\n",
        "\n",
        "plt.imshow(misclassified_img[idx].permute(1,2,0))\n",
        "print(labels[idx])"
      ],
      "metadata": {
        "colab": {
          "base_uri": "https://localhost:8080/",
          "height": 283
        },
        "id": "HdVa1NBJLHmp",
        "outputId": "4b601037-7c86-44ba-fd72-c34970388b40"
      },
      "execution_count": null,
      "outputs": [
        {
          "output_type": "stream",
          "name": "stdout",
          "text": [
            "tensor([7], dtype=torch.uint8)\n"
          ]
        },
        {
          "output_type": "display_data",
          "data": {
            "text/plain": [
              "<Figure size 432x288 with 1 Axes>"
            ],
            "image/png": "[encoded data removed]"
          },
          "metadata": {
            "needs_background": "light"
          }
        }
      ]
    },
    {
      "cell_type": "code",
      "source": [
        "from torchmetrics.classification import F1Score\n",
        "# print(f1_true)\n",
        "# print(f1_pred)\n",
        "f1 = F1Score(task=\"multiclass\", num_classes=10)\n",
        "f1(f1_pred, f1_true)"
      ],
      "metadata": {
        "colab": {
          "base_uri": "https://localhost:8080/"
        },
        "id": "Q44n6HLd7jkf",
        "outputId": "eac838be-977f-498f-d2ca-db077693166b"
      },
      "execution_count": null,
      "outputs": [
        {
          "output_type": "execute_result",
          "data": {
            "text/plain": [
              "tensor(0.6937)"
            ]
          },
          "metadata": {},
          "execution_count": 70
        }
      ]
    },
    {
      "cell_type": "code",
      "source": [
        "f1_true = torch.tensor([])\n",
        "f1_pred = torch.tensor([])\n",
        "\n",
        "with torch.no_grad():\n",
        "        for image,label in valloader:\n",
        "            image = image.to(device)\n",
        "            test_prob = model(image)\n",
        "            test_prob = test_prob.cpu()\n",
        "            label = torch.reshape(label, (-1,)).long()\n",
        "            test_pred = torch.max(test_prob,1).indices\n",
        "            test_accuracy += int(torch.sum(test_pred == label))\n",
        "            label = torch.reshape(label, (-1,)).long()\n",
        "            # loss = loss_fn(test_prob, label)\n",
        "\n",
        "            count = 0\n",
        "            for i in range(len(test_pred)):\n",
        "              if(count == 3):\n",
        "                break\n",
        "              if(test_pred[i]!=label[i]):\n",
        "                  misclassified_img = torch.cat((misclassified_img,image))\n",
        "                  misclassified_label = torch.cat((misclassified_label, train_pred))\n",
        "                  count+=1\n",
        "\n",
        "            f1_true = torch.cat((f1_true, label))\n",
        "            f1_pred = torch.cat((f1_pred, test_prob))\n",
        "            \n",
        "        test_accuracy_epoch = test_accuracy / test_size\n",
        "\n",
        "        wandb.log(\n",
        "          {\"test accuracy\" : test_accuracy_epoch,\"test loss\":loss}\n",
        "          )\n",
        "        \n",
        "\n",
        "from torchmetrics.classification import F1Score\n",
        "# print(f1_true)\n",
        "# print(f1_pred)\n",
        "f1 = F1Score(task=\"multiclass\", num_classes=10)\n",
        "print(f1(f1_pred, f1_true))\n",
        "print(test_accuracy_epoch)"
      ],
      "metadata": {
        "colab": {
          "base_uri": "https://localhost:8080/"
        },
        "id": "bbpPty6RIeOI",
        "outputId": "46515f48-32ec-4e98-a0df-af3312a45efb"
      },
      "execution_count": 156,
      "outputs": [
        {
          "output_type": "stream",
          "name": "stdout",
          "text": [
            "tensor(0.1682)\n",
            "1.0098360655737706\n"
          ]
        }
      ]
    },
    {
      "cell_type": "markdown",
      "source": [
        "\n",
        "## Trash"
      ],
      "metadata": {
        "id": "owdlsThLovhb"
      }
    },
    {
      "cell_type": "code",
      "source": [
        "#   for epoch in range(1):  # loop over the dataset multiple times\n",
        "\n",
        "#     running_loss = 0.0\n",
        "#     for i, data in enumerate(trainloader, 0):\n",
        "#         # get the inputs; data is a list of [inputs, labels]\n",
        "#         inputs, labels = data\n",
        "#         inputs.float()\n",
        "#         # zero the parameter gradients\n",
        "#         optimizer.zero_grad()\n",
        "\n",
        "#         # forward + backward + optimize\n",
        "#         outputs = model(inputs)\n",
        "#         labels = torch.reshape(labels, (-1,)).long()\n",
        "#         # print(labels)\n",
        "#         loss = criterion(outputs, labels)\n",
        "#         print(loss)\n",
        "#         loss.backward()\n",
        "#         optimizer.step()\n",
        "\n",
        "#         # print statistics\n",
        "#         running_loss += loss.item()\n",
        "#         print(running_loss)\n",
        "\n",
        "#         # print(f'[{epoch + 1}, {i + 1:5d}] loss: {running_loss / 2000:.3f}')\n",
        "#         if i % 10 == 1999:    # print every 2000 mini-batches\n",
        "#             print(f'[{epoch + 1}, {i + 1:5d}] loss: {running_loss / 2000:.3f}')\n",
        "#             running_loss = 0.0\n",
        "\n",
        "# print('Finished Training')"
      ],
      "metadata": {
        "id": "rNRbrMvDNISl"
      },
      "execution_count": null,
      "outputs": []
    },
    {
      "cell_type": "code",
      "source": [
        "# # data_size = len(data['X'])\n",
        "# data_size = 2000\n",
        "\n",
        "# transform = transforms.Compose(\n",
        "#     [transforms.ToTensor(),\n",
        "#      transforms.Normalize((0.5, 0.5, 0.5), (0.5, 0.5, 0.5))])\n",
        "\n",
        "\n",
        "# # shuffle\n",
        "# indices = list(range(data_size))\n",
        "# np.random.shuffle(indices)\n",
        "\n",
        "# test_size =  int(  0.10*data_size )\n",
        "# val_size =   int(  0.20*data_size )\n",
        "# train_size = int(  0.70*data_size )\n",
        "\n",
        "\n",
        "# test_index =  indices[:test_size]\n",
        "# train_index = indices[test_size:test_size+train_size]\n",
        "# val_index = indices[-val_size:]\n",
        "\n",
        "# # df_test = torch.tensor(torch.tensor(data['X'][test_index]),torch.tensor(data['y'][test_index]))\n",
        "\n",
        "# # from torch.utils.data import TensorDataset\n",
        "# # label = torch.tensor(data['y'],)\n",
        "# # img_arr = torch.tensor(data['X'])\n",
        "# # df = TensorDataset(img_arr, label)\n",
        "\n",
        "\n",
        "# gen = torch.Generator()\n",
        "# gen.manual_seed(42)\n",
        "\n",
        "# train_sampler=SubsetRandomSampler(train_index, generator=gen)\n",
        "# val_sampler=SubsetRandomSampler(val_index, generator=gen)\n",
        "# test_sampler=SubsetRandomSampler(test_index, generator=gen)\n",
        "\n",
        "# batch_size = 64\n",
        "# trainloader = torch.utils.data.DataLoader(df, sampler = train_sampler, batch_size=batch_size,num_workers=2)\n",
        "# # valloader = torch.utils.data.DataLoader(df, sampler = val_sampler, batch_size=batch_size,num_workers=2)\n",
        "# # testloader = torch.utils.data.DataLoader(df,sampler = test_sampler, batch_size=batch_size,num_workers=2)"
      ],
      "metadata": {
        "id": "GJ2FXqp5TV9A"
      },
      "execution_count": null,
      "outputs": []
    },
    {
      "cell_type": "code",
      "source": [
        "# training\n",
        "y_train = data['y'][train_index]\n",
        "y_val = data['y'][val_index]"
      ],
      "metadata": {
        "id": "NpEhHha6cW7s"
      },
      "execution_count": null,
      "outputs": []
    },
    {
      "cell_type": "code",
      "source": [
        "unique, counts = np.unique(y_train, return_counts=True)\n",
        "plt.bar(unique, counts, color ='maroon',\n",
        "        width = 0.4)"
      ],
      "metadata": {
        "colab": {
          "base_uri": "https://localhost:8080/"
        },
        "id": "AXrM1lXldJUK",
        "outputId": "fa5967ab-4b83-4a7f-906f-4f23debb491a"
      },
      "execution_count": null,
      "outputs": [
        {
          "output_type": "execute_result",
          "data": {
            "text/plain": [
              "<BarContainer object of 10 artists>"
            ]
          },
          "metadata": {},
          "execution_count": 22
        },
        {
          "output_type": "display_data",
          "data": {
            "text/plain": [
              "<Figure size 432x288 with 1 Axes>"
            ],
            "image/png": "[encoded data removed]"
          },
          "metadata": {
            "needs_background": "light"
          }
        }
      ]
    },
    {
      "cell_type": "code",
      "source": [
        "unique, counts = np.unique(y_val, return_counts=True)\n",
        "plt.bar(unique, counts, color ='green',\n",
        "        width = 0.4)"
      ],
      "metadata": {
        "colab": {
          "base_uri": "https://localhost:8080/"
        },
        "id": "a-dvDgJedj3d",
        "outputId": "ddc8c4ed-f9a1-45fb-8ef7-33876a0c0e3e"
      },
      "execution_count": null,
      "outputs": [
        {
          "output_type": "execute_result",
          "data": {
            "text/plain": [
              "<BarContainer object of 10 artists>"
            ]
          },
          "metadata": {},
          "execution_count": 23
        },
        {
          "output_type": "display_data",
          "data": {
            "text/plain": [
              "<Figure size 432x288 with 1 Axes>"
            ],
            "image/png": "[encoded data removed]"
          },
          "metadata": {
            "needs_background": "light"
          }
        }
      ]
    },
    {
      "cell_type": "markdown",
      "source": [
        "## RESNET"
      ],
      "metadata": {
        "id": "810bUQCagJDa"
      }
    },
    {
      "cell_type": "code",
      "source": [
        "# https://github.com/shounak8/AIML_Tutotials/blob/master/Deep_Learning/PyTorch/santa_or_not/santa_pytorch_pretrained_model.ipynb"
      ],
      "metadata": {
        "id": "kWJzlqtjgNVy"
      },
      "execution_count": null,
      "outputs": []
    },
    {
      "cell_type": "code",
      "source": [
        "device = torch.device(\"cuda:0\" if torch.cuda.is_available() else \"cpu\") # device object"
      ],
      "metadata": {
        "id": "sWUvAjKH4FBv"
      },
      "execution_count": null,
      "outputs": []
    },
    {
      "cell_type": "code",
      "source": [
        "model = resnet18(pretrained=True) # using pre trained resnet\n",
        "model.fc = Linear(in_features=512, out_features=10)  # changing the dimensions of last output layer to number of classes\n",
        "model = model.to(device) # using gpu\n",
        "\n",
        "optimizer = Adam(model.parameters(), lr=0.01) # choosing optimizer and setting cross entropy loss\n",
        "loss_function = CrossEntropyLoss() "
      ],
      "metadata": {
        "colab": {
          "base_uri": "https://localhost:8080/"
        },
        "id": "NU5C3h2hqgEb",
        "outputId": "fd83a37e-bbe8-47b2-ffcc-b5f21221ab2c"
      },
      "execution_count": null,
      "outputs": [
        {
          "output_type": "stream",
          "name": "stderr",
          "text": [
            "/usr/local/lib/python3.8/dist-packages/torchvision/models/_utils.py:208: UserWarning: The parameter 'pretrained' is deprecated since 0.13 and may be removed in the future, please use 'weights' instead.\n",
            "  warnings.warn(\n",
            "/usr/local/lib/python3.8/dist-packages/torchvision/models/_utils.py:223: UserWarning: Arguments other than a weight enum or `None` for 'weights' are deprecated since 0.13 and may be removed in the future. The current behavior is equivalent to passing `weights=ResNet18_Weights.IMAGENET1K_V1`. You can also use `weights=ResNet18_Weights.DEFAULT` to get the most up-to-date weights.\n",
            "  warnings.warn(msg)\n"
          ]
        }
      ]
    },
    {
      "cell_type": "code",
      "source": [
        "model = resnet18(pretrained=True)   #load resnet18 model\n",
        "num_features = model.fc.in_features     #extract fc layers features\n",
        "model.fc = nn.Linear(num_features, 10) #(num_of_class == 2)\n",
        "model = model.to(device) \n",
        "loss_fn = nn.CrossEntropyLoss()  #(set loss function)\n",
        "optimizer = optim.SGD(model.parameters(), lr=0.001, momentum=0.9)"
      ],
      "metadata": {
        "id": "j6370YX6AjZL"
      },
      "execution_count": null,
      "outputs": []
    },
    {
      "cell_type": "code",
      "source": [
        "import glob\n",
        "import cv2\n",
        "import numpy as np\n",
        "import torch\n",
        "from torch.utils.data import Dataset, DataLoader\n",
        "import os\n",
        "import pandas as pd\n",
        "from torchvision.io import read_image\n",
        "\n",
        "\n",
        "# data = scipy.io.loadmat(\"/content/gdrive/MyDrive/cv1.mat\")\n",
        "# data['y'][ data['y'] == 10 ] = 0\n",
        "\n",
        "# xt = data['X'][:2000]\n",
        "# yt = data['y'][:2000]\n",
        "# data_train = {'X':xt,'y':yt}\n",
        "\n",
        "# xt = data['X'][200:1500]\n",
        "# yt = data['y'][200:1500]\n",
        "# data_test = {'X':xt,'y':yt}\n",
        "\n",
        "# train = CustomImageDataset(data_train,transform)\n",
        "# # # test =  CustomImageDataset(data_test,transform)\n",
        "\n",
        "# trainloader = torch.utils.data.DataLoader(train, batch_size=64,num_workers=2)\n",
        "# # testloader = torch.utils.data.DataLoader(test, batch_size=64,num_workers=2)\n",
        "\n",
        "# LEN_TRAIN = train_size\n",
        "for epoch in range(5):\n",
        "    \n",
        "    train_accuracy = 0\n",
        "    test_accuracy = 0\n",
        "    \n",
        "    # Train\n",
        "    model.train()\n",
        "    f1_true = torch.tensor([])\n",
        "    f1_pred = torch.tensor([])\n",
        "\n",
        "    #\n",
        "    misclassified_img = torch.tensor([])\n",
        "    misclassified_label = torch.tensor([])\n",
        "    \n",
        "    with tqdm(trainloader, unit=\"batch\") as tepoch:\n",
        "        for image,label in tepoch:\n",
        "            optimizer.zero_grad()\n",
        "            \n",
        "            image = image.to(device)\n",
        "            train_prob = model(image)\n",
        "            train_prob = train_prob.cpu()\n",
        "            \n",
        "            label = torch.reshape(label, (-1,)).long()\n",
        "            loss = loss_fn(train_prob, label)\n",
        "            loss.backward()\n",
        "            optimizer.step()\n",
        "            \n",
        "            train_pred = torch.max(train_prob, 1).indices\n",
        "            train_accuracy += int(torch.sum(train_pred == label))\n",
        "\n",
        "            f1_true = torch.cat((f1_true, label))\n",
        "            f1_pred = torch.cat((f1_pred, train_pred))\n",
        "            \n",
        "            \n",
        "            \n",
        "\n",
        "        train_accuracy_epoch = (train_accuracy / train_size)\n",
        "    \n",
        "    # Evaluate\n",
        "    # model.eval()\n",
        "    # with torch.no_grad():\n",
        "    #     for image,label in testloader:\n",
        "    #         image = image.to(device)\n",
        "    #         test_prob = model(image)\n",
        "    #         test_prob = test_prob.cpu()\n",
        "            \n",
        "    #         test_pred = torch.max(test_prob,1).indices\n",
        "    #         test_accuracy += int(torch.sum(test_pred == label))\n",
        "    #         if(test_pred != label):\n",
        "    #           misclassified_img = torch.cat((misclassified,image))\n",
        "    #           misclassified_lael = torch.cat((misclassified_lael, train_pred))\n",
        "\n",
        "            \n",
        "    #     test_accuracy_epoch = test_accuracy / test_size\n",
        "    test_accuracy_epoch = 0\n",
        "    \n",
        "    print(f\"Epoch: {epoch}  , Loss: {loss} , Train_acc: {train_accuracy_epoch}, Test_acc: {test_accuracy_epoch}\")"
      ],
      "metadata": {
        "id": "cc3miMCQgNhS",
        "colab": {
          "base_uri": "https://localhost:8080/"
        },
        "outputId": "08edb89e-ebd8-4c86-b05c-3039c7befd32"
      },
      "execution_count": null,
      "outputs": [
        {
          "output_type": "stream",
          "name": "stderr",
          "text": [
            "100%|██████████| 101/101 [01:06<00:00,  1.52batch/s]\n"
          ]
        },
        {
          "output_type": "stream",
          "name": "stdout",
          "text": [
            "Epoch: 0  , Loss: 2.4517643451690674 , Train_acc: 0.16367608051178031, Test_acc: 0\n"
          ]
        },
        {
          "output_type": "stream",
          "name": "stderr",
          "text": [
            "100%|██████████| 101/101 [01:21<00:00,  1.24batch/s]\n"
          ]
        },
        {
          "output_type": "stream",
          "name": "stdout",
          "text": [
            "Epoch: 1  , Loss: 2.6714444160461426 , Train_acc: 0.1770947105632704, Test_acc: 0\n"
          ]
        },
        {
          "output_type": "stream",
          "name": "stderr",
          "text": [
            "100%|██████████| 101/101 [01:07<00:00,  1.49batch/s]\n"
          ]
        },
        {
          "output_type": "stream",
          "name": "stdout",
          "text": [
            "Epoch: 2  , Loss: 2.551065444946289 , Train_acc: 0.1830238726790451, Test_acc: 0\n"
          ]
        },
        {
          "output_type": "stream",
          "name": "stderr",
          "text": [
            "100%|██████████| 101/101 [01:09<00:00,  1.45batch/s]\n"
          ]
        },
        {
          "output_type": "stream",
          "name": "stdout",
          "text": [
            "Epoch: 3  , Loss: 2.5716419219970703 , Train_acc: 0.18614448431892652, Test_acc: 0\n"
          ]
        },
        {
          "output_type": "stream",
          "name": "stderr",
          "text": [
            "100%|██████████| 101/101 [01:08<00:00,  1.47batch/s]"
          ]
        },
        {
          "output_type": "stream",
          "name": "stdout",
          "text": [
            "Epoch: 4  , Loss: 1.9497307538986206 , Train_acc: 0.1942580745826182, Test_acc: 0\n"
          ]
        },
        {
          "output_type": "stream",
          "name": "stderr",
          "text": [
            "\n"
          ]
        }
      ]
    },
    {
      "cell_type": "code",
      "source": [
        "from sklearn.manifold import TSNE\n",
        "import numpy as np\n",
        "import matplotlib.pyplot as plt\n",
        "from mpl_toolkits.mplot3d import Axes3D\n",
        "import warnings\n",
        "warnings.filterwarnings(\"ignore\")\n",
        "\n",
        "# Load pre-trained ResNet-18 model and freeze weights\n",
        "resnet = resnet18(pretrained=True)\n",
        "for param in resnet.parameters():\n",
        "    param.requires_grad = False\n",
        "\n",
        "# Extract feature vectors for training and validation sets\n",
        "train_features = []\n",
        "train_labels = []\n",
        "for images, labels in trainloader:\n",
        "    with torch.no_grad():\n",
        "        features = resnet(images)\n",
        "    train_features.append(features.cpu().numpy())\n",
        "    train_labels.append(labels.numpy())\n",
        "\n",
        "train_features = np.concatenate(train_features)\n",
        "train_labels = np.concatenate(train_labels)\n",
        "\n",
        "val_features = []\n",
        "val_labels = []\n",
        "for images, labels in valloader:\n",
        "    with torch.no_grad():\n",
        "        features = resnet(images)\n",
        "    val_features.append(features.cpu().numpy())\n",
        "    val_labels.append(labels.numpy())\n",
        "\n",
        "val_features = np.concatenate(val_features)\n",
        "val_labels = np.concatenate(val_labels)\n",
        "\n",
        "# Reduce dimensionality of feature vectors using t-SNE\n",
        "tsne = TSNE(n_components=2, perplexity=30, random_state=0)\n",
        "train_tsne = tsne.fit_transform(train_features)\n",
        "val_tsne = tsne.fit_transform(val_features)\n",
        "\n",
        "# Visualize 2D t-SNE plot of training set\n",
        "plt.scatter(train_tsne[:, 0], train_tsne[:, 1], c=train_labels)\n",
        "plt.title('2D t-SNE plot of training set')\n",
        "plt.show()\n",
        "\n",
        "# Visualize 2D t-SNE plot of validation set\n",
        "plt.scatter(val_tsne[:, 0], val_tsne[:, 1], c=val_labels)\n",
        "plt.title('2D t-SNE plot of validation set')\n",
        "plt.show()\n",
        "\n",
        "# Reduce dimensionality of feature vectors using t-SNE for 3D plot\n",
        "tsne_3d = TSNE(n_components=3, perplexity=30, random_state=0)\n",
        "val_tsne_3d = tsne_3d.fit_transform(val_features)\n",
        "\n",
        "# Visualize 3D t-SNE plot of validation set\n",
        "fig = plt.figure()\n",
        "ax = fig.add_subplot(111, projection='3d')\n",
        "ax"
      ],
      "metadata": {
        "colab": {
          "base_uri": "https://localhost:8080/",
          "height": 1000
        },
        "id": "bf1f1kPOkM-U",
        "outputId": "c7fb9edd-33eb-4b81-f31c-f8e57b407986"
      },
      "execution_count": null,
      "outputs": [
        {
          "output_type": "stream",
          "name": "stderr",
          "text": [
            "/usr/local/lib/python3.8/dist-packages/sklearn/manifold/_t_sne.py:780: FutureWarning: The default initialization in TSNE will change from 'random' to 'pca' in 1.2.\n",
            "  warnings.warn(\n",
            "/usr/local/lib/python3.8/dist-packages/sklearn/manifold/_t_sne.py:790: FutureWarning: The default learning rate in TSNE will change from 200.0 to 'auto' in 1.2.\n",
            "  warnings.warn(\n",
            "/usr/local/lib/python3.8/dist-packages/sklearn/manifold/_t_sne.py:780: FutureWarning: The default initialization in TSNE will change from 'random' to 'pca' in 1.2.\n",
            "  warnings.warn(\n",
            "/usr/local/lib/python3.8/dist-packages/sklearn/manifold/_t_sne.py:790: FutureWarning: The default learning rate in TSNE will change from 200.0 to 'auto' in 1.2.\n",
            "  warnings.warn(\n"
          ]
        },
        {
          "output_type": "display_data",
          "data": {
            "text/plain": [
              "<Figure size 432x288 with 1 Axes>"
            ],
            "image/png": "[encoded data removed]"
          },
          "metadata": {
            "needs_background": "light"
          }
        },
        {
          "output_type": "display_data",
          "data": {
            "text/plain": [
              "<Figure size 432x288 with 1 Axes>"
            ],
            "image/png": "[encoded data removed]"
          },
          "metadata": {
            "needs_background": "light"
          }
        },
        {
          "output_type": "stream",
          "name": "stderr",
          "text": [
            "/usr/local/lib/python3.8/dist-packages/sklearn/manifold/_t_sne.py:780: FutureWarning: The default initialization in TSNE will change from 'random' to 'pca' in 1.2.\n",
            "  warnings.warn(\n",
            "/usr/local/lib/python3.8/dist-packages/sklearn/manifold/_t_sne.py:790: FutureWarning: The default learning rate in TSNE will change from 200.0 to 'auto' in 1.2.\n",
            "  warnings.warn(\n"
          ]
        },
        {
          "output_type": "execute_result",
          "data": {
            "text/plain": [
              "<matplotlib.axes._subplots.Axes3DSubplot at 0x7f0099c8ca00>"
            ]
          },
          "metadata": {},
          "execution_count": 75
        },
        {
          "output_type": "display_data",
          "data": {
            "text/plain": [
              "<Figure size 432x288 with 1 Axes>"
            ],
            "image/png": "[encoded data removed]"
          },
          "metadata": {
            "needs_background": "light"
          }
        }
      ]
    },
    {
      "cell_type": "code",
      "source": [
        "from torchmetrics.classification import F1Score\n",
        "# print(f1_true)\n",
        "# print(f1_pred)\n",
        "f1 = F1Score(task=\"multiclass\", num_classes=10)\n",
        "f1(f1_pred, f1_true)"
      ],
      "metadata": {
        "colab": {
          "base_uri": "https://localhost:8080/"
        },
        "id": "Mg_7lTT9qdOh",
        "outputId": "ab979e29-81a2-4bc1-8a6c-2400c3b34270"
      },
      "execution_count": null,
      "outputs": [
        {
          "output_type": "execute_result",
          "data": {
            "text/plain": [
              "tensor(0.0905)"
            ]
          },
          "metadata": {},
          "execution_count": 27
        }
      ]
    },
    {
      "cell_type": "code",
      "source": [],
      "metadata": {
        "id": "WDDf28iiGCmW"
      },
      "execution_count": null,
      "outputs": []
    },
    {
      "cell_type": "code",
      "source": [
        "labels = None\n",
        "features = None\n",
        "with torch.no_grad():\n",
        "    for data in trainloader:\n",
        "        images, labels = data\n",
        "        features = model.get_features(images)\n",
        "      \n",
        "print(features)"
      ],
      "metadata": {
        "id": "0LSDLP7d4sFs",
        "colab": {
          "base_uri": "https://localhost:8080/"
        },
        "outputId": "cc1206af-c820-44f8-9b82-a87cd0c8c3ae"
      },
      "execution_count": null,
      "outputs": [
        {
          "output_type": "stream",
          "name": "stdout",
          "text": [
            "tensor([[ 1.0732, -0.1563, -0.9011,  ..., -3.4389, -1.0389, -0.7465],\n",
            "        [-0.6167, -0.8459, -0.2426,  ...,  0.2298,  0.2022,  0.2082],\n",
            "        [ 1.5768,  0.8436,  0.0436,  ..., -0.2039, -0.0534,  0.1282],\n",
            "        ...,\n",
            "        [-0.1947, -1.3528, -1.0856,  ...,  0.9888, -0.0083, -1.0834],\n",
            "        [ 1.5978,  0.2717,  0.2054,  ..., -1.5825, -1.1811,  0.9422],\n",
            "        [ 1.9095,  0.2840, -0.2494,  ...,  0.7040, -1.0199, -2.8788]])\n"
          ]
        }
      ]
    },
    {
      "cell_type": "code",
      "source": [],
      "metadata": {
        "id": "eCNk72N5GJZp"
      },
      "execution_count": null,
      "outputs": []
    },
    {
      "cell_type": "code",
      "source": [
        "LEN_TRAIN = 2000\n",
        "for epoch in range(2):\n",
        "    \n",
        "    \n",
        "    tr_acc = 0\n",
        "    test_acc = 0\n",
        "    \n",
        "    # Train\n",
        "    model.train()\n",
        "    \n",
        "\n",
        "    f1_true = torch.tensor([])\n",
        "    f1_pred = torch.tensor([])\n",
        "\n",
        "  \n",
        "    \n",
        "    with tqdm(trainloader, unit=\"batch\") as tepoch:\n",
        "        for xtrain, ytrain in tepoch:\n",
        "            optimiser.zero_grad()\n",
        "            \n",
        "            xtrain = xtrain.to(device)\n",
        "            train_prob = model(xtrain)\n",
        "            train_prob = train_prob.cpu()\n",
        "            \n",
        "\n",
        "\n",
        "            ytrain = torch.reshape(ytrain, (-1,)).long()\n",
        "\n",
        "            \n",
        "\n",
        "            loss = loss_fn(train_prob, ytrain)\n",
        "            loss.backward()\n",
        "            optimiser.step()\n",
        "            \n",
        "            # training ends\n",
        "            \n",
        "            train_pred = torch.max(train_prob, 1).indices\n",
        "\n",
        "            f1_true = torch.cat((f1_true, ytrain))\n",
        "            f1_pred = torch.cat((f1_pred, train_pred))\n",
        "\n",
        "            tr_acc += int(torch.sum(train_pred == ytrain))\n",
        "            \n",
        "        ep_tr_acc = tr_acc / LEN_TRAIN\n",
        "    \n",
        "    # Evaluate\n",
        "    # model.eval()\n",
        "    # with torch.no_grad():\n",
        "    #     for xtest, ytest in test_loader:\n",
        "    #         xtest = xtest.to(device)\n",
        "    #         test_prob = model(xtest)\n",
        "    #         test_prob = test_prob.cpu()\n",
        "            \n",
        "    #         test_pred = torch.max(test_prob,1).indices\n",
        "    #         test_acc += int(torch.sum(test_pred == ytest))\n",
        "            \n",
        "    #     ep_test_acc = test_acc / LEN_TEST\n",
        "    \n",
        "   \n",
        "    \n",
        "    print(f\"Epoch: {epoch}, Time: {0}, Loss: {loss}\\nTrain_acc: {ep_tr_acc}, Test_acc: {0}\")"
      ],
      "metadata": {
        "colab": {
          "base_uri": "https://localhost:8080/"
        },
        "id": "i5-xv-9_peUn",
        "outputId": "f6d71eee-a4de-43db-9e83-6ea11cffd002"
      },
      "execution_count": null,
      "outputs": [
        {
          "output_type": "stream",
          "name": "stderr",
          "text": [
            "100%|██████████| 32/32 [00:17<00:00,  1.83batch/s]\n"
          ]
        },
        {
          "output_type": "stream",
          "name": "stdout",
          "text": [
            "Epoch: 0, Time: 0, Loss: 2.636685371398926\n",
            "Train_acc: 0.0905, Test_acc: 0\n"
          ]
        },
        {
          "output_type": "stream",
          "name": "stderr",
          "text": [
            "100%|██████████| 32/32 [00:18<00:00,  1.75batch/s]"
          ]
        },
        {
          "output_type": "stream",
          "name": "stdout",
          "text": [
            "Epoch: 1, Time: 0, Loss: 2.636685371398926\n",
            "Train_acc: 0.0905, Test_acc: 0\n"
          ]
        },
        {
          "output_type": "stream",
          "name": "stderr",
          "text": [
            "\n"
          ]
        }
      ]
    },
    {
      "cell_type": "code",
      "source": [
        "ytrain = torch.reshape(ytrain, (-1,)).long()\n",
        "ytrain"
      ],
      "metadata": {
        "colab": {
          "base_uri": "https://localhost:8080/"
        },
        "id": "LhSji_G7pmx0",
        "outputId": "8b14dd36-2611-4e8f-918f-2658d5ab7ec4"
      },
      "execution_count": null,
      "outputs": [
        {
          "output_type": "execute_result",
          "data": {
            "text/plain": [
              "tensor([8, 4, 1, 2, 9, 5, 6, 2, 9, 1, 1, 5, 2, 1, 3, 3])"
            ]
          },
          "metadata": {},
          "execution_count": 29
        }
      ]
    },
    {
      "cell_type": "code",
      "source": [
        "torch.max(train_prob, 1)"
      ],
      "metadata": {
        "colab": {
          "base_uri": "https://localhost:8080/"
        },
        "id": "GVCMCRTAp8-6",
        "outputId": "e36ef263-be74-4f6b-a660-0e050b5daac8"
      },
      "execution_count": null,
      "outputs": [
        {
          "output_type": "execute_result",
          "data": {
            "text/plain": [
              "torch.return_types.max(\n",
              "values=tensor([0.9538, 0.7797, 1.3748, 1.5034, 1.3536, 0.7009, 1.2162, 1.0941, 1.3805,\n",
              "        1.3677, 2.2909, 1.6346, 1.1408, 1.1597, 1.2788, 0.7480],\n",
              "       grad_fn=<MaxBackward0>),\n",
              "indices=tensor([0, 2, 5, 3, 2, 5, 4, 4, 2, 6, 6, 5, 6, 6, 6, 2]))"
            ]
          },
          "metadata": {},
          "execution_count": 30
        }
      ]
    },
    {
      "cell_type": "code",
      "source": [
        "a = torch.randn(1, 3)\n",
        "a"
      ],
      "metadata": {
        "colab": {
          "base_uri": "https://localhost:8080/"
        },
        "id": "HgxCGOjuzA5w",
        "outputId": "26138c88-32d2-49f2-aea5-ff4ed57e4ef1"
      },
      "execution_count": null,
      "outputs": [
        {
          "output_type": "execute_result",
          "data": {
            "text/plain": [
              "tensor([[ 0.5987, -0.4885,  1.4049]])"
            ]
          },
          "metadata": {},
          "execution_count": 31
        }
      ]
    },
    {
      "cell_type": "code",
      "source": [
        "torch.max(a,1).indices"
      ],
      "metadata": {
        "colab": {
          "base_uri": "https://localhost:8080/"
        },
        "id": "WCS-AuB9zKps",
        "outputId": "5ca49b37-fa07-4ab2-bde0-8710406fc73c"
      },
      "execution_count": null,
      "outputs": [
        {
          "output_type": "execute_result",
          "data": {
            "text/plain": [
              "tensor([2])"
            ]
          },
          "metadata": {},
          "execution_count": 32
        }
      ]
    },
    {
      "cell_type": "code",
      "source": [
        "b = torch.randn(1, 3)\n",
        "b"
      ],
      "metadata": {
        "colab": {
          "base_uri": "https://localhost:8080/"
        },
        "id": "2MdPfUg_zPyL",
        "outputId": "a1691de2-d4f4-449c-d270-d6559b029698"
      },
      "execution_count": null,
      "outputs": [
        {
          "output_type": "execute_result",
          "data": {
            "text/plain": [
              "tensor([[-0.3623,  0.6409, -0.4022]])"
            ]
          },
          "metadata": {},
          "execution_count": 33
        }
      ]
    },
    {
      "cell_type": "code",
      "source": [
        "a = torch.cat((a, b))"
      ],
      "metadata": {
        "id": "F-SbBXur0kGV"
      },
      "execution_count": null,
      "outputs": []
    },
    {
      "cell_type": "code",
      "source": [
        "b1 = torch.tensor([12,3])\n",
        "b1"
      ],
      "metadata": {
        "colab": {
          "base_uri": "https://localhost:8080/"
        },
        "id": "L8nbiN_30-3c",
        "outputId": "16854936-b17c-400a-c9db-3ccde8f02eb2"
      },
      "execution_count": null,
      "outputs": [
        {
          "output_type": "execute_result",
          "data": {
            "text/plain": [
              "tensor([12,  3])"
            ]
          },
          "metadata": {},
          "execution_count": 35
        }
      ]
    },
    {
      "cell_type": "code",
      "source": [
        "a1 = torch.tensor([2,3])\n",
        "a1"
      ],
      "metadata": {
        "colab": {
          "base_uri": "https://localhost:8080/"
        },
        "id": "qnqDjvvs0_gT",
        "outputId": "50c5292f-ade5-4cca-a9fa-eaac1b3777cb"
      },
      "execution_count": null,
      "outputs": [
        {
          "output_type": "execute_result",
          "data": {
            "text/plain": [
              "tensor([2, 3])"
            ]
          },
          "metadata": {},
          "execution_count": 36
        }
      ]
    },
    {
      "cell_type": "code",
      "source": [
        "f1_true = torch.tensor([])\n",
        "f1_true = torch.cat((f1_true, labels))\n"
      ],
      "metadata": {
        "id": "w0zekPJx2PLn"
      },
      "execution_count": null,
      "outputs": []
    },
    {
      "cell_type": "code",
      "source": [
        "for i in range(len(a1)):\n",
        "  print(a1[i] == 2)"
      ],
      "metadata": {
        "colab": {
          "base_uri": "https://localhost:8080/"
        },
        "id": "UveGPmoL2V5-",
        "outputId": "68f3f801-c27e-4424-ded3-8652c75ce57f"
      },
      "execution_count": null,
      "outputs": [
        {
          "output_type": "stream",
          "name": "stdout",
          "text": [
            "tensor(True)\n",
            "tensor(False)\n"
          ]
        }
      ]
    },
    {
      "cell_type": "code",
      "source": [
        "plt.plot(a1.numpy(),[2,3])"
      ],
      "metadata": {
        "colab": {
          "base_uri": "https://localhost:8080/",
          "height": 282
        },
        "id": "AeH2dtOH1GZr",
        "outputId": "a72bcfe9-d641-4651-f94e-83d6726b01a1"
      },
      "execution_count": null,
      "outputs": [
        {
          "output_type": "execute_result",
          "data": {
            "text/plain": [
              "[<matplotlib.lines.Line2D at 0x7f698b25f670>]"
            ]
          },
          "metadata": {},
          "execution_count": 39
        },
        {
          "output_type": "display_data",
          "data": {
            "text/plain": [
              "<Figure size 432x288 with 1 Axes>"
            ],
            "image/png": "[encoded data removed]"
          },
          "metadata": {
            "needs_background": "light"
          }
        }
      ]
    },
    {
      "cell_type": "code",
      "source": [],
      "metadata": {
        "id": "bLeyEofr1rnY"
      },
      "execution_count": null,
      "outputs": []
    },
    {
      "cell_type": "markdown",
      "source": [
        "## Part 4"
      ],
      "metadata": {
        "id": "IOknQGTE-mKy"
      }
    },
    {
      "cell_type": "code",
      "source": [
        "# Augument the training data\n",
        "transform = transforms.Compose(\n",
        "    \n",
        "    [   \n",
        "        transforms.ToTensor(),\n",
        "        transforms.Resize((224, 224)),\n",
        "        transforms.RandomGrayscale(p=1),\n",
        "        transforms.RandomRotation(degrees = 45),\n",
        "        transforms.ColorJitter(brightness=0.75)\n",
        "    #  transforms.Normalize((0.5, 0.5, 0.5), (0.5, 0.5, 0.5))\n",
        "    \n",
        "     ])\n",
        "\n",
        "xt = data['X'][:2000]\n",
        "yt = data['y'][:2000]\n",
        "ds = {'X':xt,'y':yt}\n",
        "\n",
        "dataset1 = CustomImageDataset(ds,transform)\n",
        "dataset2 = CustomImageDataset(ds,transform)\n",
        "\n",
        "agumented_dataset =  torch.utils.data.ConcatDataset([dataset1, dataset2])\n",
        "# trainloader = torch.utils.data.DataLoader(dataset, batch_size=64,num_workers=2)"
      ],
      "metadata": {
        "id": "6BtXOaJX-rhW"
      },
      "execution_count": null,
      "outputs": []
    },
    {
      "cell_type": "code",
      "source": [
        "len(agumented_dataset)"
      ],
      "metadata": {
        "colab": {
          "base_uri": "https://localhost:8080/"
        },
        "id": "aow0HACXJP8L",
        "outputId": "035d73d2-58e6-4615-cbfe-71b43278809c"
      },
      "execution_count": null,
      "outputs": [
        {
          "output_type": "execute_result",
          "data": {
            "text/plain": [
              "4000"
            ]
          },
          "metadata": {},
          "execution_count": 41
        }
      ]
    },
    {
      "cell_type": "code",
      "source": [
        "print(len(dataset),len(ds['X']))"
      ],
      "metadata": {
        "colab": {
          "base_uri": "https://localhost:8080/",
          "height": 165
        },
        "id": "ZsjimwIFFESX",
        "outputId": "5f7e42f1-8f0c-402a-af0e-c69c8a8ad9d5"
      },
      "execution_count": null,
      "outputs": [
        {
          "output_type": "error",
          "ename": "NameError",
          "evalue": "ignored",
          "traceback": [
            "\u001b[0;31m---------------------------------------------------------------------------\u001b[0m",
            "\u001b[0;31mNameError\u001b[0m                                 Traceback (most recent call last)",
            "\u001b[0;32m<ipython-input-42-5d497e929c6f>\u001b[0m in \u001b[0;36m<module>\u001b[0;34m\u001b[0m\n\u001b[0;32m----> 1\u001b[0;31m \u001b[0mprint\u001b[0m\u001b[0;34m(\u001b[0m\u001b[0mlen\u001b[0m\u001b[0;34m(\u001b[0m\u001b[0mdataset\u001b[0m\u001b[0;34m)\u001b[0m\u001b[0;34m,\u001b[0m\u001b[0mlen\u001b[0m\u001b[0;34m(\u001b[0m\u001b[0mds\u001b[0m\u001b[0;34m[\u001b[0m\u001b[0;34m'X'\u001b[0m\u001b[0;34m]\u001b[0m\u001b[0;34m)\u001b[0m\u001b[0;34m)\u001b[0m\u001b[0;34m\u001b[0m\u001b[0;34m\u001b[0m\u001b[0m\n\u001b[0m",
            "\u001b[0;31mNameError\u001b[0m: name 'dataset' is not defined"
          ]
        }
      ]
    },
    {
      "cell_type": "code",
      "source": [
        "dataset[0]"
      ],
      "metadata": {
        "id": "03PBxXcnFHUd"
      },
      "execution_count": null,
      "outputs": []
    },
    {
      "cell_type": "code",
      "source": [
        "ds['y'][0]"
      ],
      "metadata": {
        "id": "WFhRHK9nFKXS"
      },
      "execution_count": null,
      "outputs": []
    },
    {
      "cell_type": "code",
      "source": [
        "idx = 0\n",
        "plt.imshow(ds['X'][:,:,:,idx])\n",
        "print(ds['y'][idx])"
      ],
      "metadata": {
        "id": "lfyfUXlJFNXK"
      },
      "execution_count": null,
      "outputs": []
    },
    {
      "cell_type": "code",
      "source": [
        "idx = 0\n",
        "plt.imshow(dataset[idx][0].permute(1,2,0))\n",
        "print(dataset[idx][1])"
      ],
      "metadata": {
        "id": "4WTnzEO9Guy2"
      },
      "execution_count": null,
      "outputs": []
    },
    {
      "cell_type": "code",
      "source": [],
      "metadata": {
        "id": "McWxz3uCG-aP"
      },
      "execution_count": null,
      "outputs": []
    }
  ]
}