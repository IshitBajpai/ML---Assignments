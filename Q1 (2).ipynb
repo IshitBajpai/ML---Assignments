{
  "nbformat": 4,
  "nbformat_minor": 0,
  "metadata": {
    "colab": {
      "provenance": [],
      "collapsed_sections": [
        "owdlsThLovhb"
      ]
    },
    "kernelspec": {
      "name": "python3",
      "display_name": "Python 3"
    },
    "language_info": {
      "name": "python"
    },
    "widgets": {
      "application/vnd.jupyter.widget-state+json": {
        "08fd98679b5f42a0b97ea89018f62f66": {
          "model_module": "@jupyter-widgets/controls",
          "model_name": "HBoxModel",
          "model_module_version": "1.5.0",
          "state": {
            "_dom_classes": [],
            "_model_module": "@jupyter-widgets/controls",
            "_model_module_version": "1.5.0",
            "_model_name": "HBoxModel",
            "_view_count": null,
            "_view_module": "@jupyter-widgets/controls",
            "_view_module_version": "1.5.0",
            "_view_name": "HBoxView",
            "box_style": "",
            "children": [
              "IPY_MODEL_fc5a30884f82470b90f3dfb0878692c0",
              "IPY_MODEL_f97000374c09472a90c8cd4321c8af1f",
              "IPY_MODEL_452911e0d9bb49898bdd1947e22ca2b2"
            ],
            "layout": "IPY_MODEL_146fe0567298483d98f1505594b39a72"
          }
        },
        "fc5a30884f82470b90f3dfb0878692c0": {
          "model_module": "@jupyter-widgets/controls",
          "model_name": "HTMLModel",
          "model_module_version": "1.5.0",
          "state": {
            "_dom_classes": [],
            "_model_module": "@jupyter-widgets/controls",
            "_model_module_version": "1.5.0",
            "_model_name": "HTMLModel",
            "_view_count": null,
            "_view_module": "@jupyter-widgets/controls",
            "_view_module_version": "1.5.0",
            "_view_name": "HTMLView",
            "description": "",
            "description_tooltip": null,
            "layout": "IPY_MODEL_fbdee30df311484eb26d30b57c4897da",
            "placeholder": "​",
            "style": "IPY_MODEL_a4d1e158e57c40c2bf2ae447884626f4",
            "value": "100%"
          }
        },
        "f97000374c09472a90c8cd4321c8af1f": {
          "model_module": "@jupyter-widgets/controls",
          "model_name": "FloatProgressModel",
          "model_module_version": "1.5.0",
          "state": {
            "_dom_classes": [],
            "_model_module": "@jupyter-widgets/controls",
            "_model_module_version": "1.5.0",
            "_model_name": "FloatProgressModel",
            "_view_count": null,
            "_view_module": "@jupyter-widgets/controls",
            "_view_module_version": "1.5.0",
            "_view_name": "ProgressView",
            "bar_style": "success",
            "description": "",
            "description_tooltip": null,
            "layout": "IPY_MODEL_6edd212ae9e04070bdd3746f5940de2a",
            "max": 46830571,
            "min": 0,
            "orientation": "horizontal",
            "style": "IPY_MODEL_0cd488f7c89e416ca2ba2db0d990b591",
            "value": 46830571
          }
        },
        "452911e0d9bb49898bdd1947e22ca2b2": {
          "model_module": "@jupyter-widgets/controls",
          "model_name": "HTMLModel",
          "model_module_version": "1.5.0",
          "state": {
            "_dom_classes": [],
            "_model_module": "@jupyter-widgets/controls",
            "_model_module_version": "1.5.0",
            "_model_name": "HTMLModel",
            "_view_count": null,
            "_view_module": "@jupyter-widgets/controls",
            "_view_module_version": "1.5.0",
            "_view_name": "HTMLView",
            "description": "",
            "description_tooltip": null,
            "layout": "IPY_MODEL_46b310f9d97149379b7f00e52b825f58",
            "placeholder": "​",
            "style": "IPY_MODEL_d4a25027c3424c63bf5e2032427223b7",
            "value": " 44.7M/44.7M [00:00&lt;00:00, 82.0MB/s]"
          }
        },
        "146fe0567298483d98f1505594b39a72": {
          "model_module": "@jupyter-widgets/base",
          "model_name": "LayoutModel",
          "model_module_version": "1.2.0",
          "state": {
            "_model_module": "@jupyter-widgets/base",
            "_model_module_version": "1.2.0",
            "_model_name": "LayoutModel",
            "_view_count": null,
            "_view_module": "@jupyter-widgets/base",
            "_view_module_version": "1.2.0",
            "_view_name": "LayoutView",
            "align_content": null,
            "align_items": null,
            "align_self": null,
            "border": null,
            "bottom": null,
            "display": null,
            "flex": null,
            "flex_flow": null,
            "grid_area": null,
            "grid_auto_columns": null,
            "grid_auto_flow": null,
            "grid_auto_rows": null,
            "grid_column": null,
            "grid_gap": null,
            "grid_row": null,
            "grid_template_areas": null,
            "grid_template_columns": null,
            "grid_template_rows": null,
            "height": null,
            "justify_content": null,
            "justify_items": null,
            "left": null,
            "margin": null,
            "max_height": null,
            "max_width": null,
            "min_height": null,
            "min_width": null,
            "object_fit": null,
            "object_position": null,
            "order": null,
            "overflow": null,
            "overflow_x": null,
            "overflow_y": null,
            "padding": null,
            "right": null,
            "top": null,
            "visibility": null,
            "width": null
          }
        },
        "fbdee30df311484eb26d30b57c4897da": {
          "model_module": "@jupyter-widgets/base",
          "model_name": "LayoutModel",
          "model_module_version": "1.2.0",
          "state": {
            "_model_module": "@jupyter-widgets/base",
            "_model_module_version": "1.2.0",
            "_model_name": "LayoutModel",
            "_view_count": null,
            "_view_module": "@jupyter-widgets/base",
            "_view_module_version": "1.2.0",
            "_view_name": "LayoutView",
            "align_content": null,
            "align_items": null,
            "align_self": null,
            "border": null,
            "bottom": null,
            "display": null,
            "flex": null,
            "flex_flow": null,
            "grid_area": null,
            "grid_auto_columns": null,
            "grid_auto_flow": null,
            "grid_auto_rows": null,
            "grid_column": null,
            "grid_gap": null,
            "grid_row": null,
            "grid_template_areas": null,
            "grid_template_columns": null,
            "grid_template_rows": null,
            "height": null,
            "justify_content": null,
            "justify_items": null,
            "left": null,
            "margin": null,
            "max_height": null,
            "max_width": null,
            "min_height": null,
            "min_width": null,
            "object_fit": null,
            "object_position": null,
            "order": null,
            "overflow": null,
            "overflow_x": null,
            "overflow_y": null,
            "padding": null,
            "right": null,
            "top": null,
            "visibility": null,
            "width": null
          }
        },
        "a4d1e158e57c40c2bf2ae447884626f4": {
          "model_module": "@jupyter-widgets/controls",
          "model_name": "DescriptionStyleModel",
          "model_module_version": "1.5.0",
          "state": {
            "_model_module": "@jupyter-widgets/controls",
            "_model_module_version": "1.5.0",
            "_model_name": "DescriptionStyleModel",
            "_view_count": null,
            "_view_module": "@jupyter-widgets/base",
            "_view_module_version": "1.2.0",
            "_view_name": "StyleView",
            "description_width": ""
          }
        },
        "6edd212ae9e04070bdd3746f5940de2a": {
          "model_module": "@jupyter-widgets/base",
          "model_name": "LayoutModel",
          "model_module_version": "1.2.0",
          "state": {
            "_model_module": "@jupyter-widgets/base",
            "_model_module_version": "1.2.0",
            "_model_name": "LayoutModel",
            "_view_count": null,
            "_view_module": "@jupyter-widgets/base",
            "_view_module_version": "1.2.0",
            "_view_name": "LayoutView",
            "align_content": null,
            "align_items": null,
            "align_self": null,
            "border": null,
            "bottom": null,
            "display": null,
            "flex": null,
            "flex_flow": null,
            "grid_area": null,
            "grid_auto_columns": null,
            "grid_auto_flow": null,
            "grid_auto_rows": null,
            "grid_column": null,
            "grid_gap": null,
            "grid_row": null,
            "grid_template_areas": null,
            "grid_template_columns": null,
            "grid_template_rows": null,
            "height": null,
            "justify_content": null,
            "justify_items": null,
            "left": null,
            "margin": null,
            "max_height": null,
            "max_width": null,
            "min_height": null,
            "min_width": null,
            "object_fit": null,
            "object_position": null,
            "order": null,
            "overflow": null,
            "overflow_x": null,
            "overflow_y": null,
            "padding": null,
            "right": null,
            "top": null,
            "visibility": null,
            "width": null
          }
        },
        "0cd488f7c89e416ca2ba2db0d990b591": {
          "model_module": "@jupyter-widgets/controls",
          "model_name": "ProgressStyleModel",
          "model_module_version": "1.5.0",
          "state": {
            "_model_module": "@jupyter-widgets/controls",
            "_model_module_version": "1.5.0",
            "_model_name": "ProgressStyleModel",
            "_view_count": null,
            "_view_module": "@jupyter-widgets/base",
            "_view_module_version": "1.2.0",
            "_view_name": "StyleView",
            "bar_color": null,
            "description_width": ""
          }
        },
        "46b310f9d97149379b7f00e52b825f58": {
          "model_module": "@jupyter-widgets/base",
          "model_name": "LayoutModel",
          "model_module_version": "1.2.0",
          "state": {
            "_model_module": "@jupyter-widgets/base",
            "_model_module_version": "1.2.0",
            "_model_name": "LayoutModel",
            "_view_count": null,
            "_view_module": "@jupyter-widgets/base",
            "_view_module_version": "1.2.0",
            "_view_name": "LayoutView",
            "align_content": null,
            "align_items": null,
            "align_self": null,
            "border": null,
            "bottom": null,
            "display": null,
            "flex": null,
            "flex_flow": null,
            "grid_area": null,
            "grid_auto_columns": null,
            "grid_auto_flow": null,
            "grid_auto_rows": null,
            "grid_column": null,
            "grid_gap": null,
            "grid_row": null,
            "grid_template_areas": null,
            "grid_template_columns": null,
            "grid_template_rows": null,
            "height": null,
            "justify_content": null,
            "justify_items": null,
            "left": null,
            "margin": null,
            "max_height": null,
            "max_width": null,
            "min_height": null,
            "min_width": null,
            "object_fit": null,
            "object_position": null,
            "order": null,
            "overflow": null,
            "overflow_x": null,
            "overflow_y": null,
            "padding": null,
            "right": null,
            "top": null,
            "visibility": null,
            "width": null
          }
        },
        "d4a25027c3424c63bf5e2032427223b7": {
          "model_module": "@jupyter-widgets/controls",
          "model_name": "DescriptionStyleModel",
          "model_module_version": "1.5.0",
          "state": {
            "_model_module": "@jupyter-widgets/controls",
            "_model_module_version": "1.5.0",
            "_model_name": "DescriptionStyleModel",
            "_view_count": null,
            "_view_module": "@jupyter-widgets/base",
            "_view_module_version": "1.2.0",
            "_view_name": "StyleView",
            "description_width": ""
          }
        },
        "cedb921e9c0c4a27b7899cd09a47e09d": {
          "model_module": "@jupyter-widgets/controls",
          "model_name": "VBoxModel",
          "model_module_version": "1.5.0",
          "state": {
            "_dom_classes": [],
            "_model_module": "@jupyter-widgets/controls",
            "_model_module_version": "1.5.0",
            "_model_name": "VBoxModel",
            "_view_count": null,
            "_view_module": "@jupyter-widgets/controls",
            "_view_module_version": "1.5.0",
            "_view_name": "VBoxView",
            "box_style": "",
            "children": [
              "IPY_MODEL_e90d30f798e641f5805d864469a263e7",
              "IPY_MODEL_96e0ee8d14fe453a9393c1e8363089d8"
            ],
            "layout": "IPY_MODEL_cb5357adb4b24802a1ab5b0371e8d7b1"
          }
        },
        "e90d30f798e641f5805d864469a263e7": {
          "model_module": "@jupyter-widgets/controls",
          "model_name": "LabelModel",
          "model_module_version": "1.5.0",
          "state": {
            "_dom_classes": [],
            "_model_module": "@jupyter-widgets/controls",
            "_model_module_version": "1.5.0",
            "_model_name": "LabelModel",
            "_view_count": null,
            "_view_module": "@jupyter-widgets/controls",
            "_view_module_version": "1.5.0",
            "_view_name": "LabelView",
            "description": "",
            "description_tooltip": null,
            "layout": "IPY_MODEL_077897d33641412e949af3cf327087ab",
            "placeholder": "​",
            "style": "IPY_MODEL_676a03f7ae16459dbbcfe47741b542b0",
            "value": "Waiting for wandb.init()...\r"
          }
        },
        "96e0ee8d14fe453a9393c1e8363089d8": {
          "model_module": "@jupyter-widgets/controls",
          "model_name": "FloatProgressModel",
          "model_module_version": "1.5.0",
          "state": {
            "_dom_classes": [],
            "_model_module": "@jupyter-widgets/controls",
            "_model_module_version": "1.5.0",
            "_model_name": "FloatProgressModel",
            "_view_count": null,
            "_view_module": "@jupyter-widgets/controls",
            "_view_module_version": "1.5.0",
            "_view_name": "ProgressView",
            "bar_style": "",
            "description": "",
            "description_tooltip": null,
            "layout": "IPY_MODEL_418be1f7fb64432aa526dd6993b3c9fa",
            "max": 1,
            "min": 0,
            "orientation": "horizontal",
            "style": "IPY_MODEL_cf36919f510f492fb4a160434b186344",
            "value": 0.9841105508333385
          }
        },
        "cb5357adb4b24802a1ab5b0371e8d7b1": {
          "model_module": "@jupyter-widgets/base",
          "model_name": "LayoutModel",
          "model_module_version": "1.2.0",
          "state": {
            "_model_module": "@jupyter-widgets/base",
            "_model_module_version": "1.2.0",
            "_model_name": "LayoutModel",
            "_view_count": null,
            "_view_module": "@jupyter-widgets/base",
            "_view_module_version": "1.2.0",
            "_view_name": "LayoutView",
            "align_content": null,
            "align_items": null,
            "align_self": null,
            "border": null,
            "bottom": null,
            "display": null,
            "flex": null,
            "flex_flow": null,
            "grid_area": null,
            "grid_auto_columns": null,
            "grid_auto_flow": null,
            "grid_auto_rows": null,
            "grid_column": null,
            "grid_gap": null,
            "grid_row": null,
            "grid_template_areas": null,
            "grid_template_columns": null,
            "grid_template_rows": null,
            "height": null,
            "justify_content": null,
            "justify_items": null,
            "left": null,
            "margin": null,
            "max_height": null,
            "max_width": null,
            "min_height": null,
            "min_width": null,
            "object_fit": null,
            "object_position": null,
            "order": null,
            "overflow": null,
            "overflow_x": null,
            "overflow_y": null,
            "padding": null,
            "right": null,
            "top": null,
            "visibility": null,
            "width": null
          }
        },
        "077897d33641412e949af3cf327087ab": {
          "model_module": "@jupyter-widgets/base",
          "model_name": "LayoutModel",
          "model_module_version": "1.2.0",
          "state": {
            "_model_module": "@jupyter-widgets/base",
            "_model_module_version": "1.2.0",
            "_model_name": "LayoutModel",
            "_view_count": null,
            "_view_module": "@jupyter-widgets/base",
            "_view_module_version": "1.2.0",
            "_view_name": "LayoutView",
            "align_content": null,
            "align_items": null,
            "align_self": null,
            "border": null,
            "bottom": null,
            "display": null,
            "flex": null,
            "flex_flow": null,
            "grid_area": null,
            "grid_auto_columns": null,
            "grid_auto_flow": null,
            "grid_auto_rows": null,
            "grid_column": null,
            "grid_gap": null,
            "grid_row": null,
            "grid_template_areas": null,
            "grid_template_columns": null,
            "grid_template_rows": null,
            "height": null,
            "justify_content": null,
            "justify_items": null,
            "left": null,
            "margin": null,
            "max_height": null,
            "max_width": null,
            "min_height": null,
            "min_width": null,
            "object_fit": null,
            "object_position": null,
            "order": null,
            "overflow": null,
            "overflow_x": null,
            "overflow_y": null,
            "padding": null,
            "right": null,
            "top": null,
            "visibility": null,
            "width": null
          }
        },
        "676a03f7ae16459dbbcfe47741b542b0": {
          "model_module": "@jupyter-widgets/controls",
          "model_name": "DescriptionStyleModel",
          "model_module_version": "1.5.0",
          "state": {
            "_model_module": "@jupyter-widgets/controls",
            "_model_module_version": "1.5.0",
            "_model_name": "DescriptionStyleModel",
            "_view_count": null,
            "_view_module": "@jupyter-widgets/base",
            "_view_module_version": "1.2.0",
            "_view_name": "StyleView",
            "description_width": ""
          }
        },
        "418be1f7fb64432aa526dd6993b3c9fa": {
          "model_module": "@jupyter-widgets/base",
          "model_name": "LayoutModel",
          "model_module_version": "1.2.0",
          "state": {
            "_model_module": "@jupyter-widgets/base",
            "_model_module_version": "1.2.0",
            "_model_name": "LayoutModel",
            "_view_count": null,
            "_view_module": "@jupyter-widgets/base",
            "_view_module_version": "1.2.0",
            "_view_name": "LayoutView",
            "align_content": null,
            "align_items": null,
            "align_self": null,
            "border": null,
            "bottom": null,
            "display": null,
            "flex": null,
            "flex_flow": null,
            "grid_area": null,
            "grid_auto_columns": null,
            "grid_auto_flow": null,
            "grid_auto_rows": null,
            "grid_column": null,
            "grid_gap": null,
            "grid_row": null,
            "grid_template_areas": null,
            "grid_template_columns": null,
            "grid_template_rows": null,
            "height": null,
            "justify_content": null,
            "justify_items": null,
            "left": null,
            "margin": null,
            "max_height": null,
            "max_width": null,
            "min_height": null,
            "min_width": null,
            "object_fit": null,
            "object_position": null,
            "order": null,
            "overflow": null,
            "overflow_x": null,
            "overflow_y": null,
            "padding": null,
            "right": null,
            "top": null,
            "visibility": null,
            "width": null
          }
        },
        "cf36919f510f492fb4a160434b186344": {
          "model_module": "@jupyter-widgets/controls",
          "model_name": "ProgressStyleModel",
          "model_module_version": "1.5.0",
          "state": {
            "_model_module": "@jupyter-widgets/controls",
            "_model_module_version": "1.5.0",
            "_model_name": "ProgressStyleModel",
            "_view_count": null,
            "_view_module": "@jupyter-widgets/base",
            "_view_module_version": "1.2.0",
            "_view_name": "StyleView",
            "bar_color": null,
            "description_width": ""
          }
        }
      }
    },
    "gpuClass": "standard",
    "accelerator": "GPU"
  },
  "cells": [
    {
      "cell_type": "code",
      "execution_count": null,
      "metadata": {
        "colab": {
          "base_uri": "https://localhost:8080/"
        },
        "id": "lEQjjllOHtKO",
        "outputId": "109cb1c8-f587-45ae-db4b-09062751d6df"
      },
      "outputs": [
        {
          "output_type": "stream",
          "name": "stdout",
          "text": [
            "Looking in indexes: https://pypi.org/simple, https://us-python.pkg.dev/colab-wheels/public/simple/\n",
            "Requirement already satisfied: torch in /usr/local/lib/python3.8/dist-packages (1.13.1+cu116)\n",
            "Requirement already satisfied: typing-extensions in /usr/local/lib/python3.8/dist-packages (from torch) (4.5.0)\n",
            "Looking in indexes: https://pypi.org/simple, https://us-python.pkg.dev/colab-wheels/public/simple/\n",
            "Requirement already satisfied: scipy in /usr/local/lib/python3.8/dist-packages (1.7.3)\n",
            "Requirement already satisfied: numpy<1.23.0,>=1.16.5 in /usr/local/lib/python3.8/dist-packages (from scipy) (1.21.6)\n",
            "Looking in indexes: https://pypi.org/simple, https://us-python.pkg.dev/colab-wheels/public/simple/\n",
            "Requirement already satisfied: torchmetrics in /usr/local/lib/python3.8/dist-packages (0.11.1)\n",
            "Requirement already satisfied: numpy>=1.17.2 in /usr/local/lib/python3.8/dist-packages (from torchmetrics) (1.21.6)\n",
            "Requirement already satisfied: torch>=1.8.1 in /usr/local/lib/python3.8/dist-packages (from torchmetrics) (1.13.1+cu116)\n",
            "Requirement already satisfied: packaging in /usr/local/lib/python3.8/dist-packages (from torchmetrics) (23.0)\n",
            "Requirement already satisfied: typing-extensions in /usr/local/lib/python3.8/dist-packages (from torchmetrics) (4.5.0)\n",
            "Looking in indexes: https://pypi.org/simple, https://us-python.pkg.dev/colab-wheels/public/simple/\n",
            "Requirement already satisfied: wandb in /usr/local/lib/python3.8/dist-packages (0.13.10)\n",
            "Requirement already satisfied: Click!=8.0.0,>=7.0 in /usr/local/lib/python3.8/dist-packages (from wandb) (7.1.2)\n",
            "Requirement already satisfied: setuptools in /usr/local/lib/python3.8/dist-packages (from wandb) (57.4.0)\n",
            "Requirement already satisfied: GitPython>=1.0.0 in /usr/local/lib/python3.8/dist-packages (from wandb) (3.1.31)\n",
            "Requirement already satisfied: sentry-sdk>=1.0.0 in /usr/local/lib/python3.8/dist-packages (from wandb) (1.15.0)\n",
            "Requirement already satisfied: setproctitle in /usr/local/lib/python3.8/dist-packages (from wandb) (1.3.2)\n",
            "Requirement already satisfied: PyYAML in /usr/local/lib/python3.8/dist-packages (from wandb) (6.0)\n",
            "Requirement already satisfied: pathtools in /usr/local/lib/python3.8/dist-packages (from wandb) (0.1.2)\n",
            "Requirement already satisfied: psutil>=5.0.0 in /usr/local/lib/python3.8/dist-packages (from wandb) (5.4.8)\n",
            "Requirement already satisfied: appdirs>=1.4.3 in /usr/local/lib/python3.8/dist-packages (from wandb) (1.4.4)\n",
            "Requirement already satisfied: requests<3,>=2.0.0 in /usr/local/lib/python3.8/dist-packages (from wandb) (2.25.1)\n",
            "Requirement already satisfied: protobuf!=4.21.0,<5,>=3.12.0 in /usr/local/lib/python3.8/dist-packages (from wandb) (3.19.6)\n",
            "Requirement already satisfied: typing-extensions in /usr/local/lib/python3.8/dist-packages (from wandb) (4.5.0)\n",
            "Requirement already satisfied: docker-pycreds>=0.4.0 in /usr/local/lib/python3.8/dist-packages (from wandb) (0.4.0)\n",
            "Requirement already satisfied: six>=1.4.0 in /usr/local/lib/python3.8/dist-packages (from docker-pycreds>=0.4.0->wandb) (1.15.0)\n",
            "Requirement already satisfied: gitdb<5,>=4.0.1 in /usr/local/lib/python3.8/dist-packages (from GitPython>=1.0.0->wandb) (4.0.10)\n",
            "Requirement already satisfied: chardet<5,>=3.0.2 in /usr/local/lib/python3.8/dist-packages (from requests<3,>=2.0.0->wandb) (4.0.0)\n",
            "Requirement already satisfied: urllib3<1.27,>=1.21.1 in /usr/local/lib/python3.8/dist-packages (from requests<3,>=2.0.0->wandb) (1.26.14)\n",
            "Requirement already satisfied: idna<3,>=2.5 in /usr/local/lib/python3.8/dist-packages (from requests<3,>=2.0.0->wandb) (2.10)\n",
            "Requirement already satisfied: certifi>=2017.4.17 in /usr/local/lib/python3.8/dist-packages (from requests<3,>=2.0.0->wandb) (2022.12.7)\n",
            "Requirement already satisfied: smmap<6,>=3.0.1 in /usr/local/lib/python3.8/dist-packages (from gitdb<5,>=4.0.1->GitPython>=1.0.0->wandb) (5.0.0)\n"
          ]
        }
      ],
      "source": [
        "!pip install torch\n",
        "!pip install scipy \n",
        "!pip install torchmetrics\n",
        "!pip install wandb"
      ]
    },
    {
      "cell_type": "code",
      "source": [
        "import os\n",
        "from PIL import Image\n",
        "import random\n",
        "import torch\n",
        "import torch.nn as nn\n",
        "import torchvision\n",
        "import torchvision.transforms as transforms\n",
        "import torch.optim as optim\n",
        "import matplotlib.pyplot as plt\n",
        "import torch.nn.functional as F\n",
        "import numpy as np\n",
        "from torch.utils.data.sampler import SubsetRandomSampler\n",
        "import pickle\n",
        "from sklearn import manifold\n",
        "import pandas as pd\n",
        "import seaborn as sns\n",
        "from sklearn.metrics import classification_report\n",
        "import scipy.io\n",
        "from google.colab import drive\n",
        "drive.mount(\"/content/gdrive\",force_remount=True)"
      ],
      "metadata": {
        "id": "cuFx9Nc2IuZK",
        "colab": {
          "base_uri": "https://localhost:8080/"
        },
        "outputId": "b31ad0f1-b7a0-4d2c-b994-c164936f6251"
      },
      "execution_count": null,
      "outputs": [
        {
          "output_type": "stream",
          "name": "stdout",
          "text": [
            "Mounted at /content/gdrive\n"
          ]
        }
      ]
    },
    {
      "cell_type": "code",
      "source": [
        "import os\n",
        "from time import time\n",
        "from tqdm import tqdm\n",
        "import numpy\n",
        "\n",
        "import torch\n",
        "from torch.nn import Linear, CrossEntropyLoss\n",
        "from torch.optim import Adam\n",
        "from torch.utils.data import DataLoader\n",
        "\n",
        "import torchvision\n",
        "from torchvision.datasets import ImageFolder\n",
        "from torchvision.models import resnet18\n",
        "from torchvision.transforms import transforms"
      ],
      "metadata": {
        "id": "C2q0gSgY7CGJ"
      },
      "execution_count": null,
      "outputs": []
    },
    {
      "cell_type": "code",
      "source": [
        "import wandb\n",
        "wandb.login(key=\"1262a78bcdb91721d1f31364cec1d26409dd981e\")"
      ],
      "metadata": {
        "colab": {
          "base_uri": "https://localhost:8080/"
        },
        "id": "9tuanrrLMipf",
        "outputId": "68753e23-aa3c-4512-ca19-eb241b8f857b"
      },
      "execution_count": null,
      "outputs": [
        {
          "output_type": "stream",
          "name": "stderr",
          "text": [
            "ERROR:wandb.jupyter:Failed to detect the name of this notebook, you can set it manually with the WANDB_NOTEBOOK_NAME environment variable to enable code saving.\n",
            "\u001b[34m\u001b[1mwandb\u001b[0m: Currently logged in as: \u001b[33mishit20380\u001b[0m (\u001b[33mdrake\u001b[0m). Use \u001b[1m`wandb login --relogin`\u001b[0m to force relogin\n",
            "\u001b[34m\u001b[1mwandb\u001b[0m: \u001b[33mWARNING\u001b[0m If you're specifying your api key in code, ensure this code is not shared publicly.\n",
            "\u001b[34m\u001b[1mwandb\u001b[0m: \u001b[33mWARNING\u001b[0m Consider setting the WANDB_API_KEY environment variable, or running `wandb login` from the command line.\n",
            "\u001b[34m\u001b[1mwandb\u001b[0m: Appending key for api.wandb.ai to your netrc file: /root/.netrc\n"
          ]
        },
        {
          "output_type": "execute_result",
          "data": {
            "text/plain": [
              "True"
            ]
          },
          "metadata": {},
          "execution_count": 4
        }
      ]
    },
    {
      "cell_type": "markdown",
      "source": [
        "## PART 1"
      ],
      "metadata": {
        "id": "XaXmVfUktZPC"
      }
    },
    {
      "cell_type": "code",
      "source": [
        "import glob\n",
        "import cv2\n",
        "import numpy as np\n",
        "import torch\n",
        "from torch.utils.data import Dataset, DataLoader\n",
        "device = torch.device(\"cuda\" if torch.cuda.is_available() else \"cpu\")\n",
        "\n",
        "data = scipy.io.loadmat(\"/content/gdrive/MyDrive/cv1.mat\")\n",
        "\n",
        "data_size = len(data['y'])\n",
        "# data_size = 20000\n",
        "data['y'][ data['y'] == 10 ] = 0\n",
        "\n",
        "\n",
        "transform = transforms.Compose(\n",
        "    \n",
        "    [   \n",
        "        transforms.ToTensor(),\n",
        "        # transforms.Resize((32,32)),\n",
        "    #  transforms.Normalize((0.5, 0.5, 0.5), (0.5, 0.5, 0.5)),\n",
        "\n",
        "     ])\n",
        "\n",
        "import os\n",
        "import pandas as pd\n",
        "from torchvision.io import read_image\n",
        "\n",
        "class CustomImageDataset(Dataset):\n",
        "    def __init__(self, data ,transform=None, target_transform=None):\n",
        "        self.img_labels = data['y']\n",
        "        self.img_dir = data['X']\n",
        "        self.transform = transform\n",
        "        self.data = data\n",
        "\n",
        "        self.target_transform = target_transform\n",
        "\n",
        "    def __len__(self):\n",
        "        return len(self.img_labels)\n",
        "\n",
        "    def __getitem__(self, idx):\n",
        "        # img_path = os.path.join(self.img_dir, self.img_labels.iloc[idx, 0])\n",
        "        image = self.img_dir[:,:,:,idx]\n",
        "        label = self.img_labels[idx]\n",
        "        if self.transform:\n",
        "            image = self.transform(image)\n",
        "            # image = image.to(device)\n",
        "        if self.target_transform:\n",
        "            label = self.target_transform(label)\n",
        "        # print(idx)\n",
        "        return image, label\n",
        "\n",
        "\n",
        "# shuffle\n",
        "indices = list(range(data_size))\n",
        "np.random.shuffle(indices)\n",
        "\n",
        "test_size =  int(  0.10*data_size )\n",
        "val_size =   int(  0.20*data_size )\n",
        "train_size = int(  0.70*data_size )\n",
        "\n",
        "test_index = indices[:test_size]\n",
        "train_index = indices[test_size:test_size+train_size]\n",
        "val_index = indices[-val_size:]\n",
        "\n",
        "g = torch.Generator()\n",
        "g.manual_seed(42)\n",
        "batch_size = 64\n",
        "\n",
        "train_sampler=SubsetRandomSampler(train_index, generator=g)\n",
        "val_sampler=SubsetRandomSampler(val_index, generator=g)\n",
        "test_sampler=SubsetRandomSampler(test_index, generator=g)\n",
        "\n",
        "xt = data['X'][:train_size]\n",
        "yt = data['y'][:train_size]\n",
        "data_train = {'X':xt,'y':yt}\n",
        "\n",
        "xt = data['X'][:test_size]\n",
        "yt = data['y'][:test_size]\n",
        "data_test = {'X':xt,'y':yt}\n",
        "\n",
        "xt = data['X'][-val_size:]\n",
        "yt = data['y'][-val_size:]\n",
        "data_val = {'X':xt,'y':yt}"
      ],
      "metadata": {
        "id": "sQBdsLqz8XXI"
      },
      "execution_count": null,
      "outputs": []
    },
    {
      "cell_type": "code",
      "source": [
        "# x = np.arange(1,10)\n",
        "# p = np.array([1,2,3])\n",
        "# x[p]"
      ],
      "metadata": {
        "id": "zBcfBlK4Zrg2"
      },
      "execution_count": null,
      "outputs": []
    },
    {
      "cell_type": "code",
      "source": [
        "# for i in range(test_size,-val_size+data_size):\n",
        "#   if(data['X'][:,:,:,i].shape!=((32, 32, 3))):\n",
        "#     print(\"yo!!\")\n",
        "#     break\n"
      ],
      "metadata": {
        "id": "Ay0wgLRa994A"
      },
      "execution_count": null,
      "outputs": []
    },
    {
      "cell_type": "code",
      "source": [
        "# train = CustomImageDataset(data_train,transform)\n",
        "# test =  CustomImageDataset(data_test,transform)\n",
        "# val =  CustomImageDataset(data_val,transform)\n",
        "\n",
        "final_dataset = CustomImageDataset(data,transform)\n",
        "\n",
        "trainloader = torch.utils.data.DataLoader(final_dataset, sampler = train_sampler, batch_size=batch_size,num_workers=2)\n",
        "valloader = torch.utils.data.DataLoader(final_dataset, sampler = val_sampler, batch_size=batch_size,num_workers=2)\n",
        "testloader = torch.utils.data.DataLoader(final_dataset, sampler = test_sampler, batch_size=batch_size,num_workers=2)"
      ],
      "metadata": {
        "id": "-Ykj4spXbJ3q"
      },
      "execution_count": null,
      "outputs": []
    },
    {
      "cell_type": "code",
      "source": [
        "dataiter = iter(trainloader)\n",
        "images, labels = dataiter.__next__()"
      ],
      "metadata": {
        "id": "J6u4yF2fIigy"
      },
      "execution_count": null,
      "outputs": []
    },
    {
      "cell_type": "code",
      "source": [
        "print(images.shape)"
      ],
      "metadata": {
        "colab": {
          "base_uri": "https://localhost:8080/"
        },
        "id": "_HPJi__WMCSt",
        "outputId": "03144908-c628-47f7-d090-354beb31dff6"
      },
      "execution_count": null,
      "outputs": [
        {
          "output_type": "stream",
          "name": "stdout",
          "text": [
            "torch.Size([64, 3, 32, 32])\n"
          ]
        }
      ]
    },
    {
      "cell_type": "code",
      "source": [
        "idx = 8\n",
        "plt.imshow(images[idx].permute(1,2,0))\n",
        "print(labels[idx])"
      ],
      "metadata": {
        "colab": {
          "base_uri": "https://localhost:8080/",
          "height": 283
        },
        "id": "uGQUL0MyLteX",
        "outputId": "be9a3fc5-d542-4ff5-f807-3f6b86dcc0fc"
      },
      "execution_count": null,
      "outputs": [
        {
          "output_type": "stream",
          "name": "stdout",
          "text": [
            "tensor([7], dtype=torch.uint8)\n"
          ]
        },
        {
          "output_type": "display_data",
          "data": {
            "text/plain": [
              "<Figure size 432x288 with 1 Axes>"
            ],
            "image/png": "[encoded data removed]"
          },
          "metadata": {
            "needs_background": "light"
          }
        }
      ]
    },
    {
      "cell_type": "code",
      "source": [],
      "metadata": {
        "id": "x_5FTdL0C7QA"
      },
      "execution_count": null,
      "outputs": []
    },
    {
      "cell_type": "code",
      "source": [
        "y_train = []\n",
        "y_val = []\n",
        "\n",
        "for idx in train_index:\n",
        "  # print(type(idx))\n",
        "  if(data['y'][idx] == 0):\n",
        "      y_train.append(10)\n",
        "  else:\n",
        "      y_train.append(data['y'][idx])\n",
        "\n",
        "for idx in val_index:\n",
        "    if(data['y'][idx] == 0):\n",
        "        y_val.append(10)\n",
        "    else:\n",
        "        y_val.append(data['y'][idx])\n",
        "\n",
        "print(len(y_train)) \n",
        "print(len(y_val))"
      ],
      "metadata": {
        "id": "UJ3FRbHrd7na",
        "colab": {
          "base_uri": "https://localhost:8080/"
        },
        "outputId": "d92ad399-8b47-4f47-ab1e-b0ba5dc6c59e"
      },
      "execution_count": null,
      "outputs": [
        {
          "output_type": "stream",
          "name": "stdout",
          "text": [
            "51279\n",
            "14651\n"
          ]
        }
      ]
    },
    {
      "cell_type": "code",
      "source": [
        "y_train = np.array(y_train)\n",
        "y_val = np.array(y_val)\n",
        "\n",
        "# visualizing\n",
        "unique, counts = np.unique(y_train, return_counts=True)\n",
        "plt.bar(unique, counts, color ='maroon',\n",
        "        width = 0.4)\n",
        "plt.title(\"Train\")\n",
        "\n",
        "plt.xlabel(\"Class\")\n",
        "plt.ylabel(\"frequency\")\n",
        "plt.legend()"
      ],
      "metadata": {
        "colab": {
          "base_uri": "https://localhost:8080/",
          "height": 419
        },
        "id": "rRie4T5ac8WI",
        "outputId": "2f47849d-2cc8-48ee-da32-22903f979ff1"
      },
      "execution_count": null,
      "outputs": [
        {
          "output_type": "stream",
          "name": "stderr",
          "text": [
            "<ipython-input-53-9ec1fc2a3a59>:1: VisibleDeprecationWarning: Creating an ndarray from ragged nested sequences (which is a list-or-tuple of lists-or-tuples-or ndarrays with different lengths or shapes) is deprecated. If you meant to do this, you must specify 'dtype=object' when creating the ndarray.\n",
            "  y_train = np.array(y_train)\n",
            "<ipython-input-53-9ec1fc2a3a59>:2: VisibleDeprecationWarning: Creating an ndarray from ragged nested sequences (which is a list-or-tuple of lists-or-tuples-or ndarrays with different lengths or shapes) is deprecated. If you meant to do this, you must specify 'dtype=object' when creating the ndarray.\n",
            "  y_val = np.array(y_val)\n",
            "WARNING:matplotlib.legend:No handles with labels found to put in legend.\n"
          ]
        },
        {
          "output_type": "execute_result",
          "data": {
            "text/plain": [
              "<matplotlib.legend.Legend at 0x7fc8a99daa60>"
            ]
          },
          "metadata": {},
          "execution_count": 53
        },
        {
          "output_type": "display_data",
          "data": {
            "text/plain": [
              "<Figure size 432x288 with 1 Axes>"
            ],
            "image/png": "[encoded data removed]"
          },
          "metadata": {
            "needs_background": "light"
          }
        }
      ]
    },
    {
      "cell_type": "code",
      "source": [
        "unique, counts = np.unique(y_val, return_counts=True)\n",
        "plt.bar(unique, counts, color ='green',\n",
        "        width = 0.4)\n",
        "plt.title(\"Val\")\n",
        "\n",
        "plt.xlabel(\"Class\")\n",
        "plt.ylabel(\"frequency\")\n",
        "plt.legend()"
      ],
      "metadata": {
        "colab": {
          "base_uri": "https://localhost:8080/",
          "height": 330
        },
        "id": "_dxFU7eXfFVF",
        "outputId": "c80f082a-206e-4c94-8445-4814c33cddbd"
      },
      "execution_count": null,
      "outputs": [
        {
          "output_type": "stream",
          "name": "stderr",
          "text": [
            "WARNING:matplotlib.legend:No handles with labels found to put in legend.\n"
          ]
        },
        {
          "output_type": "execute_result",
          "data": {
            "text/plain": [
              "<matplotlib.legend.Legend at 0x7fc8a9134f70>"
            ]
          },
          "metadata": {},
          "execution_count": 54
        },
        {
          "output_type": "display_data",
          "data": {
            "text/plain": [
              "<Figure size 432x288 with 1 Axes>"
            ],
            "image/png": "[encoded data removed]"
          },
          "metadata": {
            "needs_background": "light"
          }
        }
      ]
    },
    {
      "cell_type": "markdown",
      "source": [
        "## Part 2"
      ],
      "metadata": {
        "id": "cppzDeCGfRJm"
      }
    },
    {
      "cell_type": "code",
      "source": [
        "# part (a)\n",
        "from torch.nn import Module\n",
        "from torch.nn import Conv2d\n",
        "from torch.nn import Linear\n",
        "from torch.nn import MaxPool2d\n",
        "from torch.nn import ReLU\n",
        "from torch.nn import LogSoftmax\n",
        "from torch import flatten\n",
        "\n",
        "device = torch.device(\"cuda\" if torch.cuda.is_available() else \"cpu\")\n",
        "\n",
        "class CNN(nn.Module):\n",
        "    def __init__(self):\n",
        "        super().__init__()\n",
        "        self.conv1 = nn.Conv2d(in_channels=3, out_channels=32, kernel_size=(3,3), padding=1)\n",
        "        self.relu1 = ReLU()\n",
        "        self.conv2 = nn.Conv2d(in_channels=32, out_channels=64, kernel_size=(3,3), padding=1)\n",
        "        self.relu2 = ReLU()\n",
        "        self.fc1 = nn.Linear(65536, 10)\n",
        "\n",
        "        # self.relu3 = ReLU()\n",
        "        # self.fc2 = nn.Linear(128, 10)\n",
        "        # self.logSoftmax = LogSoftmax(dim=1)\n",
        "      \n",
        "    def forward(self,x):\n",
        "        x = self.relu1((self.conv1(x)))\n",
        "        x = self.relu2((self.conv2(x)))\n",
        "        # x = relu2((self.conv2(x)))\n",
        "        x = torch.flatten(x, start_dim=1)\n",
        "        # x = self.relu3(self.fc1(x))\n",
        "        x = self.fc1(x)\n",
        "        # output = self.logSoftmax(x)\n",
        "        return x\n",
        "\n"
      ],
      "metadata": {
        "id": "ncdUsIqNM9B_"
      },
      "execution_count": null,
      "outputs": []
    },
    {
      "cell_type": "code",
      "source": [
        "from torch.autograd import Variable\n",
        "from torch.nn import Linear, ReLU, CrossEntropyLoss, Sequential, Conv2d, MaxPool2d, Module, Softmax, BatchNorm2d, Dropout\n",
        "from torch.optim import Adam, SGD\n",
        "\n",
        "model = CNN()\n",
        "# defining the optimizer\n",
        "optimizer = Adam(model.parameters(), lr=0.001)\n",
        "criterion =  nn.CrossEntropyLoss()\n",
        "# checking if GPU is available\n",
        "model = model.to(device)\n",
        "print(model)"
      ],
      "metadata": {
        "colab": {
          "base_uri": "https://localhost:8080/"
        },
        "id": "Cwqx2HAbDfSJ",
        "outputId": "c6ba4c79-6e8d-4264-b421-7090f276acda"
      },
      "execution_count": null,
      "outputs": [
        {
          "output_type": "stream",
          "name": "stdout",
          "text": [
            "CNN(\n",
            "  (conv1): Conv2d(3, 32, kernel_size=(3, 3), stride=(1, 1), padding=(1, 1))\n",
            "  (relu1): ReLU()\n",
            "  (conv2): Conv2d(32, 64, kernel_size=(3, 3), stride=(1, 1), padding=(1, 1))\n",
            "  (relu2): ReLU()\n",
            "  (fc1): Linear(in_features=65536, out_features=10, bias=True)\n",
            ")\n"
          ]
        }
      ]
    },
    {
      "cell_type": "code",
      "source": [
        "device = torch.device(\"cuda\" if torch.cuda.is_available() else \"cpu\")\n",
        "print(device)"
      ],
      "metadata": {
        "colab": {
          "base_uri": "https://localhost:8080/"
        },
        "id": "atZKLMqzEzvB",
        "outputId": "af63c005-2c71-4d65-9a64-bba0580e98f5"
      },
      "execution_count": null,
      "outputs": [
        {
          "output_type": "stream",
          "name": "stdout",
          "text": [
            "cuda\n"
          ]
        }
      ]
    },
    {
      "cell_type": "code",
      "source": [
        "wandb.init(\n",
        "    # set the wandb project where this run will be logged\n",
        "    project=\"Q1\",\n",
        ")\n",
        "## command to log gradients to wandb\n",
        "wandb.watch(model)  ## pass name of model for which we want to log gradients, helps for analysis\n",
        "\n",
        "\n",
        "total_loss_train = []\n",
        "total_loss_validation = []\n",
        "\n",
        "\n",
        "## command to log gradients to wandb\n",
        "# wandb.watch(model)  ## pass name of model for which we want to log gradients, helps for analysis\n",
        "epochs = 10\n",
        "for epoch in range(epochs):  \n",
        "    # print(epoch + 1)\n",
        "    \n",
        "    batch_loss_train=0\n",
        "    batch_loss_val=0\n",
        "\n",
        "    num_batches = 0\n",
        "    correct = 0\n",
        "    total = 0\n",
        "    cnt=0\n",
        "    for i, data in enumerate(trainloader, 0):\n",
        "        \n",
        "\n",
        "\n",
        "        inputs, labels = data\n",
        "        inputs, labels = inputs.to(device), labels.to(device)\n",
        "\n",
        "        optimizer.zero_grad()\n",
        "        outputs = model(inputs)\n",
        "        labels = labels.reshape((len(labels),))\n",
        "       \n",
        "        total += labels.size(0)\n",
        "        cnt+=1\n",
        "\n",
        "        train_pred = torch.max(outputs, 1).indices\n",
        "        correct += int(torch.sum(train_pred == labels))\n",
        "        \n",
        "        loss = criterion(outputs, labels)\n",
        "        loss.backward()\n",
        "        optimizer.step()\n",
        "\n",
        "        batch_loss_train+=loss.item()\n",
        "        running_loss = loss.item()\n",
        "        # print('[epoch, batch] =  [%d, %5d] loss: %.6f' %(epoch + 1, i, running_loss))\n",
        "        num_batches+=1\n",
        "        # print(num_batches)\n",
        "\n",
        "    batch_loss_train/=num_batches\n",
        "    acc = 100 * correct / total\n",
        "\n",
        "    wandb.log(\n",
        "          {\"train accuracy\" : acc,\"train loss\":batch_loss_train}\n",
        "          )\n",
        "\n",
        "    print(\"Trainging Accuracy \",acc)\n",
        "    print(\"Trianing Loss \",batch_loss_train)\n",
        "\n",
        "    total_loss_train.append(batch_loss_train)\n",
        "    \n",
        "    # Valdiation Loop\n",
        "    with torch.no_grad():\n",
        "      correct = 0\n",
        "      total = 0\n",
        "      cnt=0\n",
        "      # ✨ W&B: parameters\n",
        "      log_counter = 0\n",
        "      NUM_BATCHES_TO_LOG = 10\n",
        "      NUM_IMAGES_PER_BATCH = 64\n",
        "      i=-1\n",
        "      for data in valloader:\n",
        "          i+=1\n",
        "          inputs, labels = data\n",
        "          inputs, labels = inputs.to(device), labels.to(device)\n",
        "\n",
        "          # Get Prediction\n",
        "          outputs = model(inputs)\n",
        "\n",
        "          # Compute loss \n",
        "          total += labels.size(0)\n",
        "          cnt+=1\n",
        "          #labels = labels.float()\n",
        "          labels = labels.reshape((len(labels),))\n",
        "          \n",
        "          #print(outputs.shape)\n",
        "          loss_val = criterion(outputs, labels)\n",
        "          batch_loss_val += loss_val.item()\n",
        "          \n",
        "\n",
        "          out_cpu = outputs.cpu()\n",
        "          predicted = [np.argmax(x) for x in out_cpu]\n",
        "          predicted = torch.Tensor(predicted).to(device)\n",
        "          correct += (predicted == labels).sum().item()\n",
        "\n",
        "  \n",
        "      acc = 100 * correct / total\n",
        "      total_loss_validation += [batch_loss_val/cnt]\n",
        "      #W&B: Log accuracy across training epochs, to visualize in the UI\n",
        "     \n",
        "\n",
        "      print(\"Validation loss is \",batch_loss_val/cnt)\n",
        "      print(\"Validation Acc is \", acc)\n",
        "\n",
        "      wandb.log(\n",
        "          {\"val accuracy\" :acc ,\"val loss\":batch_loss_val/cnt}\n",
        "          )\n",
        "\n",
        "print('Finished Training')"
      ],
      "metadata": {
        "colab": {
          "base_uri": "https://localhost:8080/",
          "height": 815
        },
        "id": "kZFpNXWgDnfZ",
        "outputId": "2326c724-92ec-46a6-bbbb-82ff4a583895"
      },
      "execution_count": null,
      "outputs": [
        {
          "output_type": "display_data",
          "data": {
            "text/plain": [
              "<IPython.core.display.HTML object>"
            ],
            "text/html": [
              "Tracking run with wandb version 0.13.10"
            ]
          },
          "metadata": {}
        },
        {
          "output_type": "display_data",
          "data": {
            "text/plain": [
              "<IPython.core.display.HTML object>"
            ],
            "text/html": [
              "Run data is saved locally in <code>/content/wandb/run-20230218_162153-eezbr587</code>"
            ]
          },
          "metadata": {}
        },
        {
          "output_type": "display_data",
          "data": {
            "text/plain": [
              "<IPython.core.display.HTML object>"
            ],
            "text/html": [
              "Syncing run <strong><a href='https://wandb.ai/drake/Q1/runs/eezbr587' target=\"_blank\">swift-blaze-16</a></strong> to <a href='https://wandb.ai/drake/Q1' target=\"_blank\">Weights & Biases</a> (<a href='https://wandb.me/run' target=\"_blank\">docs</a>)<br/>"
            ]
          },
          "metadata": {}
        },
        {
          "output_type": "display_data",
          "data": {
            "text/plain": [
              "<IPython.core.display.HTML object>"
            ],
            "text/html": [
              " View project at <a href='https://wandb.ai/drake/Q1' target=\"_blank\">https://wandb.ai/drake/Q1</a>"
            ]
          },
          "metadata": {}
        },
        {
          "output_type": "display_data",
          "data": {
            "text/plain": [
              "<IPython.core.display.HTML object>"
            ],
            "text/html": [
              " View run at <a href='https://wandb.ai/drake/Q1/runs/eezbr587' target=\"_blank\">https://wandb.ai/drake/Q1/runs/eezbr587</a>"
            ]
          },
          "metadata": {}
        },
        {
          "output_type": "stream",
          "name": "stdout",
          "text": [
            "Trainging Accuracy  44.68885898710973\n",
            "Trianing Loss  1.661302262410856\n",
            "Validation loss is  1.0196425834076894\n",
            "Validation Acc is  68.99187768752986\n",
            "Trainging Accuracy  76.9398779227364\n",
            "Trianing Loss  0.775113595579925\n",
            "Validation loss is  0.6584371346573642\n",
            "Validation Acc is  81.15486997474575\n",
            "Trainging Accuracy  83.49811813802921\n",
            "Trianing Loss  0.5744765225119721\n",
            "Validation loss is  0.5841329142646497\n",
            "Validation Acc is  83.5233089891475\n",
            "Trainging Accuracy  85.5886425242302\n",
            "Trianing Loss  0.5014002423482643\n",
            "Validation loss is  0.5615474331847445\n",
            "Validation Acc is  84.40379496280117\n",
            "Trainging Accuracy  87.00052653132862\n",
            "Trianing Loss  0.4546729487336782\n",
            "Validation loss is  0.5659140012019587\n",
            "Validation Acc is  84.45157327144905\n",
            "Trainging Accuracy  87.73767039138829\n",
            "Trianing Loss  0.42323093084697416\n",
            "Validation loss is  0.5685454843216068\n",
            "Validation Acc is  84.3218892908334\n",
            "Trainging Accuracy  88.45726320716082\n",
            "Trianing Loss  0.3977654669015782\n",
            "Validation loss is  0.5598507972523635\n",
            "Validation Acc is  84.66998839669647\n",
            "Trainging Accuracy  89.22170869166716\n",
            "Trianing Loss  0.3690373459157355\n",
            "Validation loss is  0.5854233389468172\n",
            "Validation Acc is  84.56760630673674\n",
            "Trainging Accuracy  89.75409036837692\n",
            "Trianing Loss  0.3453118484420818\n",
            "Validation loss is  0.6194397280700342\n",
            "Validation Acc is  83.80997884103475\n",
            "Trainging Accuracy  90.58288968193608\n",
            "Trianing Loss  0.3194765094528323\n",
            "Validation loss is  0.6320821471740065\n",
            "Validation Acc is  83.75537505972288\n",
            "Finished Training\n"
          ]
        }
      ]
    },
    {
      "cell_type": "code",
      "source": [
        "true = torch.tensor([]).to(device)\n",
        "pred = torch.tensor([]).to(device)\n",
        "\n",
        "# test_accuracy = 0\n",
        "\n",
        "\n",
        "# with torch.no_grad():\n",
        "#         for image,label in testloader:\n",
        "#             image = image.to(device)\n",
        "#             test_prob = model(image)\n",
        "#             test_prob = test_prob.cpu()\n",
        "#             label = torch.reshape(label, (-1,)).long()\n",
        "#             test_pred = torch.max(test_prob,1).indices\n",
        "#             test_accuracy += int(torch.sum(test_pred == label))\n",
        "#             label = torch.reshape(label, (-1,)).long()\n",
        "\n",
        "\n",
        "#             loss = criterion(test_prob, label)\n",
        "\n",
        "#             count = 0\n",
        "#             for i in range(len(test_pred)):\n",
        "#               if(count == 3):\n",
        "#                 break\n",
        "#               if(test_pred[i]!=label[i]):\n",
        "#                   f1_pred = torch.cat((misclassified_img,image))\n",
        "#                   misclassified_label = torch.cat((misclassified_label, train_pred))\n",
        "#                   count+=1\n",
        "\n",
        "#             f1_true = torch.cat((f1_true, label.to(device)))\n",
        "#             f1_pred = torch.cat((f1_pred, test_prob.to(device)))\n",
        "            \n",
        "#         test_accuracy_epoch = test_accuracy / test_size\n",
        "\n",
        "# wandb. log({\"conf_mat\" : wandb. plot. confusion_matrix(probs=None,\n",
        "# y_true=f1_true, preds=f1_pred,\n",
        "# class_names=[0,1,2,3,4,5,6,7,8,9,10])})\n",
        "       \n",
        "# print(len(f1_pred))        \n",
        "\n",
        "from torchmetrics.classification import F1Score\n",
        "# print(f1_true)\n",
        "# print(f1_pred)\n",
        "\n",
        "\n",
        "true_val = torch.tensor([]).to(device)\n",
        "pred_val = torch.tensor([]).to(device)\n",
        "ll = 0\n",
        "\n",
        "with torch.no_grad():\n",
        "      correct = 0\n",
        "      total = 0\n",
        "      cnt=0\n",
        "      # ✨ W&B: parameters\n",
        "      log_counter = 0\n",
        "      NUM_BATCHES_TO_LOG = 10\n",
        "      NUM_IMAGES_PER_BATCH = 64\n",
        "      i=-1\n",
        "      for data in testloader:\n",
        "          i+=1\n",
        "          inputs, labels = data\n",
        "          inputs, labels = inputs.to(device), labels.to(device)\n",
        "\n",
        "          # Get Prediction\n",
        "          outputs = model(inputs)\n",
        "\n",
        "          # Compute loss \n",
        "          total += labels.size(0)\n",
        "          cnt+=1\n",
        "          #labels = labels.float()\n",
        "          labels = labels.reshape((len(labels),))\n",
        "          \n",
        "          #print(outputs.shape)\n",
        "          loss_val = criterion(outputs, labels)\n",
        "          batch_loss_val += loss_val.item()\n",
        "          \n",
        "\n",
        "          out_cpu = outputs.cpu()\n",
        "          predicted = [np.argmax(x) for x in out_cpu]\n",
        "          predicted = torch.Tensor(predicted).to(device)\n",
        "          correct += (predicted == labels).sum().item()\n",
        "\n",
        "          true_val = torch.cat((true_val, labels))\n",
        "          pred_val = torch.cat((pred_val, predicted))\n",
        "\n",
        "          ll+=len(labels)\n",
        "  \n",
        "      acc = 100 * correct / total\n",
        "      total_loss_validation += [batch_loss_val/cnt]\n",
        "\n",
        "      \n",
        "      # ✨ W&B: Log accuracy across training epochs, to visualize in the UI\n",
        "     \n",
        "\n",
        "\n",
        "f1 = F1Score(task=\"multiclass\", num_classes=10)\n",
        "print(f1(pred_val.cpu(), true_val.cpu()))\n",
        "# print(test_accuracy_epoch*100)\n",
        "print(acc)      \n",
        "print('Finished Testing...')"
      ],
      "metadata": {
        "colab": {
          "base_uri": "https://localhost:8080/"
        },
        "id": "bPiZtG3mD3kN",
        "outputId": "af22fd5f-2a00-4d54-bec2-be8994eee3de"
      },
      "execution_count": null,
      "outputs": [
        {
          "output_type": "stream",
          "name": "stdout",
          "text": [
            "tensor(0.8426)\n",
            "84.25938566552901\n",
            "Finished Testing...\n"
          ]
        }
      ]
    },
    {
      "cell_type": "code",
      "source": [
        "from torchmetrics.classification import MulticlassConfusionMatrix\n",
        "metric = MulticlassConfusionMatrix(num_classes=10)\n",
        "metric(pred_val.cpu(), true_val.cpu())"
      ],
      "metadata": {
        "colab": {
          "base_uri": "https://localhost:8080/"
        },
        "id": "GO-RcUhNTlVs",
        "outputId": "01e2f208-936f-40df-a6ec-d42bef02ea9f"
      },
      "execution_count": null,
      "outputs": [
        {
          "output_type": "execute_result",
          "data": {
            "text/plain": [
              "tensor([[ 389,   16,   13,    2,    1,    2,   16,    6,    4,   17],\n",
              "        [  20, 1285,   18,   19,   23,    8,    8,   19,   12,    8],\n",
              "        [   7,   15,  953,   13,    3,    6,    1,   15,    9,   12],\n",
              "        [   5,   21,   31,  612,    6,   57,   25,   19,   23,   26],\n",
              "        [   7,   45,   19,   15,  628,    4,    8,    3,   11,    8],\n",
              "        [   1,    8,    8,   43,    3,  597,   38,    4,   10,   11],\n",
              "        [  12,   17,    7,   13,    7,   31,  463,    3,   22,    7],\n",
              "        [   3,   26,   23,   13,    5,    2,    3,  496,    1,    6],\n",
              "        [   7,   18,   10,   21,    3,    7,   20,    5,  386,   13],\n",
              "        [  12,   11,   21,   13,    5,   12,    6,    2,   14,  363]])"
            ]
          },
          "metadata": {},
          "execution_count": 20
        }
      ]
    },
    {
      "cell_type": "code",
      "source": [
        "filename = '/content/gdrive/MyDrive/Datasets/cnn.sav'\n",
        "pickle.dump(model, open(filename, 'wb'))"
      ],
      "metadata": {
        "id": "DWCkeWVrU6MO"
      },
      "execution_count": null,
      "outputs": []
    },
    {
      "cell_type": "code",
      "source": [
        "all_labels = [0,1,2,3,4,5,6,7,8,9]\n",
        "# preds = pred_val.cpu().numpy().astype(int)\n",
        "# y_true = true_val.cpu().numpy().astype(int)\n",
        "preds = []\n",
        "y_true = []\n",
        "for i in pred_val.cpu():\n",
        "    preds.append((int(i.item())))\n",
        "for i in true_val.cpu():\n",
        "    y_true.append((int(i.item())))\n",
        "\n",
        "wandb.log({\"my_conf_mat_id\" : wandb.plot.confusion_matrix( \n",
        "            preds=preds, y_true=y_true,\n",
        "            class_names=all_labels)})"
      ],
      "metadata": {
        "id": "9u6kDr7vNwed"
      },
      "execution_count": null,
      "outputs": []
    },
    {
      "cell_type": "code",
      "source": [
        "loaded_model = pickle.load(open(filename, 'rb'))"
      ],
      "metadata": {
        "id": "5a0_dyIXeZox"
      },
      "execution_count": null,
      "outputs": []
    },
    {
      "cell_type": "code",
      "source": [],
      "metadata": {
        "id": "TcRH3r--eaZB"
      },
      "execution_count": null,
      "outputs": []
    },
    {
      "cell_type": "code",
      "source": [],
      "metadata": {
        "id": "uPaw0bF8eabt"
      },
      "execution_count": null,
      "outputs": []
    },
    {
      "cell_type": "code",
      "source": [],
      "metadata": {
        "id": "AEFvrAj_eaeg"
      },
      "execution_count": null,
      "outputs": []
    },
    {
      "cell_type": "code",
      "source": [],
      "metadata": {
        "id": "pUNHE5KZeahW"
      },
      "execution_count": null,
      "outputs": []
    },
    {
      "cell_type": "code",
      "source": [],
      "metadata": {
        "id": "LUYDpaEXeakP"
      },
      "execution_count": null,
      "outputs": []
    },
    {
      "cell_type": "code",
      "source": [],
      "metadata": {
        "id": "4-w5Ntmyeamu"
      },
      "execution_count": null,
      "outputs": []
    },
    {
      "cell_type": "code",
      "source": [],
      "metadata": {
        "id": "ExhCZEAceapi"
      },
      "execution_count": null,
      "outputs": []
    },
    {
      "cell_type": "code",
      "source": [
        "# wandb.init(\n",
        "#     # set the wandb project where this run will be logged\n",
        "#     project=\"Q1\",\n",
        "# )\n",
        "# ## command to log gradients to wandb\n",
        "# wandb.watch(model)  ## pass name of model for which we want to log gradients, helps for analysis\n",
        "\n",
        "\n",
        "# # LEN_TRAIN = train_size\n",
        "# for epoch in range(5):\n",
        "    \n",
        "#     train_accuracy = 0\n",
        "#     test_accuracy = 0\n",
        "    \n",
        "#     # Train\n",
        "#     model.train()\n",
        "#     f1_true = torch.tensor([])\n",
        "#     f1_pred = torch.tensor([])\n",
        "\n",
        "#     #\n",
        "#     misclassified_img = torch.tensor([])\n",
        "#     misclassified_label = torch.tensor([])\n",
        "    \n",
        "#     with tqdm(trainloader, unit=\"batch\") as tepoch:\n",
        "#         for image,label in tepoch:\n",
        "#             optimiser.zero_grad()\n",
        "            \n",
        "#             image = image.to(device)\n",
        "#             train_prob = model(image)\n",
        "#             train_prob = train_prob.cpu()\n",
        "            \n",
        "#             label = torch.reshape(label, (-1,)).long()\n",
        "#             loss = loss_fn(train_prob, label)\n",
        "#             loss.backward()\n",
        "#             optimiser.step()\n",
        "            \n",
        "#             train_pred = torch.max(train_prob, 1).indices\n",
        "#             train_accuracy += int(torch.sum(train_pred == label))\n",
        "\n",
        "#             f1_true = torch.cat((f1_true, label))\n",
        "#             f1_pred = torch.cat((f1_pred, train_pred))\n",
        "            \n",
        "#             # count = 0\n",
        "#             # for i in range(len(train_pred)):\n",
        "#             #   if(count == 3):\n",
        "#             #     break\n",
        "#             #   if(train_pred[i]!=label[i]):\n",
        "#             #       misclassified_img = torch.cat((misclassified_img,image))\n",
        "#             #       misclassified_label = torch.cat((misclassified_label, train_pred))\n",
        "#             #       count+=1\n",
        "#         tr_loss = loss    \n",
        "#         print(train_accuracy)\n",
        "#         train_accuracy_epoch = (train_accuracy / train_size)\n",
        "\n",
        "#         wandb.log(\n",
        "#           {\"train accuracy\" : train_accuracy_epoch,\"train loss\":loss}\n",
        "#           )\n",
        "    \n",
        "#     # validation_loss, accuracy = validation(model, testloader, criterion)\n",
        "#     # Evaluate\n",
        "#     model.eval()\n",
        "#     # with torch.no_grad():\n",
        "#     #       validation_loss, accuracy = validation(model, trainloader, criterion)\n",
        "\n",
        "\n",
        "#     with torch.no_grad():\n",
        "#         for image,label in valloader:\n",
        "#             image = image.to(device)\n",
        "#             test_prob = model(image)\n",
        "#             test_prob = test_prob.cpu()\n",
        "#             label = torch.reshape(label, (-1,)).long()\n",
        "#             test_pred = torch.max(test_prob,1).indices\n",
        "#             test_accuracy += int(torch.sum(test_pred == label))\n",
        "#             label = torch.reshape(label, (-1,)).long()\n",
        "#             loss = loss_fn(test_prob, label)            \n",
        "#             count = 0\n",
        "#             for i in range(len(test_pred)):\n",
        "#               if(count == 3):\n",
        "#                 break\n",
        "#               if(test_pred[i]!=label[i]):\n",
        "#                   misclassified_img = torch.cat((misclassified_img,image))\n",
        "#                   misclassified_label = torch.cat((misclassified_label, train_pred))\n",
        "#                   count+=1\n",
        "\n",
        "\n",
        "            \n",
        "#         test_accuracy_epoch = test_accuracy / val_size\n",
        "\n",
        "#         wandb.log(\n",
        "#           {\"val accuracy\" : test_accuracy_epoch,\"val loss\":loss}\n",
        "#           )\n",
        "#     # test_accuracy_epoch = 0\n",
        "    \n",
        "#     print(f\"Epoch: {epoch+1}  , Loss: {tr_loss} , Train_acc: {train_accuracy_epoch}, Val_acc: {test_accuracy_epoch} , Val Loss:{loss}\")\n",
        "\n",
        "\n",
        "# # artifact = wandb.Artifact('model', type='model')\n",
        "# # artifact.add_file('model.pth')\n",
        "# # wandb.log_artifact(artifact)"
      ],
      "metadata": {
        "id": "PQFAwWvSsB0R"
      },
      "execution_count": null,
      "outputs": []
    },
    {
      "cell_type": "code",
      "source": [
        "# len(misclassified_img)\n",
        "\n",
        "# idx = -7\n",
        "# misclassified_img[idx]\n",
        "\n",
        "# plt.imshow(misclassified_img[idx].permute(1,2,0))\n",
        "# print(labels[idx])"
      ],
      "metadata": {
        "id": "ZdWaqzc-nVu7"
      },
      "execution_count": null,
      "outputs": []
    },
    {
      "cell_type": "code",
      "source": [
        "# idx = -16\n",
        "# misclassified_img[idx]\n",
        "\n",
        "# plt.imshow(misclassified_img[idx].permute(1,2,0))\n",
        "# print(labels[idx])"
      ],
      "metadata": {
        "id": "HdVa1NBJLHmp"
      },
      "execution_count": null,
      "outputs": []
    },
    {
      "cell_type": "code",
      "source": [
        "# from torchmetrics.classification import F1Score\n",
        "# # print(f1_true)\n",
        "# # print(f1_pred)\n",
        "# f1 = F1Score(task=\"multiclass\", num_classes=10)\n",
        "# f1(f1_pred, f1_true)"
      ],
      "metadata": {
        "id": "Q44n6HLd7jkf"
      },
      "execution_count": null,
      "outputs": []
    },
    {
      "cell_type": "code",
      "source": [
        "# f1_true = torch.tensor([])\n",
        "# f1_pred = torch.tensor([])\n",
        "\n",
        "# with torch.no_grad():\n",
        "#         for image,label in valloader:\n",
        "#             image = image.to(device)\n",
        "#             test_prob = model(image)\n",
        "#             test_prob = test_prob.cpu()\n",
        "#             label = torch.reshape(label, (-1,)).long()\n",
        "#             test_pred = torch.max(test_prob,1).indices\n",
        "#             test_accuracy += int(torch.sum(test_pred == label))\n",
        "#             label = torch.reshape(label, (-1,)).long()\n",
        "#             # loss = loss_fn(test_prob, label)\n",
        "\n",
        "#             count = 0\n",
        "#             for i in range(len(test_pred)):\n",
        "#               if(count == 3):\n",
        "#                 break\n",
        "#               if(test_pred[i]!=label[i]):\n",
        "#                   misclassified_img = torch.cat((misclassified_img,image))\n",
        "#                   misclassified_label = torch.cat((misclassified_label, train_pred))\n",
        "#                   count+=1\n",
        "\n",
        "#             f1_true = torch.cat((f1_true, label))\n",
        "#             f1_pred = torch.cat((f1_pred, test_prob))\n",
        "            \n",
        "#         test_accuracy_epoch = test_accuracy / test_size\n",
        "\n",
        "#         wandb.log(\n",
        "#           {\"test accuracy\" : test_accuracy_epoch,\"test loss\":loss}\n",
        "#           )\n",
        "        \n",
        "\n",
        "# from torchmetrics.classification import F1Score\n",
        "# # print(f1_true)\n",
        "# # print(f1_pred)\n",
        "# f1 = F1Score(task=\"multiclass\", num_classes=10)\n",
        "# print(f1(f1_pred, f1_true))\n",
        "# print(test_accuracy_epoch)"
      ],
      "metadata": {
        "id": "bbpPty6RIeOI"
      },
      "execution_count": null,
      "outputs": []
    },
    {
      "cell_type": "markdown",
      "source": [
        "\n",
        "## Trash"
      ],
      "metadata": {
        "id": "owdlsThLovhb"
      }
    },
    {
      "cell_type": "code",
      "source": [
        "#   for epoch in range(1):  # loop over the dataset multiple times\n",
        "\n",
        "#     running_loss = 0.0\n",
        "#     for i, data in enumerate(trainloader, 0):\n",
        "#         # get the inputs; data is a list of [inputs, labels]\n",
        "#         inputs, labels = data\n",
        "#         inputs.float()\n",
        "#         # zero the parameter gradients\n",
        "#         optimizer.zero_grad()\n",
        "\n",
        "#         # forward + backward + optimize\n",
        "#         outputs = model(inputs)\n",
        "#         labels = torch.reshape(labels, (-1,)).long()\n",
        "#         # print(labels)\n",
        "#         loss = criterion(outputs, labels)\n",
        "#         print(loss)\n",
        "#         loss.backward()\n",
        "#         optimizer.step()\n",
        "\n",
        "#         # print statistics\n",
        "#         running_loss += loss.item()\n",
        "#         print(running_loss)\n",
        "\n",
        "#         # print(f'[{epoch + 1}, {i + 1:5d}] loss: {running_loss / 2000:.3f}')\n",
        "#         if i % 10 == 1999:    # print every 2000 mini-batches\n",
        "#             print(f'[{epoch + 1}, {i + 1:5d}] loss: {running_loss / 2000:.3f}')\n",
        "#             running_loss = 0.0\n",
        "\n",
        "# print('Finished Training')"
      ],
      "metadata": {
        "id": "rNRbrMvDNISl"
      },
      "execution_count": null,
      "outputs": []
    },
    {
      "cell_type": "code",
      "source": [
        "# # data_size = len(data['X'])\n",
        "# data_size = 2000\n",
        "\n",
        "# transform = transforms.Compose(\n",
        "#     [transforms.ToTensor(),\n",
        "#      transforms.Normalize((0.5, 0.5, 0.5), (0.5, 0.5, 0.5))])\n",
        "\n",
        "\n",
        "# # shuffle\n",
        "# indices = list(range(data_size))\n",
        "# np.random.shuffle(indices)\n",
        "\n",
        "# test_size =  int(  0.10*data_size )\n",
        "# val_size =   int(  0.20*data_size )\n",
        "# train_size = int(  0.70*data_size )\n",
        "\n",
        "\n",
        "# test_index =  indices[:test_size]\n",
        "# train_index = indices[test_size:test_size+train_size]\n",
        "# val_index = indices[-val_size:]\n",
        "\n",
        "# # df_test = torch.tensor(torch.tensor(data['X'][test_index]),torch.tensor(data['y'][test_index]))\n",
        "\n",
        "# # from torch.utils.data import TensorDataset\n",
        "# # label = torch.tensor(data['y'],)\n",
        "# # img_arr = torch.tensor(data['X'])\n",
        "# # df = TensorDataset(img_arr, label)\n",
        "\n",
        "\n",
        "# gen = torch.Generator()\n",
        "# gen.manual_seed(42)\n",
        "\n",
        "# train_sampler=SubsetRandomSampler(train_index, generator=gen)\n",
        "# val_sampler=SubsetRandomSampler(val_index, generator=gen)\n",
        "# test_sampler=SubsetRandomSampler(test_index, generator=gen)\n",
        "\n",
        "# batch_size = 64\n",
        "# trainloader = torch.utils.data.DataLoader(df, sampler = train_sampler, batch_size=batch_size,num_workers=2)\n",
        "# # valloader = torch.utils.data.DataLoader(df, sampler = val_sampler, batch_size=batch_size,num_workers=2)\n",
        "# # testloader = torch.utils.data.DataLoader(df,sampler = test_sampler, batch_size=batch_size,num_workers=2)"
      ],
      "metadata": {
        "id": "GJ2FXqp5TV9A"
      },
      "execution_count": null,
      "outputs": []
    },
    {
      "cell_type": "code",
      "source": [
        "# training\n",
        "y_train = data['y'][train_index]\n",
        "y_val = data['y'][val_index]"
      ],
      "metadata": {
        "id": "NpEhHha6cW7s"
      },
      "execution_count": null,
      "outputs": []
    },
    {
      "cell_type": "code",
      "source": [
        "unique, counts = np.unique(y_train, return_counts=True)\n",
        "plt.bar(unique, counts, color ='maroon',\n",
        "        width = 0.4)"
      ],
      "metadata": {
        "colab": {
          "base_uri": "https://localhost:8080/"
        },
        "id": "AXrM1lXldJUK",
        "outputId": "fa5967ab-4b83-4a7f-906f-4f23debb491a"
      },
      "execution_count": null,
      "outputs": [
        {
          "output_type": "execute_result",
          "data": {
            "text/plain": [
              "<BarContainer object of 10 artists>"
            ]
          },
          "metadata": {},
          "execution_count": 22
        },
        {
          "output_type": "display_data",
          "data": {
            "text/plain": [
              "<Figure size 432x288 with 1 Axes>"
            ],
            "image/png": "[encoded data removed]"
          },
          "metadata": {
            "needs_background": "light"
          }
        }
      ]
    },
    {
      "cell_type": "code",
      "source": [
        "unique, counts = np.unique(y_val, return_counts=True)\n",
        "plt.bar(unique, counts, color ='green',\n",
        "        width = 0.4)"
      ],
      "metadata": {
        "colab": {
          "base_uri": "https://localhost:8080/"
        },
        "id": "a-dvDgJedj3d",
        "outputId": "ddc8c4ed-f9a1-45fb-8ef7-33876a0c0e3e"
      },
      "execution_count": null,
      "outputs": [
        {
          "output_type": "execute_result",
          "data": {
            "text/plain": [
              "<BarContainer object of 10 artists>"
            ]
          },
          "metadata": {},
          "execution_count": 23
        },
        {
          "output_type": "display_data",
          "data": {
            "text/plain": [
              "<Figure size 432x288 with 1 Axes>"
            ],
            "image/png": "[encoded data removed]"
          },
          "metadata": {
            "needs_background": "light"
          }
        }
      ]
    },
    {
      "cell_type": "markdown",
      "source": [
        "## RESNET"
      ],
      "metadata": {
        "id": "810bUQCagJDa"
      }
    },
    {
      "cell_type": "code",
      "source": [
        "# https://github.com/shounak8/AIML_Tutotials/blob/master/Deep_Learning/PyTorch/santa_or_not/santa_pytorch_pretrained_model.ipynb"
      ],
      "metadata": {
        "id": "kWJzlqtjgNVy"
      },
      "execution_count": null,
      "outputs": []
    },
    {
      "cell_type": "code",
      "source": [
        "device = torch.device(\"cuda:0\" if torch.cuda.is_available() else \"cpu\") # device object"
      ],
      "metadata": {
        "id": "sWUvAjKH4FBv"
      },
      "execution_count": null,
      "outputs": []
    },
    {
      "cell_type": "code",
      "source": [
        "model = resnet18(pretrained=True) # using pre trained resnet\n",
        "model.fc = Linear(in_features=512, out_features=10)  # changing the dimensions of last output layer to number of classes\n",
        "model = model.to(device) # using gpu\n",
        "\n",
        "optimizer = Adam(model.parameters(), lr=0.01) # choosing optimizer and setting cross entropy loss\n",
        "loss_function = CrossEntropyLoss()"
      ],
      "metadata": {
        "colab": {
          "base_uri": "https://localhost:8080/",
          "height": 156,
          "referenced_widgets": [
            "08fd98679b5f42a0b97ea89018f62f66",
            "fc5a30884f82470b90f3dfb0878692c0",
            "f97000374c09472a90c8cd4321c8af1f",
            "452911e0d9bb49898bdd1947e22ca2b2",
            "146fe0567298483d98f1505594b39a72",
            "fbdee30df311484eb26d30b57c4897da",
            "a4d1e158e57c40c2bf2ae447884626f4",
            "6edd212ae9e04070bdd3746f5940de2a",
            "0cd488f7c89e416ca2ba2db0d990b591",
            "46b310f9d97149379b7f00e52b825f58",
            "d4a25027c3424c63bf5e2032427223b7"
          ]
        },
        "id": "NU5C3h2hqgEb",
        "outputId": "abec8c50-3c6c-47e8-b5d7-39b04db61903"
      },
      "execution_count": null,
      "outputs": [
        {
          "output_type": "stream",
          "name": "stderr",
          "text": [
            "/usr/local/lib/python3.8/dist-packages/torchvision/models/_utils.py:208: UserWarning: The parameter 'pretrained' is deprecated since 0.13 and may be removed in the future, please use 'weights' instead.\n",
            "  warnings.warn(\n",
            "/usr/local/lib/python3.8/dist-packages/torchvision/models/_utils.py:223: UserWarning: Arguments other than a weight enum or `None` for 'weights' are deprecated since 0.13 and may be removed in the future. The current behavior is equivalent to passing `weights=ResNet18_Weights.IMAGENET1K_V1`. You can also use `weights=ResNet18_Weights.DEFAULT` to get the most up-to-date weights.\n",
            "  warnings.warn(msg)\n",
            "Downloading: \"https://download.pytorch.org/models/resnet18-f37072fd.pth\" to /root/.cache/torch/hub/checkpoints/resnet18-f37072fd.pth\n"
          ]
        },
        {
          "output_type": "display_data",
          "data": {
            "text/plain": [
              "  0%|          | 0.00/44.7M [00:00<?, ?B/s]"
            ],
            "application/vnd.jupyter.widget-view+json": {
              "version_major": 2,
              "version_minor": 0,
              "model_id": "08fd98679b5f42a0b97ea89018f62f66"
            }
          },
          "metadata": {}
        }
      ]
    },
    {
      "cell_type": "code",
      "source": [
        "model = resnet18(pretrained=True)   #load resnet18 model\n",
        "num_features = model.fc.in_features     #extract fc layers features\n",
        "model.fc = nn.Linear(num_features, 10) #(num_of_class == 2)\n",
        "model = model.to(device) \n",
        "loss_fn = nn.CrossEntropyLoss()  #(set loss function)\n",
        "optimizer = optim.SGD(model.parameters(), lr=0.001, momentum=0.9)"
      ],
      "metadata": {
        "id": "j6370YX6AjZL"
      },
      "execution_count": null,
      "outputs": []
    },
    {
      "cell_type": "code",
      "source": [
        "wandb.init(\n",
        "    # set the wandb project where this run will be logged\n",
        "    project=\"Q1\",\n",
        ")\n",
        "## command to log gradients to wandb\n",
        "wandb.watch(model)  ## pass name of model for which we want to log gradients, helps for analysis\n",
        "\n",
        "\n",
        "total_loss_train = []\n",
        "total_loss_validation = []\n",
        "\n",
        "\n",
        "## command to log gradients to wandb\n",
        "# wandb.watch(model)  ## pass name of model for which we want to log gradients, helps for analysis\n",
        "epochs = 10\n",
        "for epoch in range(epochs):  \n",
        "    # print(epoch + 1)\n",
        "    \n",
        "    batch_loss_train=0\n",
        "    batch_loss_val=0\n",
        "\n",
        "    num_batches = 0\n",
        "    correct = 0\n",
        "    total = 0\n",
        "    cnt=0\n",
        "    for i, data in enumerate(trainloader, 0):\n",
        "        \n",
        "\n",
        "\n",
        "        inputs, labels = data\n",
        "        inputs, labels = inputs.to(device), labels.to(device)\n",
        "\n",
        "        optimizer.zero_grad()\n",
        "        outputs = model(inputs)\n",
        "        labels = labels.reshape((len(labels),))\n",
        "       \n",
        "        total += labels.size(0)\n",
        "        cnt+=1\n",
        "\n",
        "        train_pred = torch.max(outputs, 1).indices\n",
        "        correct += int(torch.sum(train_pred == labels))\n",
        "        \n",
        "        loss = criterion(outputs, labels)\n",
        "        loss.backward()\n",
        "        optimizer.step()\n",
        "\n",
        "        batch_loss_train+=loss.item()\n",
        "        running_loss = loss.item()\n",
        "        # print('[epoch, batch] =  [%d, %5d] loss: %.6f' %(epoch + 1, i, running_loss))\n",
        "        num_batches+=1\n",
        "        # print(num_batches)\n",
        "\n",
        "    batch_loss_train/=num_batches\n",
        "    acc = 100 * correct / total\n",
        "\n",
        "    wandb.log(\n",
        "          {\"train accuracy\" : acc,\"train loss\":batch_loss_train}\n",
        "          )\n",
        "\n",
        "    print(\"Trainging Accuracy \",acc)\n",
        "    print(\"Trianing Loss \",batch_loss_train)\n",
        "\n",
        "    total_loss_train.append(batch_loss_train)\n",
        "    \n",
        "    # Valdiation Loop\n",
        "    with torch.no_grad():\n",
        "      correct = 0\n",
        "      total = 0\n",
        "      cnt=0\n",
        "      # ✨ W&B: parameters\n",
        "      log_counter = 0\n",
        "      NUM_BATCHES_TO_LOG = 10\n",
        "      NUM_IMAGES_PER_BATCH = 64\n",
        "      i=-1\n",
        "      for data in valloader:\n",
        "          i+=1\n",
        "          inputs, labels = data\n",
        "          inputs, labels = inputs.to(device), labels.to(device)\n",
        "\n",
        "          # Get Prediction\n",
        "          outputs = model(inputs)\n",
        "\n",
        "          # Compute loss \n",
        "          total += labels.size(0)\n",
        "          cnt+=1\n",
        "          #labels = labels.float()\n",
        "          labels = labels.reshape((len(labels),))\n",
        "          \n",
        "          #print(outputs.shape)\n",
        "          loss_val = criterion(outputs, labels)\n",
        "          batch_loss_val += loss_val.item()\n",
        "          \n",
        "\n",
        "          out_cpu = outputs.cpu()\n",
        "          predicted = [np.argmax(x) for x in out_cpu]\n",
        "          predicted = torch.Tensor(predicted).to(device)\n",
        "          correct += (predicted == labels).sum().item()\n",
        "\n",
        "  \n",
        "      acc = 100 * correct / total\n",
        "      total_loss_validation += [batch_loss_val/cnt]\n",
        "      # ✨ W&B: Log accuracy across training epochs, to visualize in the UI\n",
        "     \n",
        "\n",
        "      print(\"Validation loss is \",batch_loss_val/cnt)\n",
        "      print(\"Validation Acc is \", acc)\n",
        "\n",
        "      wandb.log(\n",
        "          {\"val accuracy\" :acc ,\"val loss\":batch_loss_val/cnt}\n",
        "          )\n",
        "\n",
        "print('Finished Training')"
      ],
      "metadata": {
        "id": "cc3miMCQgNhS",
        "colab": {
          "base_uri": "https://localhost:8080/",
          "height": 1000
        },
        "outputId": "c2053b4b-6975-408f-ee61-69078c966465"
      },
      "execution_count": null,
      "outputs": [
        {
          "output_type": "display_data",
          "data": {
            "text/plain": [
              "<IPython.core.display.HTML object>"
            ],
            "text/html": [
              "Finishing last run (ID:eezbr587) before initializing another..."
            ]
          },
          "metadata": {}
        },
        {
          "output_type": "display_data",
          "data": {
            "text/plain": [
              "<IPython.core.display.HTML object>"
            ],
            "text/html": [
              "Waiting for W&B process to finish... <strong style=\"color:green\">(success).</strong>"
            ]
          },
          "metadata": {}
        },
        {
          "output_type": "display_data",
          "data": {
            "text/plain": [
              "<IPython.core.display.HTML object>"
            ],
            "text/html": [
              "<style>\n",
              "    table.wandb td:nth-child(1) { padding: 0 10px; text-align: left ; width: auto;} td:nth-child(2) {text-align: left ; width: 100%}\n",
              "    .wandb-row { display: flex; flex-direction: row; flex-wrap: wrap; justify-content: flex-start; width: 100% }\n",
              "    .wandb-col { display: flex; flex-direction: column; flex-basis: 100%; flex: 1; padding: 10px; }\n",
              "    </style>\n",
              "<div class=\"wandb-row\"><div class=\"wandb-col\"><h3>Run history:</h3><br/><table class=\"wandb\"><tr><td>train accuracy</td><td>▁▆▇▇▇█████</td></tr><tr><td>train loss</td><td>█▃▂▂▂▂▁▁▁▁</td></tr><tr><td>val accuracy</td><td>▁▆▇███████</td></tr><tr><td>val loss</td><td>█▃▁▁▁▁▁▁▂▂</td></tr></table><br/></div><div class=\"wandb-col\"><h3>Run summary:</h3><br/><table class=\"wandb\"><tr><td>train accuracy</td><td>90.58289</td></tr><tr><td>train loss</td><td>0.31948</td></tr><tr><td>val accuracy</td><td>83.75538</td></tr><tr><td>val loss</td><td>0.63208</td></tr></table><br/></div></div>"
            ]
          },
          "metadata": {}
        },
        {
          "output_type": "display_data",
          "data": {
            "text/plain": [
              "<IPython.core.display.HTML object>"
            ],
            "text/html": [
              " View run <strong style=\"color:#cdcd00\">swift-blaze-16</strong> at: <a href='https://wandb.ai/drake/Q1/runs/eezbr587' target=\"_blank\">https://wandb.ai/drake/Q1/runs/eezbr587</a><br/>Synced 5 W&B file(s), 1 media file(s), 1 artifact file(s) and 0 other file(s)"
            ]
          },
          "metadata": {}
        },
        {
          "output_type": "display_data",
          "data": {
            "text/plain": [
              "<IPython.core.display.HTML object>"
            ],
            "text/html": [
              "Find logs at: <code>./wandb/run-20230218_162153-eezbr587/logs</code>"
            ]
          },
          "metadata": {}
        },
        {
          "output_type": "display_data",
          "data": {
            "text/plain": [
              "<IPython.core.display.HTML object>"
            ],
            "text/html": [
              "Successfully finished last run (ID:eezbr587). Initializing new run:<br/>"
            ]
          },
          "metadata": {}
        },
        {
          "output_type": "display_data",
          "data": {
            "text/plain": [
              "<IPython.core.display.HTML object>"
            ],
            "text/html": [
              "Tracking run with wandb version 0.13.10"
            ]
          },
          "metadata": {}
        },
        {
          "output_type": "display_data",
          "data": {
            "text/plain": [
              "<IPython.core.display.HTML object>"
            ],
            "text/html": [
              "Run data is saved locally in <code>/content/wandb/run-20230218_170351-tvoyc5nw</code>"
            ]
          },
          "metadata": {}
        },
        {
          "output_type": "display_data",
          "data": {
            "text/plain": [
              "<IPython.core.display.HTML object>"
            ],
            "text/html": [
              "Syncing run <strong><a href='https://wandb.ai/drake/Q1/runs/tvoyc5nw' target=\"_blank\">gentle-hill-17</a></strong> to <a href='https://wandb.ai/drake/Q1' target=\"_blank\">Weights & Biases</a> (<a href='https://wandb.me/run' target=\"_blank\">docs</a>)<br/>"
            ]
          },
          "metadata": {}
        },
        {
          "output_type": "display_data",
          "data": {
            "text/plain": [
              "<IPython.core.display.HTML object>"
            ],
            "text/html": [
              " View project at <a href='https://wandb.ai/drake/Q1' target=\"_blank\">https://wandb.ai/drake/Q1</a>"
            ]
          },
          "metadata": {}
        },
        {
          "output_type": "display_data",
          "data": {
            "text/plain": [
              "<IPython.core.display.HTML object>"
            ],
            "text/html": [
              " View run at <a href='https://wandb.ai/drake/Q1/runs/tvoyc5nw' target=\"_blank\">https://wandb.ai/drake/Q1/runs/tvoyc5nw</a>"
            ]
          },
          "metadata": {}
        },
        {
          "output_type": "stream",
          "name": "stdout",
          "text": [
            "Trainging Accuracy  70.44404142046452\n",
            "Trianing Loss  0.8906174714205568\n",
            "Validation loss is  0.4853588039437756\n",
            "Validation Acc is  84.75871954132823\n",
            "Trainging Accuracy  87.95023303886582\n",
            "Trianing Loss  0.38317989869196517\n",
            "Validation loss is  0.38562082974280854\n",
            "Validation Acc is  88.28748890860692\n",
            "Trainging Accuracy  91.33173423818717\n",
            "Trianing Loss  0.28353108303096525\n",
            "Validation loss is  0.3621531414705853\n",
            "Validation Acc is  89.22257866357245\n",
            "Trainging Accuracy  93.06733750658164\n",
            "Trianing Loss  0.2250010398125968\n",
            "Validation loss is  0.3531844632529275\n",
            "Validation Acc is  89.79591836734694\n",
            "Trainging Accuracy  94.2491078219154\n",
            "Trianing Loss  0.18518371405799935\n",
            "Validation loss is  0.34705339102115174\n",
            "Validation Acc is  90.33513070780151\n",
            "Trainging Accuracy  95.15201154468691\n",
            "Trianing Loss  0.15530002036333976\n",
            "Validation loss is  0.36138066210210584\n",
            "Validation Acc is  90.06893727390622\n",
            "Trainging Accuracy  95.97691062618226\n",
            "Trianing Loss  0.12555217097148746\n",
            "Validation loss is  0.3494074703661896\n",
            "Validation Acc is  90.99720155620777\n",
            "Trainging Accuracy  96.61069833655102\n",
            "Trianing Loss  0.10637901495547589\n",
            "Validation loss is  0.37351372548456274\n",
            "Validation Acc is  90.84704115760016\n",
            "Trainging Accuracy  97.15478070945221\n",
            "Trianing Loss  0.08728795522763545\n",
            "Validation loss is  0.39354041921519817\n",
            "Validation Acc is  90.533069415057\n",
            "Trainging Accuracy  97.49020066693969\n",
            "Trianing Loss  0.07679836216912213\n",
            "Validation loss is  0.4032520106851274\n",
            "Validation Acc is  90.62180055968877\n",
            "Finished Training\n"
          ]
        }
      ]
    },
    {
      "cell_type": "code",
      "source": [
        "# testing\n",
        "true = torch.tensor([]).to(device)\n",
        "pred = torch.tensor([]).to(device)\n",
        "\n",
        "\n",
        "from torchmetrics.classification import F1Score\n",
        "# print(f1_true)\n",
        "# print(f1_pred)\n",
        "\n",
        "\n",
        "true_val = torch.tensor([]).to(device)\n",
        "pred_val = torch.tensor([]).to(device)\n",
        "ll = 0\n",
        "\n",
        "with torch.no_grad():\n",
        "      correct = 0\n",
        "      total = 0\n",
        "      cnt=0\n",
        "      # ✨ W&B: parameters\n",
        "      log_counter = 0\n",
        "      NUM_BATCHES_TO_LOG = 10\n",
        "      NUM_IMAGES_PER_BATCH = 64\n",
        "      i=-1\n",
        "      for data in testloader:\n",
        "          i+=1\n",
        "          inputs, labels = data\n",
        "          inputs, labels = inputs.to(device), labels.to(device)\n",
        "\n",
        "          # Get Prediction\n",
        "          outputs = model(inputs)\n",
        "\n",
        "          # Compute loss \n",
        "          total += labels.size(0)\n",
        "          cnt+=1\n",
        "          #labels = labels.float()\n",
        "          labels = labels.reshape((len(labels),))\n",
        "          \n",
        "          #print(outputs.shape)\n",
        "          loss_val = criterion(outputs, labels)\n",
        "          batch_loss_val += loss_val.item()\n",
        "          \n",
        "\n",
        "          out_cpu = outputs.cpu()\n",
        "          predicted = [np.argmax(x) for x in out_cpu]\n",
        "          predicted = torch.Tensor(predicted).to(device)\n",
        "          correct += (predicted == labels).sum().item()\n",
        "\n",
        "          true_val = torch.cat((true_val, labels))\n",
        "          pred_val = torch.cat((pred_val, predicted))\n",
        "\n",
        "          ll+=len(labels)\n",
        "  \n",
        "      acc = 100 * correct / total\n",
        "      total_loss_validation += [batch_loss_val/cnt]\n",
        "\n",
        "      \n",
        "      # ✨ W&B: Log accuracy across training epochs, to visualize in the UI\n",
        "     \n",
        "\n",
        "\n",
        "f1 = F1Score(task=\"multiclass\", num_classes=10)\n",
        "print(f1(pred_val.cpu(), true_val.cpu()))\n",
        "# print(test_accuracy_epoch*100)\n",
        "print(acc)      \n",
        "print('Finished Testing...')"
      ],
      "metadata": {
        "colab": {
          "base_uri": "https://localhost:8080/"
        },
        "id": "Y_HUqEove3ZF",
        "outputId": "40c33972-b6c8-4e39-83c5-74ca8b95c062"
      },
      "execution_count": null,
      "outputs": [
        {
          "output_type": "stream",
          "name": "stdout",
          "text": [
            "tensor(0.9025)\n",
            "90.25255972696246\n",
            "Finished Testing...\n"
          ]
        }
      ]
    },
    {
      "cell_type": "code",
      "source": [
        "all_labels = [0,1,2,3,4,5,6,7,8,9]\n",
        "# preds = pred_val.cpu().numpy().astype(int)\n",
        "# y_true = true_val.cpu().numpy().astype(int)\n",
        "preds = []\n",
        "y_true = []\n",
        "for i in pred_val.cpu():\n",
        "    preds.append((int(i.item())))\n",
        "for i in true_val.cpu():\n",
        "    y_true.append((int(i.item())))\n",
        "\n",
        "wandb.log({\"my_conf_mat_id\" : wandb.plot.confusion_matrix( \n",
        "            preds=preds, y_true=y_true,\n",
        "            class_names=all_labels)})"
      ],
      "metadata": {
        "id": "GfhMeRyhfSpF"
      },
      "execution_count": null,
      "outputs": []
    },
    {
      "cell_type": "code",
      "source": [],
      "metadata": {
        "id": "mApaz2ubfSr9"
      },
      "execution_count": null,
      "outputs": []
    },
    {
      "cell_type": "code",
      "source": [],
      "metadata": {
        "id": "pp26ANX1fSum"
      },
      "execution_count": null,
      "outputs": []
    },
    {
      "cell_type": "code",
      "source": [],
      "metadata": {
        "id": "c6SXQiWYfSxB"
      },
      "execution_count": null,
      "outputs": []
    },
    {
      "cell_type": "code",
      "source": [
        "from sklearn.manifold import TSNE\n",
        "import numpy as np\n",
        "import matplotlib.pyplot as plt\n",
        "from mpl_toolkits.mplot3d import Axes3D\n",
        "import warnings\n",
        "warnings.filterwarnings(\"ignore\")\n",
        "\n",
        "# For input\n",
        "# samples from the training and validation sets, extract the feature vectors using\n",
        "# the backbone (ResNet-18 in this case) and visualize them in the feature space\n",
        "# using the tSNE plot in a 2-D Space. Also, visualize the tSNE plot of the\n",
        "# validation set in a 3D-Space.\n",
        "\n",
        "# Load pre-trained ResNet-18 model and freeze weights\n",
        "resnet = resnet18(pretrained=True)\n",
        "# for param in resnet.parameters():\n",
        "#     param.requires_grad = False\n",
        "\n",
        "# Extract feature vectors for training and validation sets\n",
        "train_features = []\n",
        "train_labels = []\n",
        "for images, labels in trainloader:\n",
        "    with torch.no_grad():\n",
        "        features = resnet(images)\n",
        "    train_features.append(features.cpu().numpy())\n",
        "    train_labels.append(labels.numpy())\n",
        "\n",
        "train_features = np.concatenate(train_features)\n",
        "train_labels = np.concatenate(train_labels)\n",
        "\n",
        "val_features = []\n",
        "val_labels = []\n",
        "for images, labels in valloader:\n",
        "    with torch.no_grad():\n",
        "        features = resnet(images)\n",
        "    val_features.append(features.cpu().numpy())\n",
        "    val_labels.append(labels.numpy())\n",
        "\n",
        "val_features = np.concatenate(val_features)\n",
        "val_labels = np.concatenate(val_labels)\n",
        "\n",
        "# Reduce dimensionality of feature vectors using t-SNE\n",
        "tsne = TSNE(n_components=2, perplexity=30, random_state=0)\n",
        "train_tsne = tsne.fit_transform(train_features)\n",
        "val_tsne = tsne.fit_transform(val_features)\n",
        "\n",
        "# Visualize 2D t-SNE plot of training set\n",
        "plt.scatter(train_tsne[:, 0], train_tsne[:, 1], c=train_labels)\n",
        "plt.title('2D t-SNE plot of training set')\n",
        "plt.show()\n",
        "\n",
        "# Visualize 2D t-SNE plot of validation set\n",
        "plt.scatter(val_tsne[:, 0], val_tsne[:, 1], c=val_labels)\n",
        "plt.title('2D t-SNE plot of validation set')\n",
        "plt.show()\n",
        "\n",
        "# Reduce dimensionality of feature vectors using t-SNE for 3D plot\n",
        "# tsne_3d = TSNE(n_components=3, perplexity=30, random_state=0)\n",
        "# val_tsne_3d = tsne_3d.fit_transform(val_features)\n",
        "\n",
        "# # Visualize 3D t-SNE plot of validation set\n",
        "# fig = plt.figure()\n",
        "# ax = fig.add_subplot(111, projection='3d')\n",
        "# ax"
      ],
      "metadata": {
        "colab": {
          "base_uri": "https://localhost:8080/",
          "height": 545
        },
        "id": "bf1f1kPOkM-U",
        "outputId": "50c73405-b746-45f7-d118-f41eb86e9158"
      },
      "execution_count": null,
      "outputs": [
        {
          "output_type": "display_data",
          "data": {
            "text/plain": [
              "<Figure size 432x288 with 1 Axes>"
            ],
            "image/png": "[encoded data removed]"
          },
          "metadata": {
            "needs_background": "light"
          }
        },
        {
          "output_type": "display_data",
          "data": {
            "text/plain": [
              "<Figure size 432x288 with 1 Axes>"
            ],
            "image/png": "[encoded data removed]"
          },
          "metadata": {
            "needs_background": "light"
          }
        }
      ]
    },
    {
      "cell_type": "code",
      "source": [
        "# from torchmetrics.classification import F1Score\n",
        "# # print(f1_true)\n",
        "# print(f1_pred)\n",
        "# f1 = F1Score(task=\"multiclass\", num_classes=10)\n",
        "# f1(f1_pred, f1_true)"
      ],
      "metadata": {
        "colab": {
          "base_uri": "https://localhost:8080/"
        },
        "id": "Mg_7lTT9qdOh",
        "outputId": "ab979e29-81a2-4bc1-8a6c-2400c3b34270"
      },
      "execution_count": null,
      "outputs": [
        {
          "output_type": "execute_result",
          "data": {
            "text/plain": [
              "tensor(0.0905)"
            ]
          },
          "metadata": {},
          "execution_count": 27
        }
      ]
    },
    {
      "cell_type": "code",
      "source": [
        "labels = None\n",
        "features = None\n",
        "with torch.no_grad():\n",
        "    for data in trainloader:\n",
        "        images, labels = data\n",
        "        features = model.get_features(images)\n",
        "      \n",
        "print(features)"
      ],
      "metadata": {
        "id": "0LSDLP7d4sFs",
        "colab": {
          "base_uri": "https://localhost:8080/"
        },
        "outputId": "cc1206af-c820-44f8-9b82-a87cd0c8c3ae"
      },
      "execution_count": null,
      "outputs": [
        {
          "output_type": "stream",
          "name": "stdout",
          "text": [
            "tensor([[ 1.0732, -0.1563, -0.9011,  ..., -3.4389, -1.0389, -0.7465],\n",
            "        [-0.6167, -0.8459, -0.2426,  ...,  0.2298,  0.2022,  0.2082],\n",
            "        [ 1.5768,  0.8436,  0.0436,  ..., -0.2039, -0.0534,  0.1282],\n",
            "        ...,\n",
            "        [-0.1947, -1.3528, -1.0856,  ...,  0.9888, -0.0083, -1.0834],\n",
            "        [ 1.5978,  0.2717,  0.2054,  ..., -1.5825, -1.1811,  0.9422],\n",
            "        [ 1.9095,  0.2840, -0.2494,  ...,  0.7040, -1.0199, -2.8788]])\n"
          ]
        }
      ]
    },
    {
      "cell_type": "code",
      "source": [],
      "metadata": {
        "id": "eCNk72N5GJZp"
      },
      "execution_count": null,
      "outputs": []
    },
    {
      "cell_type": "code",
      "source": [
        "# LEN_TRAIN = 2000\n",
        "# for epoch in range(2):\n",
        "    \n",
        "    \n",
        "#     tr_acc = 0\n",
        "#     test_acc = 0\n",
        "    \n",
        "#     # Train\n",
        "#     model.train()\n",
        "    \n",
        "\n",
        "#     f1_true = torch.tensor([])\n",
        "#     f1_pred = torch.tensor([])\n",
        "\n",
        "  \n",
        "    \n",
        "#     with tqdm(trainloader, unit=\"batch\") as tepoch:\n",
        "#         for xtrain, ytrain in tepoch:\n",
        "#             optimiser.zero_grad()\n",
        "            \n",
        "#             xtrain = xtrain.to(device)\n",
        "#             train_prob = model(xtrain)\n",
        "#             train_prob = train_prob.cpu()\n",
        "            \n",
        "\n",
        "\n",
        "#             ytrain = torch.reshape(ytrain, (-1,)).long()\n",
        "\n",
        "            \n",
        "\n",
        "#             loss = loss_fn(train_prob, ytrain)\n",
        "#             loss.backward()\n",
        "#             optimiser.step()\n",
        "            \n",
        "#             # training ends\n",
        "            \n",
        "#             train_pred = torch.max(train_prob, 1).indices\n",
        "\n",
        "#             f1_true = torch.cat((f1_true, ytrain))\n",
        "#             f1_pred = torch.cat((f1_pred, train_pred))\n",
        "\n",
        "#             tr_acc += int(torch.sum(train_pred == ytrain))\n",
        "            \n",
        "#         ep_tr_acc = tr_acc / LEN_TRAIN\n",
        "    \n",
        "#     # Evaluate\n",
        "#     # model.eval()\n",
        "#     # with torch.no_grad():\n",
        "#     #     for xtest, ytest in test_loader:\n",
        "#     #         xtest = xtest.to(device)\n",
        "#     #         test_prob = model(xtest)\n",
        "#     #         test_prob = test_prob.cpu()\n",
        "            \n",
        "#     #         test_pred = torch.max(test_prob,1).indices\n",
        "#     #         test_acc += int(torch.sum(test_pred == ytest))\n",
        "            \n",
        "#     #     ep_test_acc = test_acc / LEN_TEST\n",
        "    \n",
        "   \n",
        "    \n",
        "#     print(f\"Epoch: {epoch}, Time: {0}, Loss: {loss}\\nTrain_acc: {ep_tr_acc}, Test_acc: {0}\")"
      ],
      "metadata": {
        "colab": {
          "base_uri": "https://localhost:8080/"
        },
        "id": "i5-xv-9_peUn",
        "outputId": "f6d71eee-a4de-43db-9e83-6ea11cffd002"
      },
      "execution_count": null,
      "outputs": [
        {
          "output_type": "stream",
          "name": "stderr",
          "text": [
            "100%|██████████| 32/32 [00:17<00:00,  1.83batch/s]\n"
          ]
        },
        {
          "output_type": "stream",
          "name": "stdout",
          "text": [
            "Epoch: 0, Time: 0, Loss: 2.636685371398926\n",
            "Train_acc: 0.0905, Test_acc: 0\n"
          ]
        },
        {
          "output_type": "stream",
          "name": "stderr",
          "text": [
            "100%|██████████| 32/32 [00:18<00:00,  1.75batch/s]"
          ]
        },
        {
          "output_type": "stream",
          "name": "stdout",
          "text": [
            "Epoch: 1, Time: 0, Loss: 2.636685371398926\n",
            "Train_acc: 0.0905, Test_acc: 0\n"
          ]
        },
        {
          "output_type": "stream",
          "name": "stderr",
          "text": [
            "\n"
          ]
        }
      ]
    },
    {
      "cell_type": "code",
      "source": [
        "# ytrain = torch.reshape(ytrain, (-1,)).long()\n",
        "# ytrain"
      ],
      "metadata": {
        "colab": {
          "base_uri": "https://localhost:8080/"
        },
        "id": "LhSji_G7pmx0",
        "outputId": "8b14dd36-2611-4e8f-918f-2658d5ab7ec4"
      },
      "execution_count": null,
      "outputs": [
        {
          "output_type": "execute_result",
          "data": {
            "text/plain": [
              "tensor([8, 4, 1, 2, 9, 5, 6, 2, 9, 1, 1, 5, 2, 1, 3, 3])"
            ]
          },
          "metadata": {},
          "execution_count": 29
        }
      ]
    },
    {
      "cell_type": "code",
      "source": [
        "# torch.max(train_prob, 1)"
      ],
      "metadata": {
        "colab": {
          "base_uri": "https://localhost:8080/"
        },
        "id": "GVCMCRTAp8-6",
        "outputId": "e36ef263-be74-4f6b-a660-0e050b5daac8"
      },
      "execution_count": null,
      "outputs": [
        {
          "output_type": "execute_result",
          "data": {
            "text/plain": [
              "torch.return_types.max(\n",
              "values=tensor([0.9538, 0.7797, 1.3748, 1.5034, 1.3536, 0.7009, 1.2162, 1.0941, 1.3805,\n",
              "        1.3677, 2.2909, 1.6346, 1.1408, 1.1597, 1.2788, 0.7480],\n",
              "       grad_fn=<MaxBackward0>),\n",
              "indices=tensor([0, 2, 5, 3, 2, 5, 4, 4, 2, 6, 6, 5, 6, 6, 6, 2]))"
            ]
          },
          "metadata": {},
          "execution_count": 30
        }
      ]
    },
    {
      "cell_type": "code",
      "source": [
        "a = torch.randn(1, 3)\n",
        "a"
      ],
      "metadata": {
        "colab": {
          "base_uri": "https://localhost:8080/"
        },
        "id": "HgxCGOjuzA5w",
        "outputId": "26138c88-32d2-49f2-aea5-ff4ed57e4ef1"
      },
      "execution_count": null,
      "outputs": [
        {
          "output_type": "execute_result",
          "data": {
            "text/plain": [
              "tensor([[ 0.5987, -0.4885,  1.4049]])"
            ]
          },
          "metadata": {},
          "execution_count": 31
        }
      ]
    },
    {
      "cell_type": "code",
      "source": [
        "torch.max(a,1).indices"
      ],
      "metadata": {
        "colab": {
          "base_uri": "https://localhost:8080/"
        },
        "id": "WCS-AuB9zKps",
        "outputId": "5ca49b37-fa07-4ab2-bde0-8710406fc73c"
      },
      "execution_count": null,
      "outputs": [
        {
          "output_type": "execute_result",
          "data": {
            "text/plain": [
              "tensor([2])"
            ]
          },
          "metadata": {},
          "execution_count": 32
        }
      ]
    },
    {
      "cell_type": "code",
      "source": [
        "b = torch.randn(1, 3)\n",
        "b"
      ],
      "metadata": {
        "colab": {
          "base_uri": "https://localhost:8080/"
        },
        "id": "2MdPfUg_zPyL",
        "outputId": "a1691de2-d4f4-449c-d270-d6559b029698"
      },
      "execution_count": null,
      "outputs": [
        {
          "output_type": "execute_result",
          "data": {
            "text/plain": [
              "tensor([[-0.3623,  0.6409, -0.4022]])"
            ]
          },
          "metadata": {},
          "execution_count": 33
        }
      ]
    },
    {
      "cell_type": "code",
      "source": [
        "a = torch.cat((a, b))"
      ],
      "metadata": {
        "id": "F-SbBXur0kGV"
      },
      "execution_count": null,
      "outputs": []
    },
    {
      "cell_type": "code",
      "source": [
        "b1 = torch.tensor([12,3])\n",
        "b1"
      ],
      "metadata": {
        "colab": {
          "base_uri": "https://localhost:8080/"
        },
        "id": "L8nbiN_30-3c",
        "outputId": "16854936-b17c-400a-c9db-3ccde8f02eb2"
      },
      "execution_count": null,
      "outputs": [
        {
          "output_type": "execute_result",
          "data": {
            "text/plain": [
              "tensor([12,  3])"
            ]
          },
          "metadata": {},
          "execution_count": 35
        }
      ]
    },
    {
      "cell_type": "code",
      "source": [
        "a1 = torch.tensor([2,3])\n",
        "a1"
      ],
      "metadata": {
        "colab": {
          "base_uri": "https://localhost:8080/"
        },
        "id": "qnqDjvvs0_gT",
        "outputId": "50c5292f-ade5-4cca-a9fa-eaac1b3777cb"
      },
      "execution_count": null,
      "outputs": [
        {
          "output_type": "execute_result",
          "data": {
            "text/plain": [
              "tensor([2, 3])"
            ]
          },
          "metadata": {},
          "execution_count": 36
        }
      ]
    },
    {
      "cell_type": "code",
      "source": [
        "f1_true = torch.tensor([])\n",
        "f1_true = torch.cat((f1_true, labels))\n"
      ],
      "metadata": {
        "id": "w0zekPJx2PLn"
      },
      "execution_count": null,
      "outputs": []
    },
    {
      "cell_type": "code",
      "source": [
        "for i in range(len(a1)):\n",
        "  print(a1[i] == 2)"
      ],
      "metadata": {
        "colab": {
          "base_uri": "https://localhost:8080/"
        },
        "id": "UveGPmoL2V5-",
        "outputId": "68f3f801-c27e-4424-ded3-8652c75ce57f"
      },
      "execution_count": null,
      "outputs": [
        {
          "output_type": "stream",
          "name": "stdout",
          "text": [
            "tensor(True)\n",
            "tensor(False)\n"
          ]
        }
      ]
    },
    {
      "cell_type": "code",
      "source": [
        "plt.plot(a1.numpy(),[2,3])"
      ],
      "metadata": {
        "colab": {
          "base_uri": "https://localhost:8080/",
          "height": 282
        },
        "id": "AeH2dtOH1GZr",
        "outputId": "a72bcfe9-d641-4651-f94e-83d6726b01a1"
      },
      "execution_count": null,
      "outputs": [
        {
          "output_type": "execute_result",
          "data": {
            "text/plain": [
              "[<matplotlib.lines.Line2D at 0x7f698b25f670>]"
            ]
          },
          "metadata": {},
          "execution_count": 39
        },
        {
          "output_type": "display_data",
          "data": {
            "text/plain": [
              "<Figure size 432x288 with 1 Axes>"
            ],
            "image/png": "[encoded data removed]"
          },
          "metadata": {
            "needs_background": "light"
          }
        }
      ]
    },
    {
      "cell_type": "code",
      "source": [],
      "metadata": {
        "id": "bLeyEofr1rnY"
      },
      "execution_count": null,
      "outputs": []
    },
    {
      "cell_type": "markdown",
      "source": [
        "## Part 4"
      ],
      "metadata": {
        "id": "IOknQGTE-mKy"
      }
    },
    {
      "cell_type": "code",
      "source": [
        "# Augument the training data\n",
        "transform = transforms.Compose(\n",
        "    \n",
        "    [   \n",
        "        transforms.ToTensor(),\n",
        "        transforms.Resize((224, 224)),\n",
        "        transforms.RandomGrayscale(p=0.3),\n",
        "        transforms.RandomRotation(degrees = 45),\n",
        "        transforms.ColorJitter(brightness=0.75)\n",
        "    #  transforms.Normalize((0.5, 0.5, 0.5), (0.5, 0.5, 0.5))\n",
        "    \n",
        "     ])\n",
        "\n",
        "aug_dataset = CustomImageDataset(data,transform)\n",
        "augloader = torch.utils.data.DataLoader(final_dataset, sampler = train_sampler, batch_size=batch_size,num_workers=2)"
      ],
      "metadata": {
        "id": "6BtXOaJX-rhW"
      },
      "execution_count": null,
      "outputs": []
    },
    {
      "cell_type": "code",
      "source": [
        "model = CNN()\n",
        "model.to(device)"
      ],
      "metadata": {
        "colab": {
          "base_uri": "https://localhost:8080/"
        },
        "id": "jZUxLu8LuxGx",
        "outputId": "fda62ca8-45f1-4789-9732-cecf1e97778a"
      },
      "execution_count": null,
      "outputs": [
        {
          "output_type": "execute_result",
          "data": {
            "text/plain": [
              "CNN(\n",
              "  (conv1): Conv2d(3, 32, kernel_size=(3, 3), stride=(1, 1), padding=(1, 1))\n",
              "  (relu1): ReLU()\n",
              "  (conv2): Conv2d(32, 64, kernel_size=(3, 3), stride=(1, 1), padding=(1, 1))\n",
              "  (relu2): ReLU()\n",
              "  (fc1): Linear(in_features=65536, out_features=10, bias=True)\n",
              ")"
            ]
          },
          "metadata": {},
          "execution_count": 88
        }
      ]
    },
    {
      "cell_type": "code",
      "source": [
        "wandb.init(\n",
        "    # set the wandb project where this run will be logged\n",
        "    project=\"Q1\",\n",
        ")\n",
        "## command to log gradients to wandb\n",
        "wandb.watch(model)  ## pass name of model for which we want to log gradients, helps for analysis\n",
        "\n",
        "\n",
        "total_loss_train = []\n",
        "total_loss_validation = []\n",
        "\n",
        "\n",
        "## command to log gradients to wandb\n",
        "# wandb.watch(model)  ## pass name of model for which we want to log gradients, helps for analysis\n",
        "epochs = 10\n",
        "for epoch in range(epochs):  \n",
        "    # print(epoch + 1)\n",
        "    \n",
        "    batch_loss_train=0\n",
        "    batch_loss_val=0\n",
        "\n",
        "    num_batches = 0\n",
        "    correct = 0\n",
        "    total = 0\n",
        "    cnt=0\n",
        "    for i, data in enumerate(augloader, 0):\n",
        "        \n",
        "\n",
        "\n",
        "        inputs, labels = data\n",
        "        inputs, labels = inputs.to(device), labels.to(device)\n",
        "\n",
        "        optimizer.zero_grad()\n",
        "        outputs = model(inputs)\n",
        "        labels = labels.reshape((len(labels),))\n",
        "       \n",
        "        total += labels.size(0)\n",
        "        cnt+=1\n",
        "\n",
        "        train_pred = torch.max(outputs, 1).indices\n",
        "        correct += int(torch.sum(train_pred == labels))\n",
        "        \n",
        "        loss = criterion(outputs, labels)\n",
        "        loss.backward()\n",
        "        optimizer.step()\n",
        "\n",
        "        batch_loss_train+=loss.item()\n",
        "        running_loss = loss.item()\n",
        "        # print('[epoch, batch] =  [%d, %5d] loss: %.6f' %(epoch + 1, i, running_loss))\n",
        "        num_batches+=1\n",
        "        # print(num_batches)\n",
        "\n",
        "    batch_loss_train/=num_batches\n",
        "    acc = 100 * correct / total\n",
        "\n",
        "    wandb.log(\n",
        "          {\"train accuracy\" : acc,\"train loss\":batch_loss_train}\n",
        "          )\n",
        "\n",
        "    print(\"Trainging Accuracy \",acc)\n",
        "    print(\"Trianing Loss \",batch_loss_train)\n",
        "\n",
        "    total_loss_train.append(batch_loss_train)\n",
        "    \n",
        "    # Valdiation Loop\n",
        "    with torch.no_grad():\n",
        "      correct = 0\n",
        "      total = 0\n",
        "      cnt=0\n",
        "      # ✨ W&B: parameters\n",
        "      log_counter = 0\n",
        "      NUM_BATCHES_TO_LOG = 10\n",
        "      NUM_IMAGES_PER_BATCH = 64\n",
        "      i=-1\n",
        "      for data in valloader:\n",
        "          i+=1\n",
        "          inputs, labels = data\n",
        "          inputs, labels = inputs.to(device), labels.to(device)\n",
        "\n",
        "          # Get Prediction\n",
        "          outputs = model(inputs)\n",
        "\n",
        "          # Compute loss \n",
        "          total += labels.size(0)\n",
        "          cnt+=1\n",
        "          #labels = labels.float()\n",
        "          labels = labels.reshape((len(labels),))\n",
        "          \n",
        "          #print(outputs.shape)\n",
        "          loss_val = criterion(outputs, labels)\n",
        "          batch_loss_val += loss_val.item()\n",
        "          \n",
        "\n",
        "          out_cpu = outputs.cpu()\n",
        "          predicted = [np.argmax(x) for x in out_cpu]\n",
        "          predicted = torch.Tensor(predicted).to(device)\n",
        "          correct += (predicted == labels).sum().item()\n",
        "\n",
        "  \n",
        "      acc = 100 * correct / total\n",
        "      total_loss_validation += [batch_loss_val/cnt]\n",
        "      # ✨ W&B: Log accuracy across training epochs, to visualize in the UI\n",
        "     \n",
        "\n",
        "      print(\"Validation loss is \",batch_loss_val/cnt)\n",
        "      print(\"Validation Acc is \", acc)\n",
        "\n",
        "      wandb.log(\n",
        "          {\"val accuracy\" :acc ,\"val loss\":batch_loss_val/cnt}\n",
        "          )\n",
        "\n",
        "print('Finished Training')"
      ],
      "metadata": {
        "colab": {
          "base_uri": "https://localhost:8080/",
          "height": 756,
          "referenced_widgets": [
            "cedb921e9c0c4a27b7899cd09a47e09d",
            "e90d30f798e641f5805d864469a263e7",
            "96e0ee8d14fe453a9393c1e8363089d8",
            "cb5357adb4b24802a1ab5b0371e8d7b1",
            "077897d33641412e949af3cf327087ab",
            "676a03f7ae16459dbbcfe47741b542b0",
            "418be1f7fb64432aa526dd6993b3c9fa",
            "cf36919f510f492fb4a160434b186344"
          ]
        },
        "id": "aow0HACXJP8L",
        "outputId": "c69e4611-90ce-42a6-fa09-e15e72efb402"
      },
      "execution_count": null,
      "outputs": [
        {
          "output_type": "display_data",
          "data": {
            "text/plain": [
              "<IPython.core.display.HTML object>"
            ],
            "text/html": [
              "Finishing last run (ID:xpnk1ymj) before initializing another..."
            ]
          },
          "metadata": {}
        },
        {
          "output_type": "display_data",
          "data": {
            "text/plain": [
              "<IPython.core.display.HTML object>"
            ],
            "text/html": [
              "Waiting for W&B process to finish... <strong style=\"color:green\">(success).</strong>"
            ]
          },
          "metadata": {}
        },
        {
          "output_type": "stream",
          "name": "stderr",
          "text": [
            "\u001b[34m\u001b[1mwandb\u001b[0m: \u001b[32m\u001b[41mERROR\u001b[0m Control-C detected -- Run data was not synced\n"
          ]
        },
        {
          "output_type": "display_data",
          "data": {
            "text/plain": [
              "<IPython.core.display.HTML object>"
            ],
            "text/html": [
              "Successfully finished last run (ID:xpnk1ymj). Initializing new run:<br/>"
            ]
          },
          "metadata": {}
        },
        {
          "output_type": "display_data",
          "data": {
            "text/plain": [
              "VBox(children=(Label(value='Waiting for wandb.init()...\\r'), FloatProgress(value=0.016670416800025123, max=1.0…"
            ],
            "application/vnd.jupyter.widget-view+json": {
              "version_major": 2,
              "version_minor": 0,
              "model_id": "cedb921e9c0c4a27b7899cd09a47e09d"
            }
          },
          "metadata": {}
        },
        {
          "output_type": "stream",
          "name": "stdout",
          "text": [
            "Problem at: <ipython-input-89-aefcf6b469b1> 1 <module>\n"
          ]
        },
        {
          "output_type": "stream",
          "name": "stderr",
          "text": [
            "Traceback (most recent call last):\n",
            "  File \"/usr/local/lib/python3.8/dist-packages/wandb/sdk/wandb_init.py\", line 1133, in init\n",
            "    run = wi.init()\n",
            "  File \"/usr/local/lib/python3.8/dist-packages/wandb/sdk/wandb_init.py\", line 759, in init\n",
            "    raise error\n",
            "wandb.errors.CommError: Error communicating with wandb process, exiting...\n",
            "For more info see: https://docs.wandb.ai/library/init#init-start-error\n",
            "\u001b[34m\u001b[1mwandb\u001b[0m: \u001b[32m\u001b[41mERROR\u001b[0m Abnormal program exit\n"
          ]
        },
        {
          "output_type": "error",
          "ename": "Exception",
          "evalue": "ignored",
          "traceback": [
            "\u001b[0;31m---------------------------------------------------------------------------\u001b[0m",
            "\u001b[0;31mCommError\u001b[0m                                 Traceback (most recent call last)",
            "\u001b[0;32m/usr/local/lib/python3.8/dist-packages/wandb/sdk/wandb_init.py\u001b[0m in \u001b[0;36minit\u001b[0;34m(job_type, dir, config, project, entity, reinit, tags, group, name, notes, magic, config_exclude_keys, config_include_keys, anonymous, mode, allow_val_change, resume, force, tensorboard, sync_tensorboard, monitor_gym, save_code, id, settings)\u001b[0m\n\u001b[1;32m   1132\u001b[0m         \u001b[0;32mtry\u001b[0m\u001b[0;34m:\u001b[0m\u001b[0;34m\u001b[0m\u001b[0;34m\u001b[0m\u001b[0m\n\u001b[0;32m-> 1133\u001b[0;31m             \u001b[0mrun\u001b[0m \u001b[0;34m=\u001b[0m \u001b[0mwi\u001b[0m\u001b[0;34m.\u001b[0m\u001b[0minit\u001b[0m\u001b[0;34m(\u001b[0m\u001b[0;34m)\u001b[0m\u001b[0;34m\u001b[0m\u001b[0;34m\u001b[0m\u001b[0m\n\u001b[0m\u001b[1;32m   1134\u001b[0m             \u001b[0mexcept_exit\u001b[0m \u001b[0;34m=\u001b[0m \u001b[0mwi\u001b[0m\u001b[0;34m.\u001b[0m\u001b[0msettings\u001b[0m\u001b[0;34m.\u001b[0m\u001b[0m_except_exit\u001b[0m\u001b[0;34m\u001b[0m\u001b[0;34m\u001b[0m\u001b[0m\n",
            "\u001b[0;32m/usr/local/lib/python3.8/dist-packages/wandb/sdk/wandb_init.py\u001b[0m in \u001b[0;36minit\u001b[0;34m(self)\u001b[0m\n\u001b[1;32m    758\u001b[0m                     \u001b[0mself\u001b[0m\u001b[0;34m.\u001b[0m\u001b[0mteardown\u001b[0m\u001b[0;34m(\u001b[0m\u001b[0;34m)\u001b[0m\u001b[0;34m\u001b[0m\u001b[0;34m\u001b[0m\u001b[0m\n\u001b[0;32m--> 759\u001b[0;31m                 \u001b[0;32mraise\u001b[0m \u001b[0merror\u001b[0m\u001b[0;34m\u001b[0m\u001b[0;34m\u001b[0m\u001b[0m\n\u001b[0m\u001b[1;32m    760\u001b[0m \u001b[0;34m\u001b[0m\u001b[0m\n",
            "\u001b[0;31mCommError\u001b[0m: Error communicating with wandb process, exiting...\nFor more info see: https://docs.wandb.ai/library/init#init-start-error",
            "\nThe above exception was the direct cause of the following exception:\n",
            "\u001b[0;31mException\u001b[0m                                 Traceback (most recent call last)",
            "\u001b[0;32m<ipython-input-89-aefcf6b469b1>\u001b[0m in \u001b[0;36m<module>\u001b[0;34m\u001b[0m\n\u001b[0;32m----> 1\u001b[0;31m wandb.init(\n\u001b[0m\u001b[1;32m      2\u001b[0m     \u001b[0;31m# set the wandb project where this run will be logged\u001b[0m\u001b[0;34m\u001b[0m\u001b[0;34m\u001b[0m\u001b[0;34m\u001b[0m\u001b[0m\n\u001b[1;32m      3\u001b[0m     \u001b[0mproject\u001b[0m\u001b[0;34m=\u001b[0m\u001b[0;34m\"Q1\"\u001b[0m\u001b[0;34m,\u001b[0m\u001b[0;34m\u001b[0m\u001b[0;34m\u001b[0m\u001b[0m\n\u001b[1;32m      4\u001b[0m )\n\u001b[1;32m      5\u001b[0m \u001b[0;31m## command to log gradients to wandb\u001b[0m\u001b[0;34m\u001b[0m\u001b[0;34m\u001b[0m\u001b[0;34m\u001b[0m\u001b[0m\n",
            "\u001b[0;32m/usr/local/lib/python3.8/dist-packages/wandb/sdk/wandb_init.py\u001b[0m in \u001b[0;36minit\u001b[0;34m(job_type, dir, config, project, entity, reinit, tags, group, name, notes, magic, config_exclude_keys, config_include_keys, anonymous, mode, allow_val_change, resume, force, tensorboard, sync_tensorboard, monitor_gym, save_code, id, settings)\u001b[0m\n\u001b[1;32m   1168\u001b[0m             \u001b[0;32mif\u001b[0m \u001b[0mexcept_exit\u001b[0m\u001b[0;34m:\u001b[0m\u001b[0;34m\u001b[0m\u001b[0;34m\u001b[0m\u001b[0m\n\u001b[1;32m   1169\u001b[0m                 \u001b[0mos\u001b[0m\u001b[0;34m.\u001b[0m\u001b[0m_exit\u001b[0m\u001b[0;34m(\u001b[0m\u001b[0;36m1\u001b[0m\u001b[0;34m)\u001b[0m\u001b[0;34m\u001b[0m\u001b[0;34m\u001b[0m\u001b[0m\n\u001b[0;32m-> 1170\u001b[0;31m             \u001b[0;32mraise\u001b[0m \u001b[0mException\u001b[0m\u001b[0;34m(\u001b[0m\u001b[0;34m\"problem\"\u001b[0m\u001b[0;34m)\u001b[0m \u001b[0;32mfrom\u001b[0m \u001b[0merror_seen\u001b[0m\u001b[0;34m\u001b[0m\u001b[0;34m\u001b[0m\u001b[0m\n\u001b[0m\u001b[1;32m   1171\u001b[0m     \u001b[0;32mreturn\u001b[0m \u001b[0mrun\u001b[0m\u001b[0;34m\u001b[0m\u001b[0;34m\u001b[0m\u001b[0m\n",
            "\u001b[0;31mException\u001b[0m: problem"
          ]
        }
      ]
    },
    {
      "cell_type": "code",
      "source": [
        "# testing\n",
        "true = torch.tensor([]).to(device)\n",
        "pred = torch.tensor([]).to(device)\n",
        "\n",
        "\n",
        "from torchmetrics.classification import F1Score\n",
        "# print(f1_true)\n",
        "# print(f1_pred)\n",
        "\n",
        "\n",
        "true_val = torch.tensor([]).to(device)\n",
        "pred_val = torch.tensor([]).to(device)\n",
        "ll = 0\n",
        "\n",
        "with torch.no_grad():\n",
        "      correct = 0\n",
        "      total = 0\n",
        "      cnt=0\n",
        "      # ✨ W&B: parameters\n",
        "      log_counter = 0\n",
        "      NUM_BATCHES_TO_LOG = 10\n",
        "      NUM_IMAGES_PER_BATCH = 64\n",
        "      i=-1\n",
        "      for data in testloader:\n",
        "          i+=1\n",
        "          inputs, labels = data\n",
        "          inputs, labels = inputs.to(device), labels.to(device)\n",
        "\n",
        "          # Get Prediction\n",
        "          outputs = model(inputs)\n",
        "\n",
        "          # Compute loss \n",
        "          total += labels.size(0)\n",
        "          cnt+=1\n",
        "          #labels = labels.float()\n",
        "          labels = labels.reshape((len(labels),))\n",
        "          \n",
        "          #print(outputs.shape)\n",
        "          loss_val = criterion(outputs, labels)\n",
        "          batch_loss_val += loss_val.item()\n",
        "          \n",
        "\n",
        "          out_cpu = outputs.cpu()\n",
        "          predicted = [np.argmax(x) for x in out_cpu]\n",
        "          predicted = torch.Tensor(predicted).to(device)\n",
        "          correct += (predicted == labels).sum().item()\n",
        "\n",
        "          true_val = torch.cat((true_val, labels))\n",
        "          pred_val = torch.cat((pred_val, predicted))\n",
        "\n",
        "          ll+=len(labels)\n",
        "  \n",
        "      acc = 100 * correct / total\n",
        "      total_loss_validation += [batch_loss_val/cnt]\n",
        "\n",
        "      \n",
        "      # ✨ W&B: Log accuracy across training epochs, to visualize in the UI\n",
        "     \n",
        "\n",
        "\n",
        "f1 = F1Score(task=\"multiclass\", num_classes=10)\n",
        "print(f1(pred_val.cpu(), true_val.cpu()))\n",
        "# print(test_accuracy_epoch*100)\n",
        "print(acc)      \n",
        "print('Finished Testing...')"
      ],
      "metadata": {
        "id": "McWxz3uCG-aP",
        "colab": {
          "base_uri": "https://localhost:8080/"
        },
        "outputId": "092f518d-97cc-4ad8-c5c5-fa54b602a30b"
      },
      "execution_count": null,
      "outputs": [
        {
          "output_type": "stream",
          "name": "stdout",
          "text": [
            "tensor(0.8426)\n",
            "84.25938566552901\n",
            "Finished Testing...\n"
          ]
        }
      ]
    },
    {
      "cell_type": "code",
      "source": [
        "all_labels = [0,1,2,3,4,5,6,7,8,9]\n",
        "# preds = pred_val.cpu().numpy().astype(int)\n",
        "# y_true = true_val.cpu().numpy().astype(int)\n",
        "preds = []\n",
        "y_true = []\n",
        "for i in pred_val.cpu():\n",
        "    preds.append((int(i.item())))\n",
        "for i in true_val.cpu():\n",
        "    y_true.append((int(i.item())))\n",
        "\n",
        "wandb.log({\"my_conf_mat_id\" : wandb.plot.confusion_matrix( \n",
        "            preds=preds, y_true=y_true,\n",
        "            class_names=all_labels)})"
      ],
      "metadata": {
        "id": "92z76klStPW-"
      },
      "execution_count": null,
      "outputs": []
    },
    {
      "cell_type": "code",
      "source": [],
      "metadata": {
        "id": "DPBk54gutVR9"
      },
      "execution_count": null,
      "outputs": []
    }
  ]
}